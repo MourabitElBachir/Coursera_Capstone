{
 "cells": [
  {
   "cell_type": "markdown",
   "metadata": {},
   "source": [
    "# Capstone Project - The Battle of Neighborhoods\n",
    "\n",
    "## Code Notebook\n",
    "\n",
    "**By :** MOURABIT El Bachir"
   ]
  },
  {
   "cell_type": "markdown",
   "metadata": {},
   "source": [
    "## 1. Create and Explore Dataset"
   ]
  },
  {
   "cell_type": "markdown",
   "metadata": {},
   "source": [
    "### 1.1- Imports and Initialization\n",
    "\n",
    "Before we get the data and start exploring it, let's download all the dependencies that we will need."
   ]
  },
  {
   "cell_type": "code",
   "execution_count": 1,
   "metadata": {},
   "outputs": [
    {
     "name": "stdout",
     "output_type": "stream",
     "text": [
      "Matplotlib version:  2.1.2\n"
     ]
    }
   ],
   "source": [
    "# Import dependencies\n",
    "import requests # library to handle requests\n",
    "from bs4 import BeautifulSoup # website scraping librarie \n",
    "\n",
    "import numpy as np\n",
    "\n",
    "import pandas as pd\n",
    "\n",
    "import json # library to handle JSON files\n",
    "\n",
    "# !conda install -c conda-forge geopy --yes # uncomment this line if you haven't geopy installed\n",
    "from geopy.geocoders import Nominatim # convert an address into latitude and longitude values\n",
    "\n",
    "# !conda install -c conda-forge folium=0.5.0 --yes # uncomment this line if you haven't folium installed\n",
    "import folium # map rendering library\n",
    "\n",
    "from pandas.io.json import json_normalize # tranform JSON file into a pandas dataframe\n",
    "\n",
    "# import k-means from clustering stage\n",
    "from sklearn.cluster import KMeans\n",
    "\n",
    "# Matplotlib and associated plotting modules\n",
    "import matplotlib.cm as cm\n",
    "import matplotlib.colors as colors\n",
    "\n",
    "# use the inline backend to generate the plots within the browser\n",
    "%matplotlib inline \n",
    "\n",
    "import matplotlib as mpl\n",
    "import matplotlib.pyplot as plt\n",
    "\n",
    "mpl.style.use('ggplot') # optional: for ggplot-like style\n",
    "\n",
    "# check for latest version of Matplotlib\n",
    "print ('Matplotlib version: ', mpl.__version__) # >= 2.0.0"
   ]
  },
  {
   "cell_type": "markdown",
   "metadata": {},
   "source": [
    "Let's import **Plotly** library that provides online graphing, analytics, and statistics tools for individuals and collaboration, as well as scientific graphing libraries for Python.\n",
    "\n",
    "Also we need **Cufflinks**, a library for easy interactive Pandas charting with Plotly."
   ]
  },
  {
   "cell_type": "code",
   "execution_count": 2,
   "metadata": {},
   "outputs": [],
   "source": [
    "# plotly and associated plotting modules\n",
    "import plotly as py\n",
    "import plotly.plotly as ppy\n",
    "import plotly.graph_objs as go\n",
    "import plotly.figure_factory as ff\n",
    "# cufflings and associated plotting modules \n",
    "import cufflinks as cf \n",
    "\n",
    "cf.set_config_file(world_readable=True)"
   ]
  },
  {
   "cell_type": "code",
   "execution_count": 3,
   "metadata": {},
   "outputs": [],
   "source": [
    "# Write your Plotly credentials in the function below\n",
    "py.tools.set_credentials_file(username='#############################', api_key='#############################')"
   ]
  },
  {
   "cell_type": "code",
   "execution_count": 4,
   "metadata": {},
   "outputs": [],
   "source": [
    "# To display Maps well in chrome :\n",
    "def embed_map(m, widthVal='100%', heightVal='600px'):\n",
    "    from IPython.display import IFrame\n",
    "\n",
    "    m.save('index.html')\n",
    "    return IFrame('index.html', width=widthVal, height=heightVal)"
   ]
  },
  {
   "cell_type": "markdown",
   "metadata": {},
   "source": [
    "### 1.2- Exploring Paris City Dataset\n",
    "#### Getting Boroughs"
   ]
  },
  {
   "cell_type": "markdown",
   "metadata": {},
   "source": [
    "Getting data directly from local .csv file prepared from sources of data explained in the full report\n",
    "\n",
    "- Source of Paris's Boroughs Dataset : https://opendata.paris.fr/explore/dataset/arrondissements/information/"
   ]
  },
  {
   "cell_type": "code",
   "execution_count": 5,
   "metadata": {},
   "outputs": [
    {
     "data": {
      "text/html": [
       "<div>\n",
       "<style scoped>\n",
       "    .dataframe tbody tr th:only-of-type {\n",
       "        vertical-align: middle;\n",
       "    }\n",
       "\n",
       "    .dataframe tbody tr th {\n",
       "        vertical-align: top;\n",
       "    }\n",
       "\n",
       "    .dataframe thead th {\n",
       "        text-align: right;\n",
       "    }\n",
       "</style>\n",
       "<table border=\"1\" class=\"dataframe\">\n",
       "  <thead>\n",
       "    <tr style=\"text-align: right;\">\n",
       "      <th></th>\n",
       "      <th>N_SQ_AR</th>\n",
       "      <th>C_AR</th>\n",
       "      <th>C_ARINSEE</th>\n",
       "      <th>L_AR</th>\n",
       "      <th>L_AROFF</th>\n",
       "      <th>N_SQ_CO</th>\n",
       "      <th>SURFACE</th>\n",
       "      <th>PERIMETRE</th>\n",
       "      <th>Geometry X Y</th>\n",
       "      <th>Geometry</th>\n",
       "      <th>OBJECTID</th>\n",
       "      <th>LONGUEUR</th>\n",
       "    </tr>\n",
       "  </thead>\n",
       "  <tbody>\n",
       "    <tr>\n",
       "      <th>0</th>\n",
       "      <td>750000002</td>\n",
       "      <td>2</td>\n",
       "      <td>75102</td>\n",
       "      <td>2ème Ardt</td>\n",
       "      <td>Bourse</td>\n",
       "      <td>750001537</td>\n",
       "      <td>9.911537e+05</td>\n",
       "      <td>4554.104360</td>\n",
       "      <td>48.8682792225, 2.34280254689</td>\n",
       "      <td>{\"type\": \"Polygon\", \"coordinates\": [[[2.351518...</td>\n",
       "      <td>2</td>\n",
       "      <td>4553.938764</td>\n",
       "    </tr>\n",
       "    <tr>\n",
       "      <th>1</th>\n",
       "      <td>750000003</td>\n",
       "      <td>3</td>\n",
       "      <td>75103</td>\n",
       "      <td>3ème Ardt</td>\n",
       "      <td>Temple</td>\n",
       "      <td>750001537</td>\n",
       "      <td>1.170883e+06</td>\n",
       "      <td>4519.263648</td>\n",
       "      <td>48.86287238, 2.3600009859</td>\n",
       "      <td>{\"type\": \"Polygon\", \"coordinates\": [[[2.363828...</td>\n",
       "      <td>3</td>\n",
       "      <td>4519.071982</td>\n",
       "    </tr>\n",
       "    <tr>\n",
       "      <th>2</th>\n",
       "      <td>750000012</td>\n",
       "      <td>12</td>\n",
       "      <td>75112</td>\n",
       "      <td>12ème Ardt</td>\n",
       "      <td>Reuilly</td>\n",
       "      <td>750001537</td>\n",
       "      <td>1.631478e+07</td>\n",
       "      <td>24089.666298</td>\n",
       "      <td>48.8349743815, 2.42132490078</td>\n",
       "      <td>{\"type\": \"Polygon\", \"coordinates\": [[[2.413879...</td>\n",
       "      <td>12</td>\n",
       "      <td>24088.038922</td>\n",
       "    </tr>\n",
       "    <tr>\n",
       "      <th>3</th>\n",
       "      <td>750000001</td>\n",
       "      <td>1</td>\n",
       "      <td>75101</td>\n",
       "      <td>1er Ardt</td>\n",
       "      <td>Louvre</td>\n",
       "      <td>750001537</td>\n",
       "      <td>1.824613e+06</td>\n",
       "      <td>6054.936862</td>\n",
       "      <td>48.8625627018, 2.33644336205</td>\n",
       "      <td>{\"type\": \"Polygon\", \"coordinates\": [[[2.328007...</td>\n",
       "      <td>1</td>\n",
       "      <td>6054.680862</td>\n",
       "    </tr>\n",
       "    <tr>\n",
       "      <th>4</th>\n",
       "      <td>750000004</td>\n",
       "      <td>4</td>\n",
       "      <td>75104</td>\n",
       "      <td>4ème Ardt</td>\n",
       "      <td>Hôtel-de-Ville</td>\n",
       "      <td>750001537</td>\n",
       "      <td>1.600586e+06</td>\n",
       "      <td>5420.908434</td>\n",
       "      <td>48.8543414263, 2.35762962032</td>\n",
       "      <td>{\"type\": \"Polygon\", \"coordinates\": [[[2.368512...</td>\n",
       "      <td>4</td>\n",
       "      <td>5420.636779</td>\n",
       "    </tr>\n",
       "  </tbody>\n",
       "</table>\n",
       "</div>"
      ],
      "text/plain": [
       "     N_SQ_AR  C_AR  C_ARINSEE        L_AR         L_AROFF    N_SQ_CO  \\\n",
       "0  750000002     2      75102   2ème Ardt          Bourse  750001537   \n",
       "1  750000003     3      75103   3ème Ardt          Temple  750001537   \n",
       "2  750000012    12      75112  12ème Ardt         Reuilly  750001537   \n",
       "3  750000001     1      75101    1er Ardt          Louvre  750001537   \n",
       "4  750000004     4      75104   4ème Ardt  Hôtel-de-Ville  750001537   \n",
       "\n",
       "        SURFACE     PERIMETRE                  Geometry X Y  \\\n",
       "0  9.911537e+05   4554.104360  48.8682792225, 2.34280254689   \n",
       "1  1.170883e+06   4519.263648     48.86287238, 2.3600009859   \n",
       "2  1.631478e+07  24089.666298  48.8349743815, 2.42132490078   \n",
       "3  1.824613e+06   6054.936862  48.8625627018, 2.33644336205   \n",
       "4  1.600586e+06   5420.908434  48.8543414263, 2.35762962032   \n",
       "\n",
       "                                            Geometry  OBJECTID      LONGUEUR  \n",
       "0  {\"type\": \"Polygon\", \"coordinates\": [[[2.351518...         2   4553.938764  \n",
       "1  {\"type\": \"Polygon\", \"coordinates\": [[[2.363828...         3   4519.071982  \n",
       "2  {\"type\": \"Polygon\", \"coordinates\": [[[2.413879...        12  24088.038922  \n",
       "3  {\"type\": \"Polygon\", \"coordinates\": [[[2.328007...         1   6054.680862  \n",
       "4  {\"type\": \"Polygon\", \"coordinates\": [[[2.368512...         4   5420.636779  "
      ]
     },
     "execution_count": 5,
     "metadata": {},
     "output_type": "execute_result"
    }
   ],
   "source": [
    "df_paris_boroughs_base = pd.read_csv('paris_boroughs.csv', delimiter=';', encoding = 'utf8')\n",
    "df_paris_boroughs_base.head()"
   ]
  },
  {
   "cell_type": "code",
   "execution_count": 6,
   "metadata": {},
   "outputs": [
    {
     "data": {
      "text/html": [
       "<div>\n",
       "<style scoped>\n",
       "    .dataframe tbody tr th:only-of-type {\n",
       "        vertical-align: middle;\n",
       "    }\n",
       "\n",
       "    .dataframe tbody tr th {\n",
       "        vertical-align: top;\n",
       "    }\n",
       "\n",
       "    .dataframe thead th {\n",
       "        text-align: right;\n",
       "    }\n",
       "</style>\n",
       "<table border=\"1\" class=\"dataframe\">\n",
       "  <thead>\n",
       "    <tr style=\"text-align: right;\">\n",
       "      <th></th>\n",
       "      <th>C_AR</th>\n",
       "      <th>L_AROFF</th>\n",
       "      <th>Geometry X Y</th>\n",
       "    </tr>\n",
       "  </thead>\n",
       "  <tbody>\n",
       "    <tr>\n",
       "      <th>0</th>\n",
       "      <td>2</td>\n",
       "      <td>Bourse</td>\n",
       "      <td>48.8682792225, 2.34280254689</td>\n",
       "    </tr>\n",
       "    <tr>\n",
       "      <th>1</th>\n",
       "      <td>3</td>\n",
       "      <td>Temple</td>\n",
       "      <td>48.86287238, 2.3600009859</td>\n",
       "    </tr>\n",
       "    <tr>\n",
       "      <th>2</th>\n",
       "      <td>12</td>\n",
       "      <td>Reuilly</td>\n",
       "      <td>48.8349743815, 2.42132490078</td>\n",
       "    </tr>\n",
       "    <tr>\n",
       "      <th>3</th>\n",
       "      <td>1</td>\n",
       "      <td>Louvre</td>\n",
       "      <td>48.8625627018, 2.33644336205</td>\n",
       "    </tr>\n",
       "    <tr>\n",
       "      <th>4</th>\n",
       "      <td>4</td>\n",
       "      <td>Hôtel-de-Ville</td>\n",
       "      <td>48.8543414263, 2.35762962032</td>\n",
       "    </tr>\n",
       "  </tbody>\n",
       "</table>\n",
       "</div>"
      ],
      "text/plain": [
       "   C_AR         L_AROFF                  Geometry X Y\n",
       "0     2          Bourse  48.8682792225, 2.34280254689\n",
       "1     3          Temple     48.86287238, 2.3600009859\n",
       "2    12         Reuilly  48.8349743815, 2.42132490078\n",
       "3     1          Louvre  48.8625627018, 2.33644336205\n",
       "4     4  Hôtel-de-Ville  48.8543414263, 2.35762962032"
      ]
     },
     "execution_count": 6,
     "metadata": {},
     "output_type": "execute_result"
    }
   ],
   "source": [
    "df_paris_boroughs_base[['C_AR', 'L_AROFF', 'Geometry X Y']].head()"
   ]
  },
  {
   "cell_type": "code",
   "execution_count": 7,
   "metadata": {},
   "outputs": [],
   "source": [
    "df_paris_boroughs_base[['Latitude', 'Longitude']] = pd.DataFrame(np.array(list(map(lambda x: x.split(\",\"), \n",
    "                                                                                   df_paris_boroughs_base['Geometry X Y']))))"
   ]
  },
  {
   "cell_type": "code",
   "execution_count": 8,
   "metadata": {},
   "outputs": [
    {
     "data": {
      "text/plain": [
       "N_SQ_AR           int64\n",
       "C_AR              int64\n",
       "C_ARINSEE         int64\n",
       "L_AR             object\n",
       "L_AROFF          object\n",
       "N_SQ_CO           int64\n",
       "SURFACE         float64\n",
       "PERIMETRE       float64\n",
       "Geometry X Y     object\n",
       "Geometry         object\n",
       "OBJECTID          int64\n",
       "LONGUEUR        float64\n",
       "Latitude         object\n",
       "Longitude        object\n",
       "dtype: object"
      ]
     },
     "execution_count": 8,
     "metadata": {},
     "output_type": "execute_result"
    }
   ],
   "source": [
    "df_paris_boroughs_base.dtypes"
   ]
  },
  {
   "cell_type": "code",
   "execution_count": 9,
   "metadata": {},
   "outputs": [
    {
     "data": {
      "text/plain": [
       "N_SQ_AR           int64\n",
       "C_AR              int64\n",
       "C_ARINSEE         int64\n",
       "L_AR             object\n",
       "L_AROFF          object\n",
       "N_SQ_CO           int64\n",
       "SURFACE         float64\n",
       "PERIMETRE       float64\n",
       "Geometry X Y     object\n",
       "Geometry         object\n",
       "OBJECTID          int64\n",
       "LONGUEUR        float64\n",
       "Latitude        float64\n",
       "Longitude       float64\n",
       "dtype: object"
      ]
     },
     "execution_count": 9,
     "metadata": {},
     "output_type": "execute_result"
    }
   ],
   "source": [
    "df_paris_boroughs_base[['Latitude', 'Longitude']] = df_paris_boroughs_base[['Latitude', 'Longitude']].astype(float)\n",
    "df_paris_boroughs_base.dtypes"
   ]
  },
  {
   "cell_type": "code",
   "execution_count": 10,
   "metadata": {},
   "outputs": [
    {
     "data": {
      "text/html": [
       "<div>\n",
       "<style scoped>\n",
       "    .dataframe tbody tr th:only-of-type {\n",
       "        vertical-align: middle;\n",
       "    }\n",
       "\n",
       "    .dataframe tbody tr th {\n",
       "        vertical-align: top;\n",
       "    }\n",
       "\n",
       "    .dataframe thead th {\n",
       "        text-align: right;\n",
       "    }\n",
       "</style>\n",
       "<table border=\"1\" class=\"dataframe\">\n",
       "  <thead>\n",
       "    <tr style=\"text-align: right;\">\n",
       "      <th></th>\n",
       "      <th>N_SQ_AR</th>\n",
       "      <th>C_AR</th>\n",
       "      <th>C_ARINSEE</th>\n",
       "      <th>L_AR</th>\n",
       "      <th>L_AROFF</th>\n",
       "      <th>N_SQ_CO</th>\n",
       "      <th>SURFACE</th>\n",
       "      <th>PERIMETRE</th>\n",
       "      <th>Geometry X Y</th>\n",
       "      <th>Geometry</th>\n",
       "      <th>OBJECTID</th>\n",
       "      <th>LONGUEUR</th>\n",
       "      <th>Latitude</th>\n",
       "      <th>Longitude</th>\n",
       "    </tr>\n",
       "  </thead>\n",
       "  <tbody>\n",
       "    <tr>\n",
       "      <th>0</th>\n",
       "      <td>750000002</td>\n",
       "      <td>2</td>\n",
       "      <td>75102</td>\n",
       "      <td>2ème Ardt</td>\n",
       "      <td>Bourse</td>\n",
       "      <td>750001537</td>\n",
       "      <td>9.911537e+05</td>\n",
       "      <td>4554.104360</td>\n",
       "      <td>48.8682792225, 2.34280254689</td>\n",
       "      <td>{\"type\": \"Polygon\", \"coordinates\": [[[2.351518...</td>\n",
       "      <td>2</td>\n",
       "      <td>4553.938764</td>\n",
       "      <td>48.868279</td>\n",
       "      <td>2.342803</td>\n",
       "    </tr>\n",
       "    <tr>\n",
       "      <th>1</th>\n",
       "      <td>750000003</td>\n",
       "      <td>3</td>\n",
       "      <td>75103</td>\n",
       "      <td>3ème Ardt</td>\n",
       "      <td>Temple</td>\n",
       "      <td>750001537</td>\n",
       "      <td>1.170883e+06</td>\n",
       "      <td>4519.263648</td>\n",
       "      <td>48.86287238, 2.3600009859</td>\n",
       "      <td>{\"type\": \"Polygon\", \"coordinates\": [[[2.363828...</td>\n",
       "      <td>3</td>\n",
       "      <td>4519.071982</td>\n",
       "      <td>48.862872</td>\n",
       "      <td>2.360001</td>\n",
       "    </tr>\n",
       "    <tr>\n",
       "      <th>2</th>\n",
       "      <td>750000012</td>\n",
       "      <td>12</td>\n",
       "      <td>75112</td>\n",
       "      <td>12ème Ardt</td>\n",
       "      <td>Reuilly</td>\n",
       "      <td>750001537</td>\n",
       "      <td>1.631478e+07</td>\n",
       "      <td>24089.666298</td>\n",
       "      <td>48.8349743815, 2.42132490078</td>\n",
       "      <td>{\"type\": \"Polygon\", \"coordinates\": [[[2.413879...</td>\n",
       "      <td>12</td>\n",
       "      <td>24088.038922</td>\n",
       "      <td>48.834974</td>\n",
       "      <td>2.421325</td>\n",
       "    </tr>\n",
       "    <tr>\n",
       "      <th>3</th>\n",
       "      <td>750000001</td>\n",
       "      <td>1</td>\n",
       "      <td>75101</td>\n",
       "      <td>1er Ardt</td>\n",
       "      <td>Louvre</td>\n",
       "      <td>750001537</td>\n",
       "      <td>1.824613e+06</td>\n",
       "      <td>6054.936862</td>\n",
       "      <td>48.8625627018, 2.33644336205</td>\n",
       "      <td>{\"type\": \"Polygon\", \"coordinates\": [[[2.328007...</td>\n",
       "      <td>1</td>\n",
       "      <td>6054.680862</td>\n",
       "      <td>48.862563</td>\n",
       "      <td>2.336443</td>\n",
       "    </tr>\n",
       "    <tr>\n",
       "      <th>4</th>\n",
       "      <td>750000004</td>\n",
       "      <td>4</td>\n",
       "      <td>75104</td>\n",
       "      <td>4ème Ardt</td>\n",
       "      <td>Hôtel-de-Ville</td>\n",
       "      <td>750001537</td>\n",
       "      <td>1.600586e+06</td>\n",
       "      <td>5420.908434</td>\n",
       "      <td>48.8543414263, 2.35762962032</td>\n",
       "      <td>{\"type\": \"Polygon\", \"coordinates\": [[[2.368512...</td>\n",
       "      <td>4</td>\n",
       "      <td>5420.636779</td>\n",
       "      <td>48.854341</td>\n",
       "      <td>2.357630</td>\n",
       "    </tr>\n",
       "  </tbody>\n",
       "</table>\n",
       "</div>"
      ],
      "text/plain": [
       "     N_SQ_AR  C_AR  C_ARINSEE        L_AR         L_AROFF    N_SQ_CO  \\\n",
       "0  750000002     2      75102   2ème Ardt          Bourse  750001537   \n",
       "1  750000003     3      75103   3ème Ardt          Temple  750001537   \n",
       "2  750000012    12      75112  12ème Ardt         Reuilly  750001537   \n",
       "3  750000001     1      75101    1er Ardt          Louvre  750001537   \n",
       "4  750000004     4      75104   4ème Ardt  Hôtel-de-Ville  750001537   \n",
       "\n",
       "        SURFACE     PERIMETRE                  Geometry X Y  \\\n",
       "0  9.911537e+05   4554.104360  48.8682792225, 2.34280254689   \n",
       "1  1.170883e+06   4519.263648     48.86287238, 2.3600009859   \n",
       "2  1.631478e+07  24089.666298  48.8349743815, 2.42132490078   \n",
       "3  1.824613e+06   6054.936862  48.8625627018, 2.33644336205   \n",
       "4  1.600586e+06   5420.908434  48.8543414263, 2.35762962032   \n",
       "\n",
       "                                            Geometry  OBJECTID      LONGUEUR  \\\n",
       "0  {\"type\": \"Polygon\", \"coordinates\": [[[2.351518...         2   4553.938764   \n",
       "1  {\"type\": \"Polygon\", \"coordinates\": [[[2.363828...         3   4519.071982   \n",
       "2  {\"type\": \"Polygon\", \"coordinates\": [[[2.413879...        12  24088.038922   \n",
       "3  {\"type\": \"Polygon\", \"coordinates\": [[[2.328007...         1   6054.680862   \n",
       "4  {\"type\": \"Polygon\", \"coordinates\": [[[2.368512...         4   5420.636779   \n",
       "\n",
       "    Latitude  Longitude  \n",
       "0  48.868279   2.342803  \n",
       "1  48.862872   2.360001  \n",
       "2  48.834974   2.421325  \n",
       "3  48.862563   2.336443  \n",
       "4  48.854341   2.357630  "
      ]
     },
     "execution_count": 10,
     "metadata": {},
     "output_type": "execute_result"
    }
   ],
   "source": [
    "df_paris_boroughs_base.head()"
   ]
  },
  {
   "cell_type": "code",
   "execution_count": 11,
   "metadata": {},
   "outputs": [
    {
     "data": {
      "text/html": [
       "<div>\n",
       "<style scoped>\n",
       "    .dataframe tbody tr th:only-of-type {\n",
       "        vertical-align: middle;\n",
       "    }\n",
       "\n",
       "    .dataframe tbody tr th {\n",
       "        vertical-align: top;\n",
       "    }\n",
       "\n",
       "    .dataframe thead th {\n",
       "        text-align: right;\n",
       "    }\n",
       "</style>\n",
       "<table border=\"1\" class=\"dataframe\">\n",
       "  <thead>\n",
       "    <tr style=\"text-align: right;\">\n",
       "      <th></th>\n",
       "      <th>Borough_ID</th>\n",
       "      <th>Borough</th>\n",
       "      <th>Latitude</th>\n",
       "      <th>Longitude</th>\n",
       "    </tr>\n",
       "  </thead>\n",
       "  <tbody>\n",
       "    <tr>\n",
       "      <th>0</th>\n",
       "      <td>1</td>\n",
       "      <td>Louvre</td>\n",
       "      <td>48.862563</td>\n",
       "      <td>2.336443</td>\n",
       "    </tr>\n",
       "    <tr>\n",
       "      <th>1</th>\n",
       "      <td>2</td>\n",
       "      <td>Bourse</td>\n",
       "      <td>48.868279</td>\n",
       "      <td>2.342803</td>\n",
       "    </tr>\n",
       "    <tr>\n",
       "      <th>2</th>\n",
       "      <td>3</td>\n",
       "      <td>Temple</td>\n",
       "      <td>48.862872</td>\n",
       "      <td>2.360001</td>\n",
       "    </tr>\n",
       "    <tr>\n",
       "      <th>3</th>\n",
       "      <td>4</td>\n",
       "      <td>Hôtel-de-Ville</td>\n",
       "      <td>48.854341</td>\n",
       "      <td>2.357630</td>\n",
       "    </tr>\n",
       "    <tr>\n",
       "      <th>4</th>\n",
       "      <td>5</td>\n",
       "      <td>Panthéon</td>\n",
       "      <td>48.844443</td>\n",
       "      <td>2.350715</td>\n",
       "    </tr>\n",
       "  </tbody>\n",
       "</table>\n",
       "</div>"
      ],
      "text/plain": [
       "   Borough_ID         Borough   Latitude  Longitude\n",
       "0           1          Louvre  48.862563   2.336443\n",
       "1           2          Bourse  48.868279   2.342803\n",
       "2           3          Temple  48.862872   2.360001\n",
       "3           4  Hôtel-de-Ville  48.854341   2.357630\n",
       "4           5        Panthéon  48.844443   2.350715"
      ]
     },
     "execution_count": 11,
     "metadata": {},
     "output_type": "execute_result"
    }
   ],
   "source": [
    "df_paris_boroughs = df_paris_boroughs_base.loc[:, ['C_AR', 'L_AROFF', 'Latitude', 'Longitude']]\n",
    "df_paris_boroughs[['C_AR']] = df_paris_boroughs[['C_AR']].astype(int)\n",
    "df_paris_boroughs.sort_values(\"C_AR\", inplace=True)\n",
    "df_paris_boroughs.reset_index(drop=True, inplace=True)\n",
    "df_paris_boroughs.rename(columns={'C_AR': 'Borough_ID', 'L_AROFF': 'Borough'}, inplace=True)\n",
    "df_paris_boroughs.head()"
   ]
  },
  {
   "cell_type": "code",
   "execution_count": 12,
   "metadata": {},
   "outputs": [
    {
     "data": {
      "text/plain": [
       "(20, 4)"
      ]
     },
     "execution_count": 12,
     "metadata": {},
     "output_type": "execute_result"
    }
   ],
   "source": [
    "df_paris_boroughs.shape"
   ]
  },
  {
   "cell_type": "markdown",
   "metadata": {},
   "source": [
    "#### Getting Neighborhoods\n",
    "\n",
    "Getting data directly from local .json file prepared from sources of data explained in the full report\n",
    "\n",
    "- Source of Paris's Neighborhoods Dataset : https://opendata.paris.fr/explore/dataset/quartier_paris/information/"
   ]
  },
  {
   "cell_type": "code",
   "execution_count": 13,
   "metadata": {},
   "outputs": [],
   "source": [
    "with open('paris_neighborhoods.json') as json_data:\n",
    "    paris_neighborhoods_data = json.load(json_data)"
   ]
  },
  {
   "cell_type": "code",
   "execution_count": 14,
   "metadata": {},
   "outputs": [
    {
     "data": {
      "text/html": [
       "<div>\n",
       "<style scoped>\n",
       "    .dataframe tbody tr th:only-of-type {\n",
       "        vertical-align: middle;\n",
       "    }\n",
       "\n",
       "    .dataframe tbody tr th {\n",
       "        vertical-align: top;\n",
       "    }\n",
       "\n",
       "    .dataframe thead th {\n",
       "        text-align: right;\n",
       "    }\n",
       "</style>\n",
       "<table border=\"1\" class=\"dataframe\">\n",
       "  <thead>\n",
       "    <tr style=\"text-align: right;\">\n",
       "      <th></th>\n",
       "      <th>Borough_ID</th>\n",
       "      <th>Neighborhood</th>\n",
       "      <th>Latitude</th>\n",
       "      <th>Longitude</th>\n",
       "    </tr>\n",
       "  </thead>\n",
       "  <tbody>\n",
       "  </tbody>\n",
       "</table>\n",
       "</div>"
      ],
      "text/plain": [
       "Empty DataFrame\n",
       "Columns: [Borough_ID, Neighborhood, Latitude, Longitude]\n",
       "Index: []"
      ]
     },
     "execution_count": 14,
     "metadata": {},
     "output_type": "execute_result"
    }
   ],
   "source": [
    "# define the dataframe columns\n",
    "column_names = ['Borough_ID', 'Neighborhood', 'Latitude', 'Longitude'] \n",
    "\n",
    "# instantiate the dataframe\n",
    "paris_neighborhoods_base = pd.DataFrame(columns=column_names)\n",
    "paris_neighborhoods_base"
   ]
  },
  {
   "cell_type": "code",
   "execution_count": 15,
   "metadata": {},
   "outputs": [],
   "source": [
    "# Obtain Paris's neighborhoods Dataframe from data extracted from Json\n",
    "\n",
    "for data in paris_neighborhoods_data:\n",
    "    borough_id = data['fields']['nar'] \n",
    "    neighborhood_name = data['fields']['nom_quart']\n",
    "        \n",
    "    neighborhood_latlon = data['fields']['geom_x_y']\n",
    "    neighborhood_lat = neighborhood_latlon[0]\n",
    "    neighborhood_lon = neighborhood_latlon[1]\n",
    "        \n",
    "    paris_neighborhoods_base = paris_neighborhoods_base.append({'Borough_ID': borough_id,\n",
    "                                                                'Neighborhood': neighborhood_name,\n",
    "                                                                'Latitude': neighborhood_lat,\n",
    "                                                                'Longitude': neighborhood_lon}, ignore_index=True)"
   ]
  },
  {
   "cell_type": "code",
   "execution_count": 16,
   "metadata": {},
   "outputs": [
    {
     "data": {
      "text/html": [
       "<div>\n",
       "<style scoped>\n",
       "    .dataframe tbody tr th:only-of-type {\n",
       "        vertical-align: middle;\n",
       "    }\n",
       "\n",
       "    .dataframe tbody tr th {\n",
       "        vertical-align: top;\n",
       "    }\n",
       "\n",
       "    .dataframe thead th {\n",
       "        text-align: right;\n",
       "    }\n",
       "</style>\n",
       "<table border=\"1\" class=\"dataframe\">\n",
       "  <thead>\n",
       "    <tr style=\"text-align: right;\">\n",
       "      <th></th>\n",
       "      <th>Borough_ID</th>\n",
       "      <th>Neighborhood</th>\n",
       "      <th>Latitude</th>\n",
       "      <th>Longitude</th>\n",
       "    </tr>\n",
       "  </thead>\n",
       "  <tbody>\n",
       "    <tr>\n",
       "      <th>0</th>\n",
       "      <td>17</td>\n",
       "      <td>BATIGNOLLES - CARDINET</td>\n",
       "      <td>48.886524</td>\n",
       "      <td>2.320896</td>\n",
       "    </tr>\n",
       "    <tr>\n",
       "      <th>1</th>\n",
       "      <td>14</td>\n",
       "      <td>JEAN MOULIN - PORTE D'ORLEANS</td>\n",
       "      <td>48.824042</td>\n",
       "      <td>2.324701</td>\n",
       "    </tr>\n",
       "    <tr>\n",
       "      <th>2</th>\n",
       "      <td>18</td>\n",
       "      <td>LA CHAPELLE - MARX DORMOY</td>\n",
       "      <td>48.890107</td>\n",
       "      <td>2.362578</td>\n",
       "    </tr>\n",
       "    <tr>\n",
       "      <th>3</th>\n",
       "      <td>16</td>\n",
       "      <td>MUETTE SUD</td>\n",
       "      <td>48.855618</td>\n",
       "      <td>2.278026</td>\n",
       "    </tr>\n",
       "    <tr>\n",
       "      <th>4</th>\n",
       "      <td>3</td>\n",
       "      <td>ARCHIVES</td>\n",
       "      <td>48.859194</td>\n",
       "      <td>2.363202</td>\n",
       "    </tr>\n",
       "  </tbody>\n",
       "</table>\n",
       "</div>"
      ],
      "text/plain": [
       "  Borough_ID                   Neighborhood   Latitude  Longitude\n",
       "0         17         BATIGNOLLES - CARDINET  48.886524   2.320896\n",
       "1         14  JEAN MOULIN - PORTE D'ORLEANS  48.824042   2.324701\n",
       "2         18      LA CHAPELLE - MARX DORMOY  48.890107   2.362578\n",
       "3         16                     MUETTE SUD  48.855618   2.278026\n",
       "4          3                       ARCHIVES  48.859194   2.363202"
      ]
     },
     "execution_count": 16,
     "metadata": {},
     "output_type": "execute_result"
    }
   ],
   "source": [
    "paris_neighborhoods_base.head()"
   ]
  },
  {
   "cell_type": "code",
   "execution_count": 17,
   "metadata": {},
   "outputs": [
    {
     "data": {
      "text/plain": [
       "(124, 4)"
      ]
     },
     "execution_count": 17,
     "metadata": {},
     "output_type": "execute_result"
    }
   ],
   "source": [
    "paris_neighborhoods_base.shape"
   ]
  },
  {
   "cell_type": "markdown",
   "metadata": {},
   "source": [
    "##### Preparing data to join Boroughs Dataframe with Neighborhood Dataframe"
   ]
  },
  {
   "cell_type": "code",
   "execution_count": 18,
   "metadata": {},
   "outputs": [
    {
     "data": {
      "text/plain": [
       "Borough_ID       object\n",
       "Neighborhood     object\n",
       "Latitude        float64\n",
       "Longitude       float64\n",
       "dtype: object"
      ]
     },
     "execution_count": 18,
     "metadata": {},
     "output_type": "execute_result"
    }
   ],
   "source": [
    "paris_neighborhoods_base.dtypes"
   ]
  },
  {
   "cell_type": "code",
   "execution_count": 19,
   "metadata": {},
   "outputs": [
    {
     "data": {
      "text/plain": [
       "Borough_ID        int32\n",
       "Neighborhood     object\n",
       "Latitude        float64\n",
       "Longitude       float64\n",
       "dtype: object"
      ]
     },
     "execution_count": 19,
     "metadata": {},
     "output_type": "execute_result"
    }
   ],
   "source": [
    "paris_neighborhoods_base[['Borough_ID']] = paris_neighborhoods_base[['Borough_ID']].astype(int)\n",
    "paris_neighborhoods_base.dtypes"
   ]
  },
  {
   "cell_type": "markdown",
   "metadata": {},
   "source": [
    "##### Join Boroughs Dataframe with Neighborhood Dataframe"
   ]
  },
  {
   "cell_type": "code",
   "execution_count": 20,
   "metadata": {},
   "outputs": [],
   "source": [
    "paris_neighborhoods = df_paris_boroughs.loc[:, ['Borough_ID', 'Borough']]\n",
    "paris_neighborhoods = paris_neighborhoods.join(paris_neighborhoods_base.set_index('Borough_ID'), \n",
    "                                               on='Borough_ID')"
   ]
  },
  {
   "cell_type": "code",
   "execution_count": 21,
   "metadata": {},
   "outputs": [
    {
     "data": {
      "text/html": [
       "<div>\n",
       "<style scoped>\n",
       "    .dataframe tbody tr th:only-of-type {\n",
       "        vertical-align: middle;\n",
       "    }\n",
       "\n",
       "    .dataframe tbody tr th {\n",
       "        vertical-align: top;\n",
       "    }\n",
       "\n",
       "    .dataframe thead th {\n",
       "        text-align: right;\n",
       "    }\n",
       "</style>\n",
       "<table border=\"1\" class=\"dataframe\">\n",
       "  <thead>\n",
       "    <tr style=\"text-align: right;\">\n",
       "      <th></th>\n",
       "      <th>Borough</th>\n",
       "      <th>Neighborhood</th>\n",
       "      <th>Latitude</th>\n",
       "      <th>Longitude</th>\n",
       "    </tr>\n",
       "  </thead>\n",
       "  <tbody>\n",
       "    <tr>\n",
       "      <th>0</th>\n",
       "      <td>Louvre</td>\n",
       "      <td>PALAIS ROYAL</td>\n",
       "      <td>48.864661</td>\n",
       "      <td>2.336308</td>\n",
       "    </tr>\n",
       "    <tr>\n",
       "      <th>1</th>\n",
       "      <td>Louvre</td>\n",
       "      <td>LES HALLES</td>\n",
       "      <td>48.862289</td>\n",
       "      <td>2.344899</td>\n",
       "    </tr>\n",
       "    <tr>\n",
       "      <th>2</th>\n",
       "      <td>Louvre</td>\n",
       "      <td>SAINT - GERMAIN L'AUXERROIS</td>\n",
       "      <td>48.860650</td>\n",
       "      <td>2.334911</td>\n",
       "    </tr>\n",
       "    <tr>\n",
       "      <th>3</th>\n",
       "      <td>Louvre</td>\n",
       "      <td>PLACE VENDOME</td>\n",
       "      <td>48.867018</td>\n",
       "      <td>2.328579</td>\n",
       "    </tr>\n",
       "    <tr>\n",
       "      <th>4</th>\n",
       "      <td>Bourse</td>\n",
       "      <td>SENTIER - BONNE NOUVELLE</td>\n",
       "      <td>48.868927</td>\n",
       "      <td>2.348039</td>\n",
       "    </tr>\n",
       "  </tbody>\n",
       "</table>\n",
       "</div>"
      ],
      "text/plain": [
       "  Borough                 Neighborhood   Latitude  Longitude\n",
       "0  Louvre                 PALAIS ROYAL  48.864661   2.336308\n",
       "1  Louvre                   LES HALLES  48.862289   2.344899\n",
       "2  Louvre  SAINT - GERMAIN L'AUXERROIS  48.860650   2.334911\n",
       "3  Louvre                PLACE VENDOME  48.867018   2.328579\n",
       "4  Bourse     SENTIER - BONNE NOUVELLE  48.868927   2.348039"
      ]
     },
     "execution_count": 21,
     "metadata": {},
     "output_type": "execute_result"
    }
   ],
   "source": [
    "paris_neighborhoods.sort_values(\"Borough_ID\", inplace=True)\n",
    "paris_neighborhoods.reset_index(drop=True, inplace=True)\n",
    "paris_neighborhoods.drop(columns=\"Borough_ID\", inplace=True)\n",
    "paris_neighborhoods.head()"
   ]
  },
  {
   "cell_type": "code",
   "execution_count": 22,
   "metadata": {},
   "outputs": [
    {
     "name": "stdout",
     "output_type": "stream",
     "text": [
      "Number of Boroughs in Paris : 20\n"
     ]
    }
   ],
   "source": [
    "print(\"Number of Boroughs in Paris : {}\".format(paris_neighborhoods[\"Borough\"].unique().shape[0]))"
   ]
  },
  {
   "cell_type": "code",
   "execution_count": 23,
   "metadata": {},
   "outputs": [
    {
     "name": "stdout",
     "output_type": "stream",
     "text": [
      "Number of Boroughs in Paris : 124\n"
     ]
    }
   ],
   "source": [
    "print(\"Number of Boroughs in Paris : {}\".format((paris_neighborhoods['Neighborhood'] + \n",
    "                                                        \", \" + \n",
    "                                                        paris_neighborhoods['Borough']).unique().shape[0]))"
   ]
  },
  {
   "cell_type": "markdown",
   "metadata": {},
   "source": [
    "##### Use geopy library to get the latitude and longitude values of Paris."
   ]
  },
  {
   "cell_type": "code",
   "execution_count": 24,
   "metadata": {},
   "outputs": [
    {
     "name": "stdout",
     "output_type": "stream",
     "text": [
      "48.8566101 2.3514992\n"
     ]
    }
   ],
   "source": [
    "# Paris latitude and longitude values\n",
    "address = 'Paris'\n",
    "\n",
    "geolocator = Nominatim(user_agent=\"App-Paris\")\n",
    "paris_location = geolocator.geocode(address)\n",
    "paris_latitude = paris_location.latitude\n",
    "paris_longitude = paris_location.longitude\n",
    "print(paris_latitude, paris_longitude)\n",
    "\n",
    "paris_boroughs_geo = r'paris_boroughs.geojson'\n",
    "paris_neighborhoods_geo = r'paris_neighborhoods.geojson'"
   ]
  },
  {
   "cell_type": "markdown",
   "metadata": {},
   "source": [
    "##### Create a map representing Paris's boroughs in a Tabulation Areas mode"
   ]
  },
  {
   "cell_type": "code",
   "execution_count": 25,
   "metadata": {},
   "outputs": [
    {
     "data": {
      "text/html": [
       "\n",
       "        <iframe\n",
       "            width=\"100%\"\n",
       "            height=\"600px\"\n",
       "            src=\"index.html\"\n",
       "            frameborder=\"0\"\n",
       "            allowfullscreen\n",
       "        ></iframe>\n",
       "        "
      ],
      "text/plain": [
       "<IPython.lib.display.IFrame at 0x174a948f128>"
      ]
     },
     "execution_count": 25,
     "metadata": {},
     "output_type": "execute_result"
    }
   ],
   "source": [
    "# let Folium determine the scale.\n",
    "paris_map = folium.Map(location=[paris_latitude, paris_longitude], zoom_start=12)\n",
    "\n",
    "# Creating Boroughs Tabulation Areas \n",
    "\n",
    "with open(paris_boroughs_geo) as json_data:\n",
    "    paris_boroughs_popups = json.load(json_data)\n",
    "\n",
    "for feature in paris_boroughs_popups['features']:\n",
    "    \n",
    "    # Create a Borough Tabulation Area\n",
    "    popup = folium.GeoJson(feature['geometry'],\n",
    "                           style_function=lambda feature: {\n",
    "                                'color': 'white',\n",
    "                                'weight': 2,\n",
    "                                'fillColor': '#D6877C',\n",
    "                                'fillOpacity': 0.6\n",
    "                            })\n",
    "    \n",
    "    # Create Borough Popup for every Tabulation Area\n",
    "    popup.add_child(folium.Popup(feature['properties']['l_ar']))\n",
    "    popup.add_to(paris_map)\n",
    "\n",
    "# Display Paris Map    \n",
    "embed_map(paris_map)"
   ]
  },
  {
   "cell_type": "markdown",
   "metadata": {},
   "source": [
    "##### Create a map representing Paris's neighborhoods in a Tabulation Areas mode"
   ]
  },
  {
   "cell_type": "code",
   "execution_count": 26,
   "metadata": {},
   "outputs": [
    {
     "data": {
      "text/html": [
       "\n",
       "        <iframe\n",
       "            width=\"100%\"\n",
       "            height=\"600px\"\n",
       "            src=\"index.html\"\n",
       "            frameborder=\"0\"\n",
       "            allowfullscreen\n",
       "        ></iframe>\n",
       "        "
      ],
      "text/plain": [
       "<IPython.lib.display.IFrame at 0x174a98e0a58>"
      ]
     },
     "execution_count": 26,
     "metadata": {},
     "output_type": "execute_result"
    }
   ],
   "source": [
    "# let Folium determine the scale.\n",
    "paris_map = folium.Map(location=[paris_latitude, paris_longitude], zoom_start=12)\n",
    "\n",
    "# Creating Neighborhoods Tabulation Areas \n",
    "\n",
    "with open(paris_neighborhoods_geo) as json_data:\n",
    "    paris_neighborhoods_popups = json.load(json_data)\n",
    "    \n",
    "    \n",
    "for feature in paris_neighborhoods_popups['features']:\n",
    "    \n",
    "    # Create a Neighborhood Tabulation Area\n",
    "    popup = folium.GeoJson(feature['geometry'],\n",
    "                           style_function=lambda feature: {\n",
    "                                'color': 'white',\n",
    "                                'weight': 2,\n",
    "                                'fillColor': '#D6877C',\n",
    "                                'fillOpacity': 0.6\n",
    "                            })\n",
    "    \n",
    "    # Create Neighborhood Popup for every Tabulation Area\n",
    "    popup.add_child(folium.Popup(feature['properties']['nom_quart'], parse_html=True))\n",
    "    popup.add_to(paris_map)\n",
    "\n",
    "    \n",
    "# Display Paris Map    \n",
    "embed_map(paris_map)"
   ]
  },
  {
   "cell_type": "markdown",
   "metadata": {},
   "source": [
    "### 1.3- Exploring New York City Dataset"
   ]
  },
  {
   "cell_type": "markdown",
   "metadata": {},
   "source": [
    "The New York City dataset used in labs contains 5 boroughs and 306 neighborhoods that exist in each borough as well as the the latitude and logitude coordinates of each neighborhood.\n",
    "\n",
    "The dataset exists for free on the web. Feel free to try to find this dataset at link : https://geo.nyu.edu/catalog/nyu_2451_34572"
   ]
  },
  {
   "cell_type": "markdown",
   "metadata": {},
   "source": [
    "Import New York City boroughs and neighborhoods data from JSON file"
   ]
  },
  {
   "cell_type": "code",
   "execution_count": 27,
   "metadata": {},
   "outputs": [],
   "source": [
    "with open('newyork_data.json') as json_data:\n",
    "    newyork_data = json.load(json_data)"
   ]
  },
  {
   "cell_type": "code",
   "execution_count": 28,
   "metadata": {},
   "outputs": [],
   "source": [
    "newyork_neighborhoods_data = newyork_data['features']"
   ]
  },
  {
   "cell_type": "code",
   "execution_count": 29,
   "metadata": {},
   "outputs": [
    {
     "data": {
      "text/plain": [
       "{'geometry': {'coordinates': [-73.84720052054902, 40.89470517661],\n",
       "  'type': 'Point'},\n",
       " 'geometry_name': 'geom',\n",
       " 'id': 'nyu_2451_34572.1',\n",
       " 'properties': {'annoangle': 0.0,\n",
       "  'annoline1': 'Wakefield',\n",
       "  'annoline2': None,\n",
       "  'annoline3': None,\n",
       "  'bbox': [-73.84720052054902,\n",
       "   40.89470517661,\n",
       "   -73.84720052054902,\n",
       "   40.89470517661],\n",
       "  'borough': 'Bronx',\n",
       "  'name': 'Wakefield',\n",
       "  'stacked': 1},\n",
       " 'type': 'Feature'}"
      ]
     },
     "execution_count": 29,
     "metadata": {},
     "output_type": "execute_result"
    }
   ],
   "source": [
    "newyork_neighborhoods_data[0]"
   ]
  },
  {
   "cell_type": "markdown",
   "metadata": {},
   "source": [
    "#### Constructing New York's neighborhoods base Dataframe"
   ]
  },
  {
   "cell_type": "code",
   "execution_count": 30,
   "metadata": {},
   "outputs": [],
   "source": [
    "# define the dataframe columns\n",
    "column_names = ['Borough', 'Neighborhood', 'Latitude', 'Longitude'] \n",
    "\n",
    "# instantiate the dataframe\n",
    "newyork_neighborhoods = pd.DataFrame(columns=column_names)"
   ]
  },
  {
   "cell_type": "code",
   "execution_count": 31,
   "metadata": {},
   "outputs": [
    {
     "data": {
      "text/html": [
       "<div>\n",
       "<style scoped>\n",
       "    .dataframe tbody tr th:only-of-type {\n",
       "        vertical-align: middle;\n",
       "    }\n",
       "\n",
       "    .dataframe tbody tr th {\n",
       "        vertical-align: top;\n",
       "    }\n",
       "\n",
       "    .dataframe thead th {\n",
       "        text-align: right;\n",
       "    }\n",
       "</style>\n",
       "<table border=\"1\" class=\"dataframe\">\n",
       "  <thead>\n",
       "    <tr style=\"text-align: right;\">\n",
       "      <th></th>\n",
       "      <th>Borough</th>\n",
       "      <th>Neighborhood</th>\n",
       "      <th>Latitude</th>\n",
       "      <th>Longitude</th>\n",
       "    </tr>\n",
       "  </thead>\n",
       "  <tbody>\n",
       "  </tbody>\n",
       "</table>\n",
       "</div>"
      ],
      "text/plain": [
       "Empty DataFrame\n",
       "Columns: [Borough, Neighborhood, Latitude, Longitude]\n",
       "Index: []"
      ]
     },
     "execution_count": 31,
     "metadata": {},
     "output_type": "execute_result"
    }
   ],
   "source": [
    "newyork_neighborhoods"
   ]
  },
  {
   "cell_type": "code",
   "execution_count": 32,
   "metadata": {},
   "outputs": [],
   "source": [
    "# Obtain New York's neighborhoods Dataframe from data extracted from Json\n",
    "\n",
    "for data in newyork_neighborhoods_data:\n",
    "    borough = data['properties']['borough'] \n",
    "    neighborhood_name = data['properties']['name']\n",
    "        \n",
    "    neighborhood_latlon = data['geometry']['coordinates']\n",
    "    neighborhood_lat = neighborhood_latlon[1]\n",
    "    neighborhood_lon = neighborhood_latlon[0]\n",
    "    \n",
    "    newyork_neighborhoods = newyork_neighborhoods.append({'Borough': borough,\n",
    "                                                          'Neighborhood': neighborhood_name,\n",
    "                                                          'Latitude': neighborhood_lat,\n",
    "                                                          'Longitude': neighborhood_lon}, ignore_index=True)"
   ]
  },
  {
   "cell_type": "code",
   "execution_count": 33,
   "metadata": {},
   "outputs": [
    {
     "data": {
      "text/html": [
       "<div>\n",
       "<style scoped>\n",
       "    .dataframe tbody tr th:only-of-type {\n",
       "        vertical-align: middle;\n",
       "    }\n",
       "\n",
       "    .dataframe tbody tr th {\n",
       "        vertical-align: top;\n",
       "    }\n",
       "\n",
       "    .dataframe thead th {\n",
       "        text-align: right;\n",
       "    }\n",
       "</style>\n",
       "<table border=\"1\" class=\"dataframe\">\n",
       "  <thead>\n",
       "    <tr style=\"text-align: right;\">\n",
       "      <th></th>\n",
       "      <th>Borough</th>\n",
       "      <th>Neighborhood</th>\n",
       "      <th>Latitude</th>\n",
       "      <th>Longitude</th>\n",
       "    </tr>\n",
       "  </thead>\n",
       "  <tbody>\n",
       "    <tr>\n",
       "      <th>0</th>\n",
       "      <td>Bronx</td>\n",
       "      <td>Wakefield</td>\n",
       "      <td>40.894705</td>\n",
       "      <td>-73.847201</td>\n",
       "    </tr>\n",
       "    <tr>\n",
       "      <th>1</th>\n",
       "      <td>Bronx</td>\n",
       "      <td>Co-op City</td>\n",
       "      <td>40.874294</td>\n",
       "      <td>-73.829939</td>\n",
       "    </tr>\n",
       "    <tr>\n",
       "      <th>2</th>\n",
       "      <td>Bronx</td>\n",
       "      <td>Eastchester</td>\n",
       "      <td>40.887556</td>\n",
       "      <td>-73.827806</td>\n",
       "    </tr>\n",
       "    <tr>\n",
       "      <th>3</th>\n",
       "      <td>Bronx</td>\n",
       "      <td>Fieldston</td>\n",
       "      <td>40.895437</td>\n",
       "      <td>-73.905643</td>\n",
       "    </tr>\n",
       "    <tr>\n",
       "      <th>4</th>\n",
       "      <td>Bronx</td>\n",
       "      <td>Riverdale</td>\n",
       "      <td>40.890834</td>\n",
       "      <td>-73.912585</td>\n",
       "    </tr>\n",
       "  </tbody>\n",
       "</table>\n",
       "</div>"
      ],
      "text/plain": [
       "  Borough Neighborhood   Latitude  Longitude\n",
       "0   Bronx    Wakefield  40.894705 -73.847201\n",
       "1   Bronx   Co-op City  40.874294 -73.829939\n",
       "2   Bronx  Eastchester  40.887556 -73.827806\n",
       "3   Bronx    Fieldston  40.895437 -73.905643\n",
       "4   Bronx    Riverdale  40.890834 -73.912585"
      ]
     },
     "execution_count": 33,
     "metadata": {},
     "output_type": "execute_result"
    }
   ],
   "source": [
    "newyork_neighborhoods.head()"
   ]
  },
  {
   "cell_type": "code",
   "execution_count": 34,
   "metadata": {},
   "outputs": [
    {
     "name": "stdout",
     "output_type": "stream",
     "text": [
      "Number of Boroughs in New York City : 5\n"
     ]
    }
   ],
   "source": [
    "print(\"Number of Boroughs in New York City : {}\".format(newyork_neighborhoods[\"Borough\"].unique().shape[0]))"
   ]
  },
  {
   "cell_type": "code",
   "execution_count": 36,
   "metadata": {},
   "outputs": [
    {
     "name": "stdout",
     "output_type": "stream",
     "text": [
      "Number of Boroughs in New York City : 306\n"
     ]
    }
   ],
   "source": [
    "print(\"Number of Boroughs in New York City : {}\".format((newyork_neighborhoods['Neighborhood'] + \n",
    "                                                        \", \" + \n",
    "                                                        newyork_neighborhoods['Borough']).unique().shape[0]))"
   ]
  },
  {
   "cell_type": "markdown",
   "metadata": {},
   "source": [
    "#### Boroughs & Neighborhoods Visualization : Tabulation Areas"
   ]
  },
  {
   "cell_type": "markdown",
   "metadata": {},
   "source": [
    "To visualize tabulation areas for both Boroughs & Neighborhoods we will use geojson datasets :\n",
    "\n",
    "- Geojson file to plot boroughs tabulation areas : https://geo.nyu.edu/catalog/nyu-2451-34561\n",
    "- Geojson file to plot neighborhoods tabulation areas : https://geo.nyu.edu/catalog/nyu-2451-34490"
   ]
  },
  {
   "cell_type": "markdown",
   "metadata": {},
   "source": [
    "##### Use geopy library to get the latitude and longitude values of New York City."
   ]
  },
  {
   "cell_type": "code",
   "execution_count": 37,
   "metadata": {},
   "outputs": [
    {
     "name": "stdout",
     "output_type": "stream",
     "text": [
      "40.7308619 -73.9871558\n"
     ]
    }
   ],
   "source": [
    "# New York latitude and longitude values\n",
    "address = 'New York City, NY'\n",
    "\n",
    "geolocator = Nominatim(user_agent=\"App-NewYork\")\n",
    "newyork_location = geolocator.geocode(address)\n",
    "newyork_latitude = newyork_location.latitude\n",
    "newyork_longitude = newyork_location.longitude\n",
    "print(newyork_latitude, newyork_longitude)\n",
    "\n",
    "newyork_boroughs_geo = r'newyork_boroughs.geojson'\n",
    "newyork_neighborhoods_geo = r'newyork_neighborhoods.geojson'"
   ]
  },
  {
   "cell_type": "markdown",
   "metadata": {},
   "source": [
    "##### Create a map representing New York's boroughs in a Tabulation Areas mode"
   ]
  },
  {
   "cell_type": "code",
   "execution_count": 38,
   "metadata": {},
   "outputs": [
    {
     "data": {
      "text/html": [
       "\n",
       "        <iframe\n",
       "            width=\"100%\"\n",
       "            height=\"600px\"\n",
       "            src=\"index.html\"\n",
       "            frameborder=\"0\"\n",
       "            allowfullscreen\n",
       "        ></iframe>\n",
       "        "
      ],
      "text/plain": [
       "<IPython.lib.display.IFrame at 0x174a9412f28>"
      ]
     },
     "execution_count": 38,
     "metadata": {},
     "output_type": "execute_result"
    }
   ],
   "source": [
    "# let Folium determine the scale.\n",
    "newyork_map = folium.Map(location=[newyork_latitude, newyork_longitude], zoom_start=10)\n",
    "\n",
    "# Creating Boroughs Tabulation Areas \n",
    "\n",
    "with open(newyork_boroughs_geo) as json_data:\n",
    "    newyork_boroughs_popups = json.load(json_data)\n",
    "\n",
    "for feature in newyork_boroughs_popups['features']:\n",
    "    \n",
    "    # Create a Borough Tabulation Area\n",
    "    popup = folium.GeoJson(feature['geometry'],\n",
    "                           style_function=lambda feature: {\n",
    "                                'color': 'white',\n",
    "                                'weight': 2,\n",
    "                                'fillColor': '#8CABD4',\n",
    "                                'fillOpacity': 0.6\n",
    "                            })\n",
    "    \n",
    "    # Create Borough Popup for every Tabulation Area\n",
    "    popup.add_child(folium.Popup(feature['properties']['BoroName']))\n",
    "    popup.add_to(newyork_map)\n",
    "\n",
    "# Display New York City Map    \n",
    "embed_map(newyork_map)"
   ]
  },
  {
   "cell_type": "markdown",
   "metadata": {},
   "source": [
    "##### Create a map representing New York's neighborhoods in a Tabulation Areas mode"
   ]
  },
  {
   "cell_type": "code",
   "execution_count": 39,
   "metadata": {},
   "outputs": [
    {
     "data": {
      "text/html": [
       "\n",
       "        <iframe\n",
       "            width=\"100%\"\n",
       "            height=\"600px\"\n",
       "            src=\"index.html\"\n",
       "            frameborder=\"0\"\n",
       "            allowfullscreen\n",
       "        ></iframe>\n",
       "        "
      ],
      "text/plain": [
       "<IPython.lib.display.IFrame at 0x174ab977b00>"
      ]
     },
     "execution_count": 39,
     "metadata": {},
     "output_type": "execute_result"
    }
   ],
   "source": [
    "# let Folium determine the scale.\n",
    "newyork_map = folium.Map(location=[newyork_latitude, newyork_longitude], zoom_start=10)\n",
    "\n",
    "# Creating Neighborhoods Tabulation Areas \n",
    "\n",
    "with open(newyork_neighborhoods_geo) as json_data:\n",
    "    newyork_neighborhoods_popups = json.load(json_data)\n",
    "\n",
    "for feature in newyork_neighborhoods_popups['features']:\n",
    "    \n",
    "    # Create a Neighborhood Tabulation Area\n",
    "    popup = folium.GeoJson(feature['geometry'],\n",
    "                           style_function=lambda feature: {\n",
    "                                'color': 'white',\n",
    "                                'weight': 2,\n",
    "                                'fillColor': '#8CABD4',\n",
    "                                'fillOpacity': 0.6\n",
    "                            })\n",
    "    \n",
    "    # Create Neighborhood Popup for every Tabulation Area\n",
    "    popup.add_child(folium.Popup(feature['properties']['ntaname'] + \", \" + feature['properties']['boroname'], \n",
    "                                 parse_html=True))\n",
    "    popup.add_to(newyork_map)\n",
    "\n",
    "# Display New York City Map    \n",
    "embed_map(newyork_map)"
   ]
  },
  {
   "cell_type": "markdown",
   "metadata": {},
   "source": [
    "## 2- Exploring Venues \n",
    "### 2.1- General steps"
   ]
  },
  {
   "cell_type": "markdown",
   "metadata": {},
   "source": [
    "First, let's create the needed parameters to create foursquare venues exploring requests"
   ]
  },
  {
   "cell_type": "code",
   "execution_count": 40,
   "metadata": {},
   "outputs": [],
   "source": [
    "# type your answer here\n",
    "CLIENT_ID = '############################################' # your Foursquare ID\n",
    "CLIENT_SECRET = '############################################' # your Foursquare Secret\n",
    "VERSION = '20180604'\n",
    "\n",
    "LIMIT = 100 # limit of number of venues returned by Foursquare API\n",
    "radius = 500 # define radius"
   ]
  },
  {
   "cell_type": "markdown",
   "metadata": {},
   "source": [
    "##### Let's create a function to get venues of all the neighborhoods in a specific city\n",
    "\n",
    "we will get the top 100 venues that are in  a specific neighborhood within a radius of 500 meters."
   ]
  },
  {
   "cell_type": "code",
   "execution_count": 41,
   "metadata": {},
   "outputs": [],
   "source": [
    "import time\n",
    "\n",
    "def getNearbyVenues(boroughs, names, latitudes, longitudes, radius=500):\n",
    "    \n",
    "    venues_list=[]\n",
    "    for borough, name, lat, lng in zip(boroughs, names, latitudes, longitudes):\n",
    "        # Wait for 2 seconds\n",
    "        time.sleep(2)\n",
    "        \n",
    "        print(borough + \", \" + name)\n",
    "            \n",
    "        # create the API request URL\n",
    "        url = 'https://api.foursquare.com/v2/venues/explore?&client_id={}&client_secret={}&v={}&ll={},{}&radius={}&limit={}'.format(\n",
    "            CLIENT_ID, \n",
    "            CLIENT_SECRET, \n",
    "            VERSION, \n",
    "            lat, \n",
    "            lng, \n",
    "            radius, \n",
    "            LIMIT)\n",
    "        \n",
    "        # make the GET request\n",
    "        results = requests.get(url).json()[\"response\"]['groups'][0]['items']\n",
    "        \n",
    "        # return only relevant information for each nearby venue\n",
    "        venues_list.append([(\n",
    "            borough,\n",
    "            name, \n",
    "            lat, \n",
    "            lng, \n",
    "            v['venue']['name'], \n",
    "            v['venue']['location']['lat'], \n",
    "            v['venue']['location']['lng'],  \n",
    "            v['venue']['categories'][0]['name']) for v in results])\n",
    "\n",
    "    nearby_venues = pd.DataFrame([item for venue_list in venues_list for item in venue_list])\n",
    "    nearby_venues.columns = ['Borough',\n",
    "                  'Neighborhood', \n",
    "                  'Neighborhood Latitude', \n",
    "                  'Neighborhood Longitude', \n",
    "                  'Venue', \n",
    "                  'Venue Latitude', \n",
    "                  'Venue Longitude', \n",
    "                  'Venue Category']\n",
    "    \n",
    "    return(nearby_venues)"
   ]
  },
  {
   "cell_type": "markdown",
   "metadata": {},
   "source": [
    "### 2.2- Exploring Paris City Venues"
   ]
  },
  {
   "cell_type": "markdown",
   "metadata": {},
   "source": [
    "Now we write the code to run the **getNearbyVenues** function on each neighborhood in Paris and we create a new dataframe called *paris_venues*. And memorising the venues to use them other time"
   ]
  },
  {
   "cell_type": "code",
   "execution_count": 42,
   "metadata": {},
   "outputs": [],
   "source": [
    "paris_venues = getNearbyVenues(paris_neighborhoods['Borough'],paris_neighborhoods['Neighborhood'], \n",
    "                               paris_neighborhoods['Latitude'], paris_neighborhoods['Longitude'])\n",
    "\n",
    "paris_venues.to_csv('paris_venues.csv', index=False)"
   ]
  },
  {
   "cell_type": "markdown",
   "metadata": {},
   "source": [
    "After memorising venues in a CSV file, we will use **paris_venues.csv** to get venues for other times because searching venues with foursquare take a lot of time."
   ]
  },
  {
   "cell_type": "code",
   "execution_count": 43,
   "metadata": {},
   "outputs": [],
   "source": [
    "paris_venues = pd.read_csv('paris_venues.csv')"
   ]
  },
  {
   "cell_type": "markdown",
   "metadata": {},
   "source": [
    "Peview of Paris neighborhoods' venues."
   ]
  },
  {
   "cell_type": "code",
   "execution_count": 44,
   "metadata": {},
   "outputs": [
    {
     "data": {
      "text/html": [
       "<div>\n",
       "<style scoped>\n",
       "    .dataframe tbody tr th:only-of-type {\n",
       "        vertical-align: middle;\n",
       "    }\n",
       "\n",
       "    .dataframe tbody tr th {\n",
       "        vertical-align: top;\n",
       "    }\n",
       "\n",
       "    .dataframe thead th {\n",
       "        text-align: right;\n",
       "    }\n",
       "</style>\n",
       "<table border=\"1\" class=\"dataframe\">\n",
       "  <thead>\n",
       "    <tr style=\"text-align: right;\">\n",
       "      <th></th>\n",
       "      <th>Borough</th>\n",
       "      <th>Neighborhood</th>\n",
       "      <th>Neighborhood Latitude</th>\n",
       "      <th>Neighborhood Longitude</th>\n",
       "      <th>Venue</th>\n",
       "      <th>Venue Latitude</th>\n",
       "      <th>Venue Longitude</th>\n",
       "      <th>Venue Category</th>\n",
       "    </tr>\n",
       "  </thead>\n",
       "  <tbody>\n",
       "    <tr>\n",
       "      <th>0</th>\n",
       "      <td>Louvre</td>\n",
       "      <td>PALAIS ROYAL</td>\n",
       "      <td>48.864661</td>\n",
       "      <td>2.336308</td>\n",
       "      <td>Jardin du Palais Royal</td>\n",
       "      <td>48.864941</td>\n",
       "      <td>2.337728</td>\n",
       "      <td>Garden</td>\n",
       "    </tr>\n",
       "    <tr>\n",
       "      <th>1</th>\n",
       "      <td>Louvre</td>\n",
       "      <td>PALAIS ROYAL</td>\n",
       "      <td>48.864661</td>\n",
       "      <td>2.336308</td>\n",
       "      <td>Sanukiya</td>\n",
       "      <td>48.864713</td>\n",
       "      <td>2.334059</td>\n",
       "      <td>Udon Restaurant</td>\n",
       "    </tr>\n",
       "    <tr>\n",
       "      <th>2</th>\n",
       "      <td>Louvre</td>\n",
       "      <td>PALAIS ROYAL</td>\n",
       "      <td>48.864661</td>\n",
       "      <td>2.336308</td>\n",
       "      <td>Palais Royal</td>\n",
       "      <td>48.863758</td>\n",
       "      <td>2.337121</td>\n",
       "      <td>Historic Site</td>\n",
       "    </tr>\n",
       "    <tr>\n",
       "      <th>3</th>\n",
       "      <td>Louvre</td>\n",
       "      <td>PALAIS ROYAL</td>\n",
       "      <td>48.864661</td>\n",
       "      <td>2.336308</td>\n",
       "      <td>Ellsworth</td>\n",
       "      <td>48.865528</td>\n",
       "      <td>2.337057</td>\n",
       "      <td>French Restaurant</td>\n",
       "    </tr>\n",
       "    <tr>\n",
       "      <th>4</th>\n",
       "      <td>Louvre</td>\n",
       "      <td>PALAIS ROYAL</td>\n",
       "      <td>48.864661</td>\n",
       "      <td>2.336308</td>\n",
       "      <td>Comédie-Française</td>\n",
       "      <td>48.863088</td>\n",
       "      <td>2.336612</td>\n",
       "      <td>Theater</td>\n",
       "    </tr>\n",
       "  </tbody>\n",
       "</table>\n",
       "</div>"
      ],
      "text/plain": [
       "  Borough  Neighborhood  Neighborhood Latitude  Neighborhood Longitude  \\\n",
       "0  Louvre  PALAIS ROYAL              48.864661                2.336308   \n",
       "1  Louvre  PALAIS ROYAL              48.864661                2.336308   \n",
       "2  Louvre  PALAIS ROYAL              48.864661                2.336308   \n",
       "3  Louvre  PALAIS ROYAL              48.864661                2.336308   \n",
       "4  Louvre  PALAIS ROYAL              48.864661                2.336308   \n",
       "\n",
       "                    Venue  Venue Latitude  Venue Longitude     Venue Category  \n",
       "0  Jardin du Palais Royal       48.864941         2.337728             Garden  \n",
       "1                Sanukiya       48.864713         2.334059    Udon Restaurant  \n",
       "2            Palais Royal       48.863758         2.337121      Historic Site  \n",
       "3               Ellsworth       48.865528         2.337057  French Restaurant  \n",
       "4       Comédie-Française       48.863088         2.336612            Theater  "
      ]
     },
     "execution_count": 44,
     "metadata": {},
     "output_type": "execute_result"
    }
   ],
   "source": [
    "paris_venues.head()"
   ]
  },
  {
   "cell_type": "code",
   "execution_count": 45,
   "metadata": {},
   "outputs": [
    {
     "data": {
      "text/plain": [
       "(7849, 8)"
      ]
     },
     "execution_count": 45,
     "metadata": {},
     "output_type": "execute_result"
    }
   ],
   "source": [
    "paris_venues.shape"
   ]
  },
  {
   "cell_type": "markdown",
   "metadata": {},
   "source": [
    "Get the number of unique venues types in Paris."
   ]
  },
  {
   "cell_type": "code",
   "execution_count": 46,
   "metadata": {},
   "outputs": [
    {
     "name": "stdout",
     "output_type": "stream",
     "text": [
      "324\n"
     ]
    }
   ],
   "source": [
    "print(paris_venues['Venue Category'].unique().shape[0])"
   ]
  },
  {
   "cell_type": "markdown",
   "metadata": {},
   "source": [
    "#### Paris venues Map visualization"
   ]
  },
  {
   "cell_type": "code",
   "execution_count": 47,
   "metadata": {},
   "outputs": [
    {
     "data": {
      "text/html": [
       "\n",
       "        <iframe\n",
       "            width=\"100%\"\n",
       "            height=\"600px\"\n",
       "            src=\"index.html\"\n",
       "            frameborder=\"0\"\n",
       "            allowfullscreen\n",
       "        ></iframe>\n",
       "        "
      ],
      "text/plain": [
       "<IPython.lib.display.IFrame at 0x174b8fb0358>"
      ]
     },
     "execution_count": 47,
     "metadata": {},
     "output_type": "execute_result"
    }
   ],
   "source": [
    "# create map\n",
    "map_paris_venues = folium.Map(location=[paris_latitude, paris_longitude], zoom_start=12)\n",
    "\n",
    "\n",
    "map_paris_venues.choropleth(\n",
    "    geo_data=paris_neighborhoods_geo,\n",
    "    fill_color='#8CABD4',\n",
    "    line_color='White',\n",
    "    fill_opacity=0.5, \n",
    "    line_opacity=0.7,\n",
    "    line_weight=2,\n",
    "    legend_name='Paris Neighborhoods Tabulation Areas',\n",
    "    reset=True\n",
    ")\n",
    "\n",
    "# add markers to map\n",
    "for lat, lng, venue, category in zip(paris_venues['Venue Latitude'], paris_venues['Venue Longitude'], \n",
    "                                     paris_venues['Venue'], paris_venues['Venue Category']):\n",
    "    label = '{}, {}'.format(category, venue)\n",
    "    label = folium.Popup(label, parse_html=True)\n",
    "    folium.CircleMarker(\n",
    "            [lat, lng],\n",
    "            radius=0.1,\n",
    "            popup=label,\n",
    "            color='red',\n",
    "            fill=True,\n",
    "            fill_color='#FF0000',\n",
    "            fill_opacity=0.3).add_to(map_paris_venues)  \n",
    "\n",
    "       \n",
    "embed_map(map_paris_venues)"
   ]
  },
  {
   "cell_type": "markdown",
   "metadata": {},
   "source": [
    "### 2.3- Exploring New York City Venues"
   ]
  },
  {
   "cell_type": "markdown",
   "metadata": {},
   "source": [
    "Now we write the code to run the **getNearbyVenues** function on each neighborhood in New York City and we create a new dataframe called *newyork_venues*. And memorising the venues to use them other time"
   ]
  },
  {
   "cell_type": "code",
   "execution_count": 48,
   "metadata": {},
   "outputs": [],
   "source": [
    "newyork_venues = getNearbyVenues(newyork_neighborhoods['Borough'], newyork_neighborhoods['Neighborhood'], \n",
    "                                 newyork_neighborhoods['Latitude'], newyork_neighborhoods['Longitude'])\n",
    "\n",
    "newyork_venues.to_csv('newyork_venues.csv', index=False)"
   ]
  },
  {
   "cell_type": "markdown",
   "metadata": {},
   "source": [
    "After memorising venues in a CSV file, we will use **newyork_venues.csv** to get venues for other times because searching venues with foursquare take a lot of time."
   ]
  },
  {
   "cell_type": "code",
   "execution_count": 49,
   "metadata": {},
   "outputs": [],
   "source": [
    "newyork_venues = pd.read_csv('newyork_venues.csv')"
   ]
  },
  {
   "cell_type": "markdown",
   "metadata": {},
   "source": [
    "Peview of Paris neighborhoods' venues."
   ]
  },
  {
   "cell_type": "code",
   "execution_count": 50,
   "metadata": {},
   "outputs": [
    {
     "data": {
      "text/html": [
       "<div>\n",
       "<style scoped>\n",
       "    .dataframe tbody tr th:only-of-type {\n",
       "        vertical-align: middle;\n",
       "    }\n",
       "\n",
       "    .dataframe tbody tr th {\n",
       "        vertical-align: top;\n",
       "    }\n",
       "\n",
       "    .dataframe thead th {\n",
       "        text-align: right;\n",
       "    }\n",
       "</style>\n",
       "<table border=\"1\" class=\"dataframe\">\n",
       "  <thead>\n",
       "    <tr style=\"text-align: right;\">\n",
       "      <th></th>\n",
       "      <th>Borough</th>\n",
       "      <th>Neighborhood</th>\n",
       "      <th>Neighborhood Latitude</th>\n",
       "      <th>Neighborhood Longitude</th>\n",
       "      <th>Venue</th>\n",
       "      <th>Venue Latitude</th>\n",
       "      <th>Venue Longitude</th>\n",
       "      <th>Venue Category</th>\n",
       "    </tr>\n",
       "  </thead>\n",
       "  <tbody>\n",
       "    <tr>\n",
       "      <th>0</th>\n",
       "      <td>Bronx</td>\n",
       "      <td>Wakefield</td>\n",
       "      <td>40.894705</td>\n",
       "      <td>-73.847201</td>\n",
       "      <td>Lollipops Gelato</td>\n",
       "      <td>40.894123</td>\n",
       "      <td>-73.845892</td>\n",
       "      <td>Dessert Shop</td>\n",
       "    </tr>\n",
       "    <tr>\n",
       "      <th>1</th>\n",
       "      <td>Bronx</td>\n",
       "      <td>Wakefield</td>\n",
       "      <td>40.894705</td>\n",
       "      <td>-73.847201</td>\n",
       "      <td>Rite Aid</td>\n",
       "      <td>40.896521</td>\n",
       "      <td>-73.844680</td>\n",
       "      <td>Pharmacy</td>\n",
       "    </tr>\n",
       "    <tr>\n",
       "      <th>2</th>\n",
       "      <td>Bronx</td>\n",
       "      <td>Wakefield</td>\n",
       "      <td>40.894705</td>\n",
       "      <td>-73.847201</td>\n",
       "      <td>Cooler Runnings Jamaican Restaurant Inc</td>\n",
       "      <td>40.898276</td>\n",
       "      <td>-73.850381</td>\n",
       "      <td>Caribbean Restaurant</td>\n",
       "    </tr>\n",
       "    <tr>\n",
       "      <th>3</th>\n",
       "      <td>Bronx</td>\n",
       "      <td>Wakefield</td>\n",
       "      <td>40.894705</td>\n",
       "      <td>-73.847201</td>\n",
       "      <td>Carvel Ice Cream</td>\n",
       "      <td>40.890487</td>\n",
       "      <td>-73.848568</td>\n",
       "      <td>Ice Cream Shop</td>\n",
       "    </tr>\n",
       "    <tr>\n",
       "      <th>4</th>\n",
       "      <td>Bronx</td>\n",
       "      <td>Wakefield</td>\n",
       "      <td>40.894705</td>\n",
       "      <td>-73.847201</td>\n",
       "      <td>Dunkin Donuts</td>\n",
       "      <td>40.890631</td>\n",
       "      <td>-73.849027</td>\n",
       "      <td>Donut Shop</td>\n",
       "    </tr>\n",
       "  </tbody>\n",
       "</table>\n",
       "</div>"
      ],
      "text/plain": [
       "  Borough Neighborhood  Neighborhood Latitude  Neighborhood Longitude  \\\n",
       "0   Bronx    Wakefield              40.894705              -73.847201   \n",
       "1   Bronx    Wakefield              40.894705              -73.847201   \n",
       "2   Bronx    Wakefield              40.894705              -73.847201   \n",
       "3   Bronx    Wakefield              40.894705              -73.847201   \n",
       "4   Bronx    Wakefield              40.894705              -73.847201   \n",
       "\n",
       "                                     Venue  Venue Latitude  Venue Longitude  \\\n",
       "0                         Lollipops Gelato       40.894123       -73.845892   \n",
       "1                                 Rite Aid       40.896521       -73.844680   \n",
       "2  Cooler Runnings Jamaican Restaurant Inc       40.898276       -73.850381   \n",
       "3                         Carvel Ice Cream       40.890487       -73.848568   \n",
       "4                            Dunkin Donuts       40.890631       -73.849027   \n",
       "\n",
       "         Venue Category  \n",
       "0          Dessert Shop  \n",
       "1              Pharmacy  \n",
       "2  Caribbean Restaurant  \n",
       "3        Ice Cream Shop  \n",
       "4            Donut Shop  "
      ]
     },
     "execution_count": 50,
     "metadata": {},
     "output_type": "execute_result"
    }
   ],
   "source": [
    "newyork_venues.head()"
   ]
  },
  {
   "cell_type": "code",
   "execution_count": 51,
   "metadata": {},
   "outputs": [
    {
     "data": {
      "text/plain": [
       "(10265, 8)"
      ]
     },
     "execution_count": 51,
     "metadata": {},
     "output_type": "execute_result"
    }
   ],
   "source": [
    "newyork_venues.shape"
   ]
  },
  {
   "cell_type": "markdown",
   "metadata": {},
   "source": [
    "Get the number of unique venues types in New York City."
   ]
  },
  {
   "cell_type": "code",
   "execution_count": 52,
   "metadata": {},
   "outputs": [
    {
     "name": "stdout",
     "output_type": "stream",
     "text": [
      "429\n"
     ]
    }
   ],
   "source": [
    "print(newyork_venues['Venue Category'].unique().shape[0])"
   ]
  },
  {
   "cell_type": "markdown",
   "metadata": {},
   "source": [
    "#### New York City venues Map visualization"
   ]
  },
  {
   "cell_type": "code",
   "execution_count": 53,
   "metadata": {},
   "outputs": [
    {
     "data": {
      "text/html": [
       "\n",
       "        <iframe\n",
       "            width=\"100%\"\n",
       "            height=\"825px\"\n",
       "            src=\"index.html\"\n",
       "            frameborder=\"0\"\n",
       "            allowfullscreen\n",
       "        ></iframe>\n",
       "        "
      ],
      "text/plain": [
       "<IPython.lib.display.IFrame at 0x174caa49dd8>"
      ]
     },
     "execution_count": 53,
     "metadata": {},
     "output_type": "execute_result"
    }
   ],
   "source": [
    "# create map\n",
    "map_newyork_venues = folium.Map(location=[newyork_latitude-0.028, newyork_longitude], zoom_start=11)\n",
    "\n",
    "\n",
    "map_newyork_venues.choropleth(\n",
    "    geo_data=newyork_neighborhoods_geo,\n",
    "    fill_color='#8CABD4',\n",
    "    line_color='White',\n",
    "    fill_opacity=0.5, \n",
    "    line_opacity=0.7,\n",
    "    line_weight=2,\n",
    "    legend_name='New York City Neighborhoods Tabulation Areas',\n",
    "    reset=True\n",
    ")\n",
    "\n",
    "# add markers to map\n",
    "for lat, lng, venue, category in zip(newyork_venues['Venue Latitude'], newyork_venues['Venue Longitude'], \n",
    "                                     newyork_venues['Venue'], newyork_venues['Venue Category']):\n",
    "    label = '{}, {}'.format(category, venue)\n",
    "    label = folium.Popup(label, parse_html=True)\n",
    "    folium.CircleMarker(\n",
    "            [lat, lng],\n",
    "            radius=0.1,\n",
    "            popup=label,\n",
    "            color='red',\n",
    "            fill=True,\n",
    "            fill_color='#FF0000',\n",
    "            fill_opacity=0.3).add_to(map_newyork_venues)  \n",
    "\n",
    "       \n",
    "embed_map(map_newyork_venues, heightVal='825px')"
   ]
  },
  {
   "cell_type": "markdown",
   "metadata": {},
   "source": [
    "Venues differences between Paris & New York. New york has more venues than Paris."
   ]
  },
  {
   "cell_type": "code",
   "execution_count": 54,
   "metadata": {},
   "outputs": [
    {
     "name": "stdout",
     "output_type": "stream",
     "text": [
      "Venues differences between Paris & New York : 2416 venues\n"
     ]
    }
   ],
   "source": [
    "# Venues differences between Paris & New York\n",
    "print(\"Venues differences between Paris & New York : {} venues\".format(newyork_venues.shape[0] - paris_venues.shape[0]))"
   ]
  },
  {
   "cell_type": "markdown",
   "metadata": {},
   "source": [
    "## 3- Data Analytics & Clustering\n",
    "\n",
    "### 3.1- General processing"
   ]
  },
  {
   "cell_type": "markdown",
   "metadata": {},
   "source": [
    "After manually group Foursquare's venues categories found in Paris and New York City, we stored the new global categories of venues in .csv file.\n",
    "\n",
    "So this is an example of global categories and corresponding venues."
   ]
  },
  {
   "cell_type": "code",
   "execution_count": 55,
   "metadata": {},
   "outputs": [
    {
     "data": {
      "text/html": [
       "<div>\n",
       "<style scoped>\n",
       "    .dataframe tbody tr th:only-of-type {\n",
       "        vertical-align: middle;\n",
       "    }\n",
       "\n",
       "    .dataframe tbody tr th {\n",
       "        vertical-align: top;\n",
       "    }\n",
       "\n",
       "    .dataframe thead th {\n",
       "        text-align: right;\n",
       "    }\n",
       "</style>\n",
       "<table border=\"1\" class=\"dataframe\">\n",
       "  <thead>\n",
       "    <tr style=\"text-align: right;\">\n",
       "      <th></th>\n",
       "      <th>BAR_CLUB</th>\n",
       "      <th>RESTAURANT</th>\n",
       "      <th>SERVICES</th>\n",
       "      <th>LEISURE_SPORTS</th>\n",
       "      <th>CULTURAL_SCHOOLS</th>\n",
       "      <th>PARKS_NATURE_RURAL</th>\n",
       "      <th>TRANSPORT_INFRASTRUCTURE</th>\n",
       "      <th>RESIDENTIAL</th>\n",
       "    </tr>\n",
       "  </thead>\n",
       "  <tbody>\n",
       "    <tr>\n",
       "      <th>0</th>\n",
       "      <td>Street Food Gathering</td>\n",
       "      <td>Argentinian Restaurant</td>\n",
       "      <td>Print Shop</td>\n",
       "      <td>Basketball Court</td>\n",
       "      <td>Movie Theater</td>\n",
       "      <td>Park</td>\n",
       "      <td>Bus Station</td>\n",
       "      <td>Residential Building (Apartment / Condo)</td>\n",
       "    </tr>\n",
       "    <tr>\n",
       "      <th>1</th>\n",
       "      <td>Rock Club</td>\n",
       "      <td>Israeli Restaurant</td>\n",
       "      <td>Big Box Store</td>\n",
       "      <td>Gym / Fitness Center</td>\n",
       "      <td>Public Art</td>\n",
       "      <td>Trail</td>\n",
       "      <td>Harbor / Marina</td>\n",
       "      <td>Neighborhood</td>\n",
       "    </tr>\n",
       "    <tr>\n",
       "      <th>2</th>\n",
       "      <td>Gay Bar</td>\n",
       "      <td>Colombian Restaurant</td>\n",
       "      <td>Shop &amp; Service</td>\n",
       "      <td>Gym</td>\n",
       "      <td>Art Gallery</td>\n",
       "      <td>Garden</td>\n",
       "      <td>Bus Line</td>\n",
       "      <td>Indoor Play Area</td>\n",
       "    </tr>\n",
       "    <tr>\n",
       "      <th>3</th>\n",
       "      <td>Poke Place</td>\n",
       "      <td>Burmese Restaurant</td>\n",
       "      <td>Tourist Information Center</td>\n",
       "      <td>Bowling Alley</td>\n",
       "      <td>Historic Site</td>\n",
       "      <td>Plaza</td>\n",
       "      <td>Gas Station</td>\n",
       "      <td>Playground</td>\n",
       "    </tr>\n",
       "    <tr>\n",
       "      <th>4</th>\n",
       "      <td>Adult Boutique</td>\n",
       "      <td>Czech Restaurant</td>\n",
       "      <td>Entertainment Service</td>\n",
       "      <td>Yoga Studio</td>\n",
       "      <td>Performing Arts Venue</td>\n",
       "      <td>Scenic Lookout</td>\n",
       "      <td>Train Station</td>\n",
       "      <td>Building</td>\n",
       "    </tr>\n",
       "  </tbody>\n",
       "</table>\n",
       "</div>"
      ],
      "text/plain": [
       "                BAR_CLUB              RESTAURANT                    SERVICES  \\\n",
       "0  Street Food Gathering  Argentinian Restaurant                  Print Shop   \n",
       "1              Rock Club      Israeli Restaurant               Big Box Store   \n",
       "2                Gay Bar    Colombian Restaurant              Shop & Service   \n",
       "3             Poke Place      Burmese Restaurant  Tourist Information Center   \n",
       "4         Adult Boutique        Czech Restaurant       Entertainment Service   \n",
       "\n",
       "         LEISURE_SPORTS       CULTURAL_SCHOOLS PARKS_NATURE_RURAL  \\\n",
       "0      Basketball Court          Movie Theater               Park   \n",
       "1  Gym / Fitness Center             Public Art              Trail   \n",
       "2                   Gym            Art Gallery             Garden   \n",
       "3         Bowling Alley          Historic Site              Plaza   \n",
       "4           Yoga Studio  Performing Arts Venue     Scenic Lookout   \n",
       "\n",
       "  TRANSPORT_INFRASTRUCTURE                               RESIDENTIAL  \n",
       "0              Bus Station  Residential Building (Apartment / Condo)  \n",
       "1          Harbor / Marina                              Neighborhood  \n",
       "2                 Bus Line                          Indoor Play Area  \n",
       "3              Gas Station                                Playground  \n",
       "4            Train Station                                  Building  "
      ]
     },
     "execution_count": 55,
     "metadata": {},
     "output_type": "execute_result"
    }
   ],
   "source": [
    "venues_parent_categories = pd.read_csv('venues_categories.csv', encoding = 'utf8')\n",
    "venues_parent_categories.head()"
   ]
  },
  {
   "cell_type": "markdown",
   "metadata": {},
   "source": [
    "Collecting differents global categories of venues in a lists."
   ]
  },
  {
   "cell_type": "code",
   "execution_count": 56,
   "metadata": {},
   "outputs": [],
   "source": [
    "# Export columns to python lists\n",
    "venues_BAR_CLUB = venues_parent_categories.BAR_CLUB.tolist()\n",
    "venues_BAR_CLUB = [x for x in venues_BAR_CLUB if str(x) != 'nan']\n",
    "\n",
    "venues_RESTAURANT = venues_parent_categories.RESTAURANT.tolist()\n",
    "venues_RESTAURANT = [x for x in venues_RESTAURANT if str(x) != 'nan']\n",
    "\n",
    "venues_SERVICES = venues_parent_categories.SERVICES.tolist()\n",
    "venues_SERVICES = [x for x in venues_SERVICES if str(x) != 'nan']\n",
    "\n",
    "venues_LEISURE_SPORTS = venues_parent_categories.LEISURE_SPORTS.tolist()\n",
    "venues_LEISURE_SPORTS = [x for x in venues_LEISURE_SPORTS if str(x) != 'nan']\n",
    "\n",
    "venues_CULTURAL_SCHOOLS = venues_parent_categories.CULTURAL_SCHOOLS.tolist()\n",
    "venues_CULTURAL_SCHOOLS = [x for x in venues_CULTURAL_SCHOOLS if str(x) != 'nan']\n",
    "\n",
    "venues_PARKS_NATURE_RURAL = venues_parent_categories.PARKS_NATURE_RURAL.tolist()\n",
    "venues_PARKS_NATURE_RURAL = [x for x in venues_PARKS_NATURE_RURAL if str(x) != 'nan']\n",
    "\n",
    "venues_TRANSPORT_INFRASTRUCTURE = venues_parent_categories.TRANSPORT_INFRASTRUCTURE.tolist()\n",
    "venues_TRANSPORT_INFRASTRUCTURE = [x for x in venues_TRANSPORT_INFRASTRUCTURE if str(x) != 'nan']\n",
    "\n",
    "venues_RESIDENTIAL = venues_parent_categories.RESIDENTIAL.tolist()\n",
    "venues_RESIDENTIAL = [x for x in venues_RESIDENTIAL if str(x) != 'nan']"
   ]
  },
  {
   "cell_type": "markdown",
   "metadata": {},
   "source": [
    "Function to transform foursquare default categories to my custom categories that englobe differents venues basic categories"
   ]
  },
  {
   "cell_type": "code",
   "execution_count": 57,
   "metadata": {},
   "outputs": [],
   "source": [
    "def encode_venues_categories(dataframe):\n",
    "    res = []\n",
    "    for index, row in dataframe.iterrows():\n",
    "        if row[\"Venue Category\"] in (venues_BAR_CLUB):\n",
    "            res.append([row[\"Borough\"], row[\"Neighborhood\"], row[\"Neighborhood Latitude\"], row[\"Neighborhood Longitude\"],\n",
    "                        row[\"Venue Latitude\"], row[\"Venue Longitude\"],\n",
    "                        1, 0, 0, 0, 0, 0, 0, 0, 1])\n",
    "        elif row[\"Venue Category\"] in (venues_RESTAURANT):\n",
    "            res.append([row[\"Borough\"], row[\"Neighborhood\"], row[\"Neighborhood Latitude\"], row[\"Neighborhood Longitude\"],\n",
    "                        row[\"Venue Latitude\"], row[\"Venue Longitude\"],\n",
    "                        0, 1, 0, 0, 0, 0, 0, 0, 1])\n",
    "        elif row[\"Venue Category\"] in (venues_SERVICES):\n",
    "            res.append([row[\"Borough\"], row[\"Neighborhood\"], row[\"Neighborhood Latitude\"], row[\"Neighborhood Longitude\"],\n",
    "                        row[\"Venue Latitude\"], row[\"Venue Longitude\"],\n",
    "                        0, 0, 1, 0, 0, 0, 0, 0, 1])\n",
    "        elif row[\"Venue Category\"] in (venues_LEISURE_SPORTS):\n",
    "            res.append([row[\"Borough\"], row[\"Neighborhood\"], row[\"Neighborhood Latitude\"], row[\"Neighborhood Longitude\"],\n",
    "                        row[\"Venue Latitude\"], row[\"Venue Longitude\"],\n",
    "                        0, 0, 0, 1, 0, 0, 0, 0, 1])\n",
    "        elif row[\"Venue Category\"] in (venues_CULTURAL_SCHOOLS):\n",
    "            res.append([row[\"Borough\"], row[\"Neighborhood\"], row[\"Neighborhood Latitude\"], row[\"Neighborhood Longitude\"],\n",
    "                        row[\"Venue Latitude\"], row[\"Venue Longitude\"],\n",
    "                        0, 0, 0, 0, 1, 0, 0, 0, 1])\n",
    "        elif row[\"Venue Category\"] in (venues_PARKS_NATURE_RURAL):\n",
    "            res.append([row[\"Borough\"], row[\"Neighborhood\"], row[\"Neighborhood Latitude\"], row[\"Neighborhood Longitude\"],\n",
    "                        row[\"Venue Latitude\"], row[\"Venue Longitude\"],\n",
    "                        0, 0, 0, 0, 0, 1, 0, 0, 1])\n",
    "        elif row[\"Venue Category\"] in (venues_TRANSPORT_INFRASTRUCTURE):\n",
    "            res.append([row[\"Borough\"], row[\"Neighborhood\"], row[\"Neighborhood Latitude\"], row[\"Neighborhood Longitude\"],\n",
    "                        row[\"Venue Latitude\"], row[\"Venue Longitude\"],\n",
    "                        0, 0, 0, 0, 0, 0, 1, 0, 1])\n",
    "        elif row[\"Venue Category\"] in (venues_RESIDENTIAL):\n",
    "            res.append([row[\"Borough\"], row[\"Neighborhood\"], row[\"Neighborhood Latitude\"], row[\"Neighborhood Longitude\"],\n",
    "                        row[\"Venue Latitude\"], row[\"Venue Longitude\"],\n",
    "                        0, 0, 0, 0, 0, 0, 0, 1, 1])\n",
    "        else:\n",
    "            print(row[\"Venue Category\"])\n",
    "    return res"
   ]
  },
  {
   "cell_type": "markdown",
   "metadata": {},
   "source": [
    "Function to modify a specific parts in a pie graph that we will use"
   ]
  },
  {
   "cell_type": "code",
   "execution_count": 58,
   "metadata": {},
   "outputs": [],
   "source": [
    "def calculateTextpositions(values):\n",
    "    # Do not display percentages < 5%\n",
    "    return list(map(lambda v: 'outside' if float(v) < 0.054 else 'auto', values))"
   ]
  },
  {
   "cell_type": "markdown",
   "metadata": {},
   "source": [
    "Impotant columns to analyse & cluster the dataset"
   ]
  },
  {
   "cell_type": "code",
   "execution_count": 59,
   "metadata": {},
   "outputs": [],
   "source": [
    "columns_encoded = [\"Borough\", \"Neighborhood\", \"Neighborhood Latitude\", \"Neighborhood Longitude\", \n",
    "                                          \"Venue Latitude\", \"Venue Longitude\", \n",
    "                                          \"Bars and Clubs\", \"Restaurants\", \"Services\", \"Leisure and Sports\",\n",
    "                                          \"Education and Culture\", \"Nature and Parks\", \"Transportation\",\n",
    "                                          \"Residential\", \"Total Venues\"]"
   ]
  },
  {
   "cell_type": "markdown",
   "metadata": {},
   "source": [
    "### 3.2- Venues Categories Description"
   ]
  },
  {
   "cell_type": "code",
   "execution_count": 60,
   "metadata": {},
   "outputs": [],
   "source": [
    "venues_parent_categories.columns = columns_encoded[6:-1]\n",
    "\n",
    "venues_larger_categories = venues_parent_categories.count().reset_index()\n",
    "venues_larger_categories.columns=[\"Global Category\", \"Number of Unique Sub-Categories\"]"
   ]
  },
  {
   "cell_type": "code",
   "execution_count": 61,
   "metadata": {},
   "outputs": [
    {
     "data": {
      "text/html": [
       "<div>\n",
       "<style scoped>\n",
       "    .dataframe tbody tr th:only-of-type {\n",
       "        vertical-align: middle;\n",
       "    }\n",
       "\n",
       "    .dataframe tbody tr th {\n",
       "        vertical-align: top;\n",
       "    }\n",
       "\n",
       "    .dataframe thead th {\n",
       "        text-align: right;\n",
       "    }\n",
       "</style>\n",
       "<table border=\"1\" class=\"dataframe\">\n",
       "  <thead>\n",
       "    <tr style=\"text-align: right;\">\n",
       "      <th></th>\n",
       "      <th>Global Category</th>\n",
       "      <th>Number of Unique Sub-Categories</th>\n",
       "    </tr>\n",
       "  </thead>\n",
       "  <tbody>\n",
       "    <tr>\n",
       "      <th>0</th>\n",
       "      <td>Bars and Clubs</td>\n",
       "      <td>73</td>\n",
       "    </tr>\n",
       "    <tr>\n",
       "      <th>1</th>\n",
       "      <td>Restaurants</td>\n",
       "      <td>126</td>\n",
       "    </tr>\n",
       "    <tr>\n",
       "      <th>2</th>\n",
       "      <td>Services</td>\n",
       "      <td>146</td>\n",
       "    </tr>\n",
       "    <tr>\n",
       "      <th>3</th>\n",
       "      <td>Leisure and Sports</td>\n",
       "      <td>52</td>\n",
       "    </tr>\n",
       "    <tr>\n",
       "      <th>4</th>\n",
       "      <td>Education and Culture</td>\n",
       "      <td>50</td>\n",
       "    </tr>\n",
       "    <tr>\n",
       "      <th>5</th>\n",
       "      <td>Nature and Parks</td>\n",
       "      <td>36</td>\n",
       "    </tr>\n",
       "    <tr>\n",
       "      <th>6</th>\n",
       "      <td>Transportation</td>\n",
       "      <td>31</td>\n",
       "    </tr>\n",
       "    <tr>\n",
       "      <th>7</th>\n",
       "      <td>Residential</td>\n",
       "      <td>7</td>\n",
       "    </tr>\n",
       "  </tbody>\n",
       "</table>\n",
       "</div>"
      ],
      "text/plain": [
       "         Global Category  Number of Unique Sub-Categories\n",
       "0         Bars and Clubs                               73\n",
       "1            Restaurants                              126\n",
       "2               Services                              146\n",
       "3     Leisure and Sports                               52\n",
       "4  Education and Culture                               50\n",
       "5       Nature and Parks                               36\n",
       "6         Transportation                               31\n",
       "7            Residential                                7"
      ]
     },
     "execution_count": 61,
     "metadata": {},
     "output_type": "execute_result"
    }
   ],
   "source": [
    "venues_larger_categories"
   ]
  },
  {
   "cell_type": "code",
   "execution_count": 62,
   "metadata": {},
   "outputs": [
    {
     "data": {
      "text/html": [
       "<iframe id=\"igraph\" scrolling=\"no\" style=\"border:none;\" seamless=\"seamless\" src=\"https://plot.ly/~mourabitelbachir/46.embed\" height=\"525px\" width=\"100%\"></iframe>"
      ],
      "text/plain": [
       "<plotly.tools.PlotlyDisplay object>"
      ]
     },
     "execution_count": 62,
     "metadata": {},
     "output_type": "execute_result"
    }
   ],
   "source": [
    "bar_venues_desc = go.Bar(x=venues_larger_categories[\"Global Category\"], \n",
    "                         y=venues_larger_categories[\"Number of Unique Sub-Categories\"],\n",
    "                         name=\"Number of Venues Sub-Categories for each larger Categorie\")\n",
    "\n",
    "layout = go.Layout(barmode='overlay', title=\"Number of Venues Sub-Categories for each larger Categorie\")\n",
    "fig = go.Figure(data=[bar_venues_desc], layout=layout)\n",
    "\n",
    "ppy.iplot(fig, filename='venues_categories_desc')"
   ]
  },
  {
   "cell_type": "markdown",
   "metadata": {},
   "source": [
    "### 3.3- Paris Analytics"
   ]
  },
  {
   "cell_type": "code",
   "execution_count": 63,
   "metadata": {},
   "outputs": [],
   "source": [
    "# Create encoded venues dataframe\n",
    "paris_encoded_venues = pd.DataFrame(encode_venues_categories(paris_venues), \n",
    "                                 columns=columns_encoded)"
   ]
  },
  {
   "cell_type": "code",
   "execution_count": 64,
   "metadata": {},
   "outputs": [
    {
     "data": {
      "text/plain": [
       "(7849, 15)"
      ]
     },
     "execution_count": 64,
     "metadata": {},
     "output_type": "execute_result"
    }
   ],
   "source": [
    "paris_encoded_venues.shape"
   ]
  },
  {
   "cell_type": "code",
   "execution_count": 65,
   "metadata": {},
   "outputs": [
    {
     "data": {
      "text/plain": [
       "(7849, 8)"
      ]
     },
     "execution_count": 65,
     "metadata": {},
     "output_type": "execute_result"
    }
   ],
   "source": [
    "paris_venues.shape"
   ]
  },
  {
   "cell_type": "code",
   "execution_count": 66,
   "metadata": {},
   "outputs": [
    {
     "data": {
      "text/html": [
       "<div>\n",
       "<style scoped>\n",
       "    .dataframe tbody tr th:only-of-type {\n",
       "        vertical-align: middle;\n",
       "    }\n",
       "\n",
       "    .dataframe tbody tr th {\n",
       "        vertical-align: top;\n",
       "    }\n",
       "\n",
       "    .dataframe thead th {\n",
       "        text-align: right;\n",
       "    }\n",
       "</style>\n",
       "<table border=\"1\" class=\"dataframe\">\n",
       "  <thead>\n",
       "    <tr style=\"text-align: right;\">\n",
       "      <th></th>\n",
       "      <th>Borough</th>\n",
       "      <th>Neighborhood</th>\n",
       "      <th>Neighborhood Latitude</th>\n",
       "      <th>Neighborhood Longitude</th>\n",
       "      <th>Venue Latitude</th>\n",
       "      <th>Venue Longitude</th>\n",
       "      <th>Bars and Clubs</th>\n",
       "      <th>Restaurants</th>\n",
       "      <th>Services</th>\n",
       "      <th>Leisure and Sports</th>\n",
       "      <th>Education and Culture</th>\n",
       "      <th>Nature and Parks</th>\n",
       "      <th>Transportation</th>\n",
       "      <th>Residential</th>\n",
       "      <th>Total Venues</th>\n",
       "    </tr>\n",
       "  </thead>\n",
       "  <tbody>\n",
       "    <tr>\n",
       "      <th>0</th>\n",
       "      <td>Louvre</td>\n",
       "      <td>PALAIS ROYAL</td>\n",
       "      <td>48.864661</td>\n",
       "      <td>2.336308</td>\n",
       "      <td>48.864941</td>\n",
       "      <td>2.337728</td>\n",
       "      <td>0</td>\n",
       "      <td>0</td>\n",
       "      <td>0</td>\n",
       "      <td>0</td>\n",
       "      <td>0</td>\n",
       "      <td>1</td>\n",
       "      <td>0</td>\n",
       "      <td>0</td>\n",
       "      <td>1</td>\n",
       "    </tr>\n",
       "    <tr>\n",
       "      <th>1</th>\n",
       "      <td>Louvre</td>\n",
       "      <td>PALAIS ROYAL</td>\n",
       "      <td>48.864661</td>\n",
       "      <td>2.336308</td>\n",
       "      <td>48.864713</td>\n",
       "      <td>2.334059</td>\n",
       "      <td>0</td>\n",
       "      <td>1</td>\n",
       "      <td>0</td>\n",
       "      <td>0</td>\n",
       "      <td>0</td>\n",
       "      <td>0</td>\n",
       "      <td>0</td>\n",
       "      <td>0</td>\n",
       "      <td>1</td>\n",
       "    </tr>\n",
       "    <tr>\n",
       "      <th>2</th>\n",
       "      <td>Louvre</td>\n",
       "      <td>PALAIS ROYAL</td>\n",
       "      <td>48.864661</td>\n",
       "      <td>2.336308</td>\n",
       "      <td>48.863758</td>\n",
       "      <td>2.337121</td>\n",
       "      <td>0</td>\n",
       "      <td>0</td>\n",
       "      <td>0</td>\n",
       "      <td>0</td>\n",
       "      <td>1</td>\n",
       "      <td>0</td>\n",
       "      <td>0</td>\n",
       "      <td>0</td>\n",
       "      <td>1</td>\n",
       "    </tr>\n",
       "    <tr>\n",
       "      <th>3</th>\n",
       "      <td>Louvre</td>\n",
       "      <td>PALAIS ROYAL</td>\n",
       "      <td>48.864661</td>\n",
       "      <td>2.336308</td>\n",
       "      <td>48.865528</td>\n",
       "      <td>2.337057</td>\n",
       "      <td>0</td>\n",
       "      <td>1</td>\n",
       "      <td>0</td>\n",
       "      <td>0</td>\n",
       "      <td>0</td>\n",
       "      <td>0</td>\n",
       "      <td>0</td>\n",
       "      <td>0</td>\n",
       "      <td>1</td>\n",
       "    </tr>\n",
       "    <tr>\n",
       "      <th>4</th>\n",
       "      <td>Louvre</td>\n",
       "      <td>PALAIS ROYAL</td>\n",
       "      <td>48.864661</td>\n",
       "      <td>2.336308</td>\n",
       "      <td>48.863088</td>\n",
       "      <td>2.336612</td>\n",
       "      <td>0</td>\n",
       "      <td>0</td>\n",
       "      <td>0</td>\n",
       "      <td>0</td>\n",
       "      <td>1</td>\n",
       "      <td>0</td>\n",
       "      <td>0</td>\n",
       "      <td>0</td>\n",
       "      <td>1</td>\n",
       "    </tr>\n",
       "  </tbody>\n",
       "</table>\n",
       "</div>"
      ],
      "text/plain": [
       "  Borough  Neighborhood  Neighborhood Latitude  Neighborhood Longitude  \\\n",
       "0  Louvre  PALAIS ROYAL              48.864661                2.336308   \n",
       "1  Louvre  PALAIS ROYAL              48.864661                2.336308   \n",
       "2  Louvre  PALAIS ROYAL              48.864661                2.336308   \n",
       "3  Louvre  PALAIS ROYAL              48.864661                2.336308   \n",
       "4  Louvre  PALAIS ROYAL              48.864661                2.336308   \n",
       "\n",
       "   Venue Latitude  Venue Longitude  Bars and Clubs  Restaurants  Services  \\\n",
       "0       48.864941         2.337728               0            0         0   \n",
       "1       48.864713         2.334059               0            1         0   \n",
       "2       48.863758         2.337121               0            0         0   \n",
       "3       48.865528         2.337057               0            1         0   \n",
       "4       48.863088         2.336612               0            0         0   \n",
       "\n",
       "   Leisure and Sports  Education and Culture  Nature and Parks  \\\n",
       "0                   0                      0                 1   \n",
       "1                   0                      0                 0   \n",
       "2                   0                      1                 0   \n",
       "3                   0                      0                 0   \n",
       "4                   0                      1                 0   \n",
       "\n",
       "   Transportation  Residential  Total Venues  \n",
       "0               0            0             1  \n",
       "1               0            0             1  \n",
       "2               0            0             1  \n",
       "3               0            0             1  \n",
       "4               0            0             1  "
      ]
     },
     "execution_count": 66,
     "metadata": {},
     "output_type": "execute_result"
    }
   ],
   "source": [
    "paris_encoded_venues.head()"
   ]
  },
  {
   "cell_type": "code",
   "execution_count": 67,
   "metadata": {},
   "outputs": [],
   "source": [
    "columns_to_drop_sum = ['Neighborhood Latitude', 'Neighborhood Longitude',\n",
    "                        'Venue Latitude', 'Venue Longitude']\n",
    "\n",
    "columns_to_drop_mean = columns_to_drop_sum + ['Total Venues']\n",
    "\n",
    "\n",
    "paris_encoded_venues_droped_sum = paris_encoded_venues.drop(columns=columns_to_drop_sum)\n",
    "paris_encoded_venues_droped_mean = paris_encoded_venues.drop(columns=columns_to_drop_mean)\n",
    "\n",
    "# Create encoded grouped venues dataframe for Bar graphical Analysis\n",
    "paris_encoded_venues_grouped_sum = paris_encoded_venues_droped_sum.groupby(['Borough', 'Neighborhood']).sum().reset_index()\n",
    "\n",
    "# Prepare encoded grouped venues dataframe for KMeans clustering\n",
    "paris_encoded_venues_grouped_mean = paris_encoded_venues_droped_mean.groupby(['Borough', 'Neighborhood']).mean().reset_index()\n"
   ]
  },
  {
   "cell_type": "code",
   "execution_count": 68,
   "metadata": {},
   "outputs": [
    {
     "data": {
      "text/html": [
       "<div>\n",
       "<style scoped>\n",
       "    .dataframe tbody tr th:only-of-type {\n",
       "        vertical-align: middle;\n",
       "    }\n",
       "\n",
       "    .dataframe tbody tr th {\n",
       "        vertical-align: top;\n",
       "    }\n",
       "\n",
       "    .dataframe thead th {\n",
       "        text-align: right;\n",
       "    }\n",
       "</style>\n",
       "<table border=\"1\" class=\"dataframe\">\n",
       "  <thead>\n",
       "    <tr style=\"text-align: right;\">\n",
       "      <th></th>\n",
       "      <th>Borough</th>\n",
       "      <th>Neighborhood</th>\n",
       "      <th>Bars and Clubs</th>\n",
       "      <th>Restaurants</th>\n",
       "      <th>Services</th>\n",
       "      <th>Leisure and Sports</th>\n",
       "      <th>Education and Culture</th>\n",
       "      <th>Nature and Parks</th>\n",
       "      <th>Transportation</th>\n",
       "      <th>Residential</th>\n",
       "      <th>Total Venues</th>\n",
       "    </tr>\n",
       "  </thead>\n",
       "  <tbody>\n",
       "    <tr>\n",
       "      <th>0</th>\n",
       "      <td>Batignolles-Monceau</td>\n",
       "      <td>BATIGNOLLES - CARDINET</td>\n",
       "      <td>22</td>\n",
       "      <td>57</td>\n",
       "      <td>17</td>\n",
       "      <td>2</td>\n",
       "      <td>1</td>\n",
       "      <td>1</td>\n",
       "      <td>0</td>\n",
       "      <td>0</td>\n",
       "      <td>100</td>\n",
       "    </tr>\n",
       "    <tr>\n",
       "      <th>1</th>\n",
       "      <td>Batignolles-Monceau</td>\n",
       "      <td>CHAMPERRET - BERTHIER</td>\n",
       "      <td>11</td>\n",
       "      <td>31</td>\n",
       "      <td>21</td>\n",
       "      <td>3</td>\n",
       "      <td>1</td>\n",
       "      <td>2</td>\n",
       "      <td>2</td>\n",
       "      <td>0</td>\n",
       "      <td>71</td>\n",
       "    </tr>\n",
       "    <tr>\n",
       "      <th>2</th>\n",
       "      <td>Batignolles-Monceau</td>\n",
       "      <td>COURCELLES - WAGRAM</td>\n",
       "      <td>12</td>\n",
       "      <td>42</td>\n",
       "      <td>16</td>\n",
       "      <td>2</td>\n",
       "      <td>0</td>\n",
       "      <td>3</td>\n",
       "      <td>0</td>\n",
       "      <td>0</td>\n",
       "      <td>75</td>\n",
       "    </tr>\n",
       "    <tr>\n",
       "      <th>3</th>\n",
       "      <td>Batignolles-Monceau</td>\n",
       "      <td>EPINETTES - BESSIERES</td>\n",
       "      <td>0</td>\n",
       "      <td>9</td>\n",
       "      <td>5</td>\n",
       "      <td>1</td>\n",
       "      <td>0</td>\n",
       "      <td>1</td>\n",
       "      <td>5</td>\n",
       "      <td>0</td>\n",
       "      <td>21</td>\n",
       "    </tr>\n",
       "    <tr>\n",
       "      <th>4</th>\n",
       "      <td>Batignolles-Monceau</td>\n",
       "      <td>LA FOURCHE - GUY MOQUET</td>\n",
       "      <td>7</td>\n",
       "      <td>15</td>\n",
       "      <td>10</td>\n",
       "      <td>2</td>\n",
       "      <td>0</td>\n",
       "      <td>2</td>\n",
       "      <td>1</td>\n",
       "      <td>0</td>\n",
       "      <td>37</td>\n",
       "    </tr>\n",
       "  </tbody>\n",
       "</table>\n",
       "</div>"
      ],
      "text/plain": [
       "               Borough             Neighborhood  Bars and Clubs  Restaurants  \\\n",
       "0  Batignolles-Monceau   BATIGNOLLES - CARDINET              22           57   \n",
       "1  Batignolles-Monceau    CHAMPERRET - BERTHIER              11           31   \n",
       "2  Batignolles-Monceau      COURCELLES - WAGRAM              12           42   \n",
       "3  Batignolles-Monceau    EPINETTES - BESSIERES               0            9   \n",
       "4  Batignolles-Monceau  LA FOURCHE - GUY MOQUET               7           15   \n",
       "\n",
       "   Services  Leisure and Sports  Education and Culture  Nature and Parks  \\\n",
       "0        17                   2                      1                 1   \n",
       "1        21                   3                      1                 2   \n",
       "2        16                   2                      0                 3   \n",
       "3         5                   1                      0                 1   \n",
       "4        10                   2                      0                 2   \n",
       "\n",
       "   Transportation  Residential  Total Venues  \n",
       "0               0            0           100  \n",
       "1               2            0            71  \n",
       "2               0            0            75  \n",
       "3               5            0            21  \n",
       "4               1            0            37  "
      ]
     },
     "execution_count": 68,
     "metadata": {},
     "output_type": "execute_result"
    }
   ],
   "source": [
    "paris_encoded_venues_grouped_sum.head()"
   ]
  },
  {
   "cell_type": "code",
   "execution_count": 69,
   "metadata": {},
   "outputs": [
    {
     "data": {
      "text/plain": [
       "(123, 11)"
      ]
     },
     "execution_count": 69,
     "metadata": {},
     "output_type": "execute_result"
    }
   ],
   "source": [
    "paris_encoded_venues_grouped_sum.shape"
   ]
  },
  {
   "cell_type": "markdown",
   "metadata": {},
   "source": [
    "### General analysis for Paris's neighborhoods & venues"
   ]
  },
  {
   "cell_type": "markdown",
   "metadata": {},
   "source": [
    "#### Number of venues per range of neighborhoods in Paris"
   ]
  },
  {
   "cell_type": "code",
   "execution_count": 70,
   "metadata": {},
   "outputs": [
    {
     "data": {
      "image/png": "[encoded data removed]",
      "text/plain": [
       "<matplotlib.figure.Figure at 0x174cbbe87f0>"
      ]
     },
     "metadata": {
      "needs_background": "light"
     },
     "output_type": "display_data"
    }
   ],
   "source": [
    "count, bin_edges = np.histogram(paris_encoded_venues_grouped_sum['Total Venues'])\n",
    "bin_edges_rounded = np.round(bin_edges)\n",
    "\n",
    "paris_encoded_venues_grouped_sum['Total Venues'].plot(kind='hist', \n",
    "             figsize=(12, 6), # pass a tuple (x, y) size\n",
    "             xticks=bin_edges_rounded\n",
    "             )\n",
    "\n",
    "plt.title('Paris : the population range of Venues per every range of Neighborhood')\n",
    "plt.xlabel('Number of Venues')\n",
    "plt.ylabel('Range of Neighborhoods')\n",
    "\n",
    "plt.show()"
   ]
  },
  {
   "cell_type": "markdown",
   "metadata": {},
   "source": [
    "#### Distribution of neighborhoods' numbers of bars & clubs in Paris"
   ]
  },
  {
   "cell_type": "code",
   "execution_count": 71,
   "metadata": {},
   "outputs": [],
   "source": [
    "# Index is occuring that number of times\n",
    "# number of Bars and Clubs (index) is occurring that number of times (values)\n",
    "# number of Bars and Clubs / number of neighborhoods\n",
    "paris_bar_club_dist = paris_encoded_venues_grouped_sum['Bars and Clubs'].value_counts(sort=False)"
   ]
  },
  {
   "cell_type": "code",
   "execution_count": 72,
   "metadata": {},
   "outputs": [
    {
     "ename": "PlotlyRequestError",
     "evalue": "Account limit reached: Your account is limited to creating 25 charts. To continue, you can override or delete existing charts or you can upgrade your account at: https://plot.ly/products/cloud",
     "output_type": "error",
     "traceback": [
      "\u001b[1;31m---------------------------------------------------------------------------\u001b[0m",
      "\u001b[1;31mPlotlyRequestError\u001b[0m                        Traceback (most recent call last)",
      "\u001b[1;32m<ipython-input-72-e3ad2366cac2>\u001b[0m in \u001b[0;36m<module>\u001b[1;34m()\u001b[0m\n\u001b[0;32m      1\u001b[0m paris_bar_club_dist.iplot(kind='bar', color=\"#3F51AB\", filename='paris_distribution_bar_clubb',\n\u001b[0;32m      2\u001b[0m                          \u001b[0mxTitle\u001b[0m\u001b[1;33m=\u001b[0m\u001b[1;34m'Number of Bars and Clubs'\u001b[0m\u001b[1;33m,\u001b[0m \u001b[0myTitle\u001b[0m\u001b[1;33m=\u001b[0m\u001b[1;34m'Number of Neighborhoods'\u001b[0m\u001b[1;33m,\u001b[0m\u001b[1;33m\u001b[0m\u001b[0m\n\u001b[1;32m----> 3\u001b[1;33m                          title='Paris : the population range of Bars and Clubs per every range of Neighborhood')\n\u001b[0m",
      "\u001b[1;32mc:\\program files (x86)\\microsoft visual studio\\shared\\anaconda3_64\\lib\\site-packages\\cufflinks\\plotlytools.py\u001b[0m in \u001b[0;36m_iplot\u001b[1;34m(self, kind, data, layout, filename, sharing, title, xTitle, yTitle, zTitle, theme, colors, colorscale, fill, width, dash, mode, interpolation, symbol, size, barmode, sortbars, bargap, bargroupgap, bins, histnorm, histfunc, orientation, boxpoints, annotations, keys, bestfit, bestfit_colors, mean, mean_colors, categories, x, y, z, text, gridcolor, zerolinecolor, margin, labels, values, secondary_y, secondary_y_title, subplots, shape, error_x, error_y, error_type, locations, lon, lat, asFrame, asDates, asFigure, asImage, dimensions, asPlot, asUrl, online, **kwargs)\u001b[0m\n\u001b[0;32m   1198\u001b[0m \t\treturn iplot(figure,validate=validate,sharing=sharing,filename=filename,\n\u001b[0;32m   1199\u001b[0m                          \u001b[0monline\u001b[0m\u001b[1;33m=\u001b[0m\u001b[0monline\u001b[0m\u001b[1;33m,\u001b[0m\u001b[0masImage\u001b[0m\u001b[1;33m=\u001b[0m\u001b[0masImage\u001b[0m\u001b[1;33m,\u001b[0m\u001b[0masUrl\u001b[0m\u001b[1;33m=\u001b[0m\u001b[0masUrl\u001b[0m\u001b[1;33m,\u001b[0m\u001b[0masPlot\u001b[0m\u001b[1;33m=\u001b[0m\u001b[0masPlot\u001b[0m\u001b[1;33m,\u001b[0m\u001b[1;33m\u001b[0m\u001b[0m\n\u001b[1;32m-> 1200\u001b[1;33m \t\t\t dimensions=dimensions,display_image=kwargs.get('display_image',True))\n\u001b[0m\u001b[0;32m   1201\u001b[0m \u001b[1;33m\u001b[0m\u001b[0m\n\u001b[0;32m   1202\u001b[0m \u001b[1;33m\u001b[0m\u001b[0m\n",
      "\u001b[1;32mc:\\program files (x86)\\microsoft visual studio\\shared\\anaconda3_64\\lib\\site-packages\\cufflinks\\plotlytools.py\u001b[0m in \u001b[0;36miplot\u001b[1;34m(figure, validate, sharing, filename, online, asImage, asUrl, asPlot, dimensions, display_image, **kwargs)\u001b[0m\n\u001b[0;32m   1443\u001b[0m         \u001b[1;32melse\u001b[0m\u001b[1;33m:\u001b[0m\u001b[1;33m\u001b[0m\u001b[0m\n\u001b[0;32m   1444\u001b[0m \t\treturn py.iplot(figure,validate=validate,sharing=sharing,\n\u001b[1;32m-> 1445\u001b[1;33m \t\t\t\t\t\tfilename=filename)\n\u001b[0m\u001b[0;32m   1446\u001b[0m \u001b[1;33m\u001b[0m\u001b[0m\n\u001b[0;32m   1447\u001b[0m \u001b[1;33m\u001b[0m\u001b[0m\n",
      "\u001b[1;32mc:\\program files (x86)\\microsoft visual studio\\shared\\anaconda3_64\\lib\\site-packages\\plotly\\plotly\\plotly.py\u001b[0m in \u001b[0;36miplot\u001b[1;34m(figure_or_data, **plot_options)\u001b[0m\n\u001b[0;32m    140\u001b[0m     \u001b[1;32mif\u001b[0m \u001b[1;34m'auto_open'\u001b[0m \u001b[1;32mnot\u001b[0m \u001b[1;32min\u001b[0m \u001b[0mplot_options\u001b[0m\u001b[1;33m:\u001b[0m\u001b[1;33m\u001b[0m\u001b[0m\n\u001b[0;32m    141\u001b[0m         \u001b[0mplot_options\u001b[0m\u001b[1;33m[\u001b[0m\u001b[1;34m'auto_open'\u001b[0m\u001b[1;33m]\u001b[0m \u001b[1;33m=\u001b[0m \u001b[1;32mFalse\u001b[0m\u001b[1;33m\u001b[0m\u001b[0m\n\u001b[1;32m--> 142\u001b[1;33m     \u001b[0murl\u001b[0m \u001b[1;33m=\u001b[0m \u001b[0mplot\u001b[0m\u001b[1;33m(\u001b[0m\u001b[0mfigure_or_data\u001b[0m\u001b[1;33m,\u001b[0m \u001b[1;33m**\u001b[0m\u001b[0mplot_options\u001b[0m\u001b[1;33m)\u001b[0m\u001b[1;33m\u001b[0m\u001b[0m\n\u001b[0m\u001b[0;32m    143\u001b[0m \u001b[1;33m\u001b[0m\u001b[0m\n\u001b[0;32m    144\u001b[0m     \u001b[1;32mif\u001b[0m \u001b[0misinstance\u001b[0m\u001b[1;33m(\u001b[0m\u001b[0mfigure_or_data\u001b[0m\u001b[1;33m,\u001b[0m \u001b[0mdict\u001b[0m\u001b[1;33m)\u001b[0m\u001b[1;33m:\u001b[0m\u001b[1;33m\u001b[0m\u001b[0m\n",
      "\u001b[1;32mc:\\program files (x86)\\microsoft visual studio\\shared\\anaconda3_64\\lib\\site-packages\\plotly\\plotly\\plotly.py\u001b[0m in \u001b[0;36mplot\u001b[1;34m(figure_or_data, validate, **plot_options)\u001b[0m\n\u001b[0;32m    237\u001b[0m     \u001b[0mdata\u001b[0m \u001b[1;33m=\u001b[0m \u001b[0mfig\u001b[0m\u001b[1;33m.\u001b[0m\u001b[0mget\u001b[0m\u001b[1;33m(\u001b[0m\u001b[1;34m'data'\u001b[0m\u001b[1;33m,\u001b[0m \u001b[1;33m[\u001b[0m\u001b[1;33m]\u001b[0m\u001b[1;33m)\u001b[0m\u001b[1;33m\u001b[0m\u001b[0m\n\u001b[0;32m    238\u001b[0m     \u001b[0mplot_options\u001b[0m\u001b[1;33m[\u001b[0m\u001b[1;34m'layout'\u001b[0m\u001b[1;33m]\u001b[0m \u001b[1;33m=\u001b[0m \u001b[0mfig\u001b[0m\u001b[1;33m.\u001b[0m\u001b[0mget\u001b[0m\u001b[1;33m(\u001b[0m\u001b[1;34m'layout'\u001b[0m\u001b[1;33m,\u001b[0m \u001b[1;33m{\u001b[0m\u001b[1;33m}\u001b[0m\u001b[1;33m)\u001b[0m\u001b[1;33m\u001b[0m\u001b[0m\n\u001b[1;32m--> 239\u001b[1;33m     \u001b[0mresponse\u001b[0m \u001b[1;33m=\u001b[0m \u001b[0mv1\u001b[0m\u001b[1;33m.\u001b[0m\u001b[0mclientresp\u001b[0m\u001b[1;33m(\u001b[0m\u001b[0mdata\u001b[0m\u001b[1;33m,\u001b[0m \u001b[1;33m**\u001b[0m\u001b[0mplot_options\u001b[0m\u001b[1;33m)\u001b[0m\u001b[1;33m\u001b[0m\u001b[0m\n\u001b[0m\u001b[0;32m    240\u001b[0m \u001b[1;33m\u001b[0m\u001b[0m\n\u001b[0;32m    241\u001b[0m     \u001b[1;31m# Check if the url needs a secret key\u001b[0m\u001b[1;33m\u001b[0m\u001b[1;33m\u001b[0m\u001b[0m\n",
      "\u001b[1;32mc:\\program files (x86)\\microsoft visual studio\\shared\\anaconda3_64\\lib\\site-packages\\plotly\\api\\v1\\clientresp.py\u001b[0m in \u001b[0;36mclientresp\u001b[1;34m(data, **kwargs)\u001b[0m\n\u001b[0;32m     33\u001b[0m \u001b[1;33m\u001b[0m\u001b[0m\n\u001b[0;32m     34\u001b[0m     \u001b[0murl\u001b[0m \u001b[1;33m=\u001b[0m \u001b[1;34m'{plotly_domain}/clientresp'\u001b[0m\u001b[1;33m.\u001b[0m\u001b[0mformat\u001b[0m\u001b[1;33m(\u001b[0m\u001b[1;33m**\u001b[0m\u001b[0mcfg\u001b[0m\u001b[1;33m)\u001b[0m\u001b[1;33m\u001b[0m\u001b[0m\n\u001b[1;32m---> 35\u001b[1;33m     \u001b[0mresponse\u001b[0m \u001b[1;33m=\u001b[0m \u001b[0mrequest\u001b[0m\u001b[1;33m(\u001b[0m\u001b[1;34m'post'\u001b[0m\u001b[1;33m,\u001b[0m \u001b[0murl\u001b[0m\u001b[1;33m,\u001b[0m \u001b[0mdata\u001b[0m\u001b[1;33m=\u001b[0m\u001b[0mpayload\u001b[0m\u001b[1;33m)\u001b[0m\u001b[1;33m\u001b[0m\u001b[0m\n\u001b[0m\u001b[0;32m     36\u001b[0m \u001b[1;33m\u001b[0m\u001b[0m\n\u001b[0;32m     37\u001b[0m     \u001b[1;31m# Old functionality, just keeping it around.\u001b[0m\u001b[1;33m\u001b[0m\u001b[1;33m\u001b[0m\u001b[0m\n",
      "\u001b[1;32mc:\\program files (x86)\\microsoft visual studio\\shared\\anaconda3_64\\lib\\site-packages\\retrying.py\u001b[0m in \u001b[0;36mwrapped_f\u001b[1;34m(*args, **kw)\u001b[0m\n\u001b[0;32m     47\u001b[0m             \u001b[1;33m@\u001b[0m\u001b[0msix\u001b[0m\u001b[1;33m.\u001b[0m\u001b[0mwraps\u001b[0m\u001b[1;33m(\u001b[0m\u001b[0mf\u001b[0m\u001b[1;33m)\u001b[0m\u001b[1;33m\u001b[0m\u001b[0m\n\u001b[0;32m     48\u001b[0m             \u001b[1;32mdef\u001b[0m \u001b[0mwrapped_f\u001b[0m\u001b[1;33m(\u001b[0m\u001b[1;33m*\u001b[0m\u001b[0margs\u001b[0m\u001b[1;33m,\u001b[0m \u001b[1;33m**\u001b[0m\u001b[0mkw\u001b[0m\u001b[1;33m)\u001b[0m\u001b[1;33m:\u001b[0m\u001b[1;33m\u001b[0m\u001b[0m\n\u001b[1;32m---> 49\u001b[1;33m                 \u001b[1;32mreturn\u001b[0m \u001b[0mRetrying\u001b[0m\u001b[1;33m(\u001b[0m\u001b[1;33m*\u001b[0m\u001b[0mdargs\u001b[0m\u001b[1;33m,\u001b[0m \u001b[1;33m**\u001b[0m\u001b[0mdkw\u001b[0m\u001b[1;33m)\u001b[0m\u001b[1;33m.\u001b[0m\u001b[0mcall\u001b[0m\u001b[1;33m(\u001b[0m\u001b[0mf\u001b[0m\u001b[1;33m,\u001b[0m \u001b[1;33m*\u001b[0m\u001b[0margs\u001b[0m\u001b[1;33m,\u001b[0m \u001b[1;33m**\u001b[0m\u001b[0mkw\u001b[0m\u001b[1;33m)\u001b[0m\u001b[1;33m\u001b[0m\u001b[0m\n\u001b[0m\u001b[0;32m     50\u001b[0m \u001b[1;33m\u001b[0m\u001b[0m\n\u001b[0;32m     51\u001b[0m             \u001b[1;32mreturn\u001b[0m \u001b[0mwrapped_f\u001b[0m\u001b[1;33m\u001b[0m\u001b[0m\n",
      "\u001b[1;32mc:\\program files (x86)\\microsoft visual studio\\shared\\anaconda3_64\\lib\\site-packages\\retrying.py\u001b[0m in \u001b[0;36mcall\u001b[1;34m(self, fn, *args, **kwargs)\u001b[0m\n\u001b[0;32m    204\u001b[0m \u001b[1;33m\u001b[0m\u001b[0m\n\u001b[0;32m    205\u001b[0m             \u001b[1;32mif\u001b[0m \u001b[1;32mnot\u001b[0m \u001b[0mself\u001b[0m\u001b[1;33m.\u001b[0m\u001b[0mshould_reject\u001b[0m\u001b[1;33m(\u001b[0m\u001b[0mattempt\u001b[0m\u001b[1;33m)\u001b[0m\u001b[1;33m:\u001b[0m\u001b[1;33m\u001b[0m\u001b[0m\n\u001b[1;32m--> 206\u001b[1;33m                 \u001b[1;32mreturn\u001b[0m \u001b[0mattempt\u001b[0m\u001b[1;33m.\u001b[0m\u001b[0mget\u001b[0m\u001b[1;33m(\u001b[0m\u001b[0mself\u001b[0m\u001b[1;33m.\u001b[0m\u001b[0m_wrap_exception\u001b[0m\u001b[1;33m)\u001b[0m\u001b[1;33m\u001b[0m\u001b[0m\n\u001b[0m\u001b[0;32m    207\u001b[0m \u001b[1;33m\u001b[0m\u001b[0m\n\u001b[0;32m    208\u001b[0m             \u001b[0mdelay_since_first_attempt_ms\u001b[0m \u001b[1;33m=\u001b[0m \u001b[0mint\u001b[0m\u001b[1;33m(\u001b[0m\u001b[0mround\u001b[0m\u001b[1;33m(\u001b[0m\u001b[0mtime\u001b[0m\u001b[1;33m.\u001b[0m\u001b[0mtime\u001b[0m\u001b[1;33m(\u001b[0m\u001b[1;33m)\u001b[0m \u001b[1;33m*\u001b[0m \u001b[1;36m1000\u001b[0m\u001b[1;33m)\u001b[0m\u001b[1;33m)\u001b[0m \u001b[1;33m-\u001b[0m \u001b[0mstart_time\u001b[0m\u001b[1;33m\u001b[0m\u001b[0m\n",
      "\u001b[1;32mc:\\program files (x86)\\microsoft visual studio\\shared\\anaconda3_64\\lib\\site-packages\\retrying.py\u001b[0m in \u001b[0;36mget\u001b[1;34m(self, wrap_exception)\u001b[0m\n\u001b[0;32m    245\u001b[0m                 \u001b[1;32mraise\u001b[0m \u001b[0mRetryError\u001b[0m\u001b[1;33m(\u001b[0m\u001b[0mself\u001b[0m\u001b[1;33m)\u001b[0m\u001b[1;33m\u001b[0m\u001b[0m\n\u001b[0;32m    246\u001b[0m             \u001b[1;32melse\u001b[0m\u001b[1;33m:\u001b[0m\u001b[1;33m\u001b[0m\u001b[0m\n\u001b[1;32m--> 247\u001b[1;33m                 \u001b[0msix\u001b[0m\u001b[1;33m.\u001b[0m\u001b[0mreraise\u001b[0m\u001b[1;33m(\u001b[0m\u001b[0mself\u001b[0m\u001b[1;33m.\u001b[0m\u001b[0mvalue\u001b[0m\u001b[1;33m[\u001b[0m\u001b[1;36m0\u001b[0m\u001b[1;33m]\u001b[0m\u001b[1;33m,\u001b[0m \u001b[0mself\u001b[0m\u001b[1;33m.\u001b[0m\u001b[0mvalue\u001b[0m\u001b[1;33m[\u001b[0m\u001b[1;36m1\u001b[0m\u001b[1;33m]\u001b[0m\u001b[1;33m,\u001b[0m \u001b[0mself\u001b[0m\u001b[1;33m.\u001b[0m\u001b[0mvalue\u001b[0m\u001b[1;33m[\u001b[0m\u001b[1;36m2\u001b[0m\u001b[1;33m]\u001b[0m\u001b[1;33m)\u001b[0m\u001b[1;33m\u001b[0m\u001b[0m\n\u001b[0m\u001b[0;32m    248\u001b[0m         \u001b[1;32melse\u001b[0m\u001b[1;33m:\u001b[0m\u001b[1;33m\u001b[0m\u001b[0m\n\u001b[0;32m    249\u001b[0m             \u001b[1;32mreturn\u001b[0m \u001b[0mself\u001b[0m\u001b[1;33m.\u001b[0m\u001b[0mvalue\u001b[0m\u001b[1;33m\u001b[0m\u001b[0m\n",
      "\u001b[1;32mc:\\program files (x86)\\microsoft visual studio\\shared\\anaconda3_64\\lib\\site-packages\\six.py\u001b[0m in \u001b[0;36mreraise\u001b[1;34m(tp, value, tb)\u001b[0m\n\u001b[0;32m    691\u001b[0m             \u001b[1;32mif\u001b[0m \u001b[0mvalue\u001b[0m\u001b[1;33m.\u001b[0m\u001b[0m__traceback__\u001b[0m \u001b[1;32mis\u001b[0m \u001b[1;32mnot\u001b[0m \u001b[0mtb\u001b[0m\u001b[1;33m:\u001b[0m\u001b[1;33m\u001b[0m\u001b[0m\n\u001b[0;32m    692\u001b[0m                 \u001b[1;32mraise\u001b[0m \u001b[0mvalue\u001b[0m\u001b[1;33m.\u001b[0m\u001b[0mwith_traceback\u001b[0m\u001b[1;33m(\u001b[0m\u001b[0mtb\u001b[0m\u001b[1;33m)\u001b[0m\u001b[1;33m\u001b[0m\u001b[0m\n\u001b[1;32m--> 693\u001b[1;33m             \u001b[1;32mraise\u001b[0m \u001b[0mvalue\u001b[0m\u001b[1;33m\u001b[0m\u001b[0m\n\u001b[0m\u001b[0;32m    694\u001b[0m         \u001b[1;32mfinally\u001b[0m\u001b[1;33m:\u001b[0m\u001b[1;33m\u001b[0m\u001b[0m\n\u001b[0;32m    695\u001b[0m             \u001b[0mvalue\u001b[0m \u001b[1;33m=\u001b[0m \u001b[1;32mNone\u001b[0m\u001b[1;33m\u001b[0m\u001b[0m\n",
      "\u001b[1;32mc:\\program files (x86)\\microsoft visual studio\\shared\\anaconda3_64\\lib\\site-packages\\retrying.py\u001b[0m in \u001b[0;36mcall\u001b[1;34m(self, fn, *args, **kwargs)\u001b[0m\n\u001b[0;32m    198\u001b[0m         \u001b[1;32mwhile\u001b[0m \u001b[1;32mTrue\u001b[0m\u001b[1;33m:\u001b[0m\u001b[1;33m\u001b[0m\u001b[0m\n\u001b[0;32m    199\u001b[0m             \u001b[1;32mtry\u001b[0m\u001b[1;33m:\u001b[0m\u001b[1;33m\u001b[0m\u001b[0m\n\u001b[1;32m--> 200\u001b[1;33m                 \u001b[0mattempt\u001b[0m \u001b[1;33m=\u001b[0m \u001b[0mAttempt\u001b[0m\u001b[1;33m(\u001b[0m\u001b[0mfn\u001b[0m\u001b[1;33m(\u001b[0m\u001b[1;33m*\u001b[0m\u001b[0margs\u001b[0m\u001b[1;33m,\u001b[0m \u001b[1;33m**\u001b[0m\u001b[0mkwargs\u001b[0m\u001b[1;33m)\u001b[0m\u001b[1;33m,\u001b[0m \u001b[0mattempt_number\u001b[0m\u001b[1;33m,\u001b[0m \u001b[1;32mFalse\u001b[0m\u001b[1;33m)\u001b[0m\u001b[1;33m\u001b[0m\u001b[0m\n\u001b[0m\u001b[0;32m    201\u001b[0m             \u001b[1;32mexcept\u001b[0m\u001b[1;33m:\u001b[0m\u001b[1;33m\u001b[0m\u001b[0m\n\u001b[0;32m    202\u001b[0m                 \u001b[0mtb\u001b[0m \u001b[1;33m=\u001b[0m \u001b[0msys\u001b[0m\u001b[1;33m.\u001b[0m\u001b[0mexc_info\u001b[0m\u001b[1;33m(\u001b[0m\u001b[1;33m)\u001b[0m\u001b[1;33m\u001b[0m\u001b[0m\n",
      "\u001b[1;32mc:\\program files (x86)\\microsoft visual studio\\shared\\anaconda3_64\\lib\\site-packages\\plotly\\api\\v1\\utils.py\u001b[0m in \u001b[0;36mrequest\u001b[1;34m(method, url, **kwargs)\u001b[0m\n\u001b[0;32m     88\u001b[0m         \u001b[0mcontent\u001b[0m \u001b[1;33m=\u001b[0m \u001b[0mresponse\u001b[0m\u001b[1;33m.\u001b[0m\u001b[0mcontent\u001b[0m \u001b[1;32mif\u001b[0m \u001b[0mresponse\u001b[0m \u001b[1;32melse\u001b[0m \u001b[1;34m'No content'\u001b[0m\u001b[1;33m\u001b[0m\u001b[0m\n\u001b[0;32m     89\u001b[0m         \u001b[1;32mraise\u001b[0m \u001b[0mexceptions\u001b[0m\u001b[1;33m.\u001b[0m\u001b[0mPlotlyRequestError\u001b[0m\u001b[1;33m(\u001b[0m\u001b[0mmessage\u001b[0m\u001b[1;33m,\u001b[0m \u001b[0mstatus_code\u001b[0m\u001b[1;33m,\u001b[0m \u001b[0mcontent\u001b[0m\u001b[1;33m)\u001b[0m\u001b[1;33m\u001b[0m\u001b[0m\n\u001b[1;32m---> 90\u001b[1;33m     \u001b[0mvalidate_response\u001b[0m\u001b[1;33m(\u001b[0m\u001b[0mresponse\u001b[0m\u001b[1;33m)\u001b[0m\u001b[1;33m\u001b[0m\u001b[0m\n\u001b[0m\u001b[0;32m     91\u001b[0m     \u001b[1;32mreturn\u001b[0m \u001b[0mresponse\u001b[0m\u001b[1;33m\u001b[0m\u001b[0m\n",
      "\u001b[1;32mc:\\program files (x86)\\microsoft visual studio\\shared\\anaconda3_64\\lib\\site-packages\\plotly\\api\\v1\\utils.py\u001b[0m in \u001b[0;36mvalidate_response\u001b[1;34m(response)\u001b[0m\n\u001b[0;32m     38\u001b[0m         \u001b[0mmessage\u001b[0m \u001b[1;33m=\u001b[0m \u001b[0mcontent\u001b[0m \u001b[1;32mif\u001b[0m \u001b[0mcontent\u001b[0m \u001b[1;32melse\u001b[0m \u001b[1;34m'No Content'\u001b[0m\u001b[1;33m\u001b[0m\u001b[0m\n\u001b[0;32m     39\u001b[0m \u001b[1;33m\u001b[0m\u001b[0m\n\u001b[1;32m---> 40\u001b[1;33m     \u001b[1;32mraise\u001b[0m \u001b[0mexceptions\u001b[0m\u001b[1;33m.\u001b[0m\u001b[0mPlotlyRequestError\u001b[0m\u001b[1;33m(\u001b[0m\u001b[0mmessage\u001b[0m\u001b[1;33m,\u001b[0m \u001b[0mstatus_code\u001b[0m\u001b[1;33m,\u001b[0m \u001b[0mcontent\u001b[0m\u001b[1;33m)\u001b[0m\u001b[1;33m\u001b[0m\u001b[0m\n\u001b[0m\u001b[0;32m     41\u001b[0m \u001b[1;33m\u001b[0m\u001b[0m\n\u001b[0;32m     42\u001b[0m \u001b[1;33m\u001b[0m\u001b[0m\n",
      "\u001b[1;31mPlotlyRequestError\u001b[0m: Account limit reached: Your account is limited to creating 25 charts. To continue, you can override or delete existing charts or you can upgrade your account at: https://plot.ly/products/cloud"
     ]
    }
   ],
   "source": [
    "paris_bar_club_dist.iplot(kind='bar', color=\"#3F51AB\", filename='paris_distribution_bar_clubb',\n",
    "                         xTitle='Number of Bars and Clubs', yTitle='Number of Neighborhoods',\n",
    "                         title='Paris : the population range of Bars and Clubs per every range of Neighborhood')"
   ]
  },
  {
   "cell_type": "markdown",
   "metadata": {},
   "source": [
    "#### Distribution of neighborhoods' numbers of restaurants in Paris"
   ]
  },
  {
   "cell_type": "code",
   "execution_count": null,
   "metadata": {},
   "outputs": [],
   "source": [
    "# Index is occuring that number of times\n",
    "# number of restaurants (index) is occurring that number of times (values)\n",
    "# number of restaurants / number of neighborhoods\n",
    "paris_restaurant_dist = paris_encoded_venues_grouped_sum['Restaurants'].value_counts(sort=False)"
   ]
  },
  {
   "cell_type": "code",
   "execution_count": null,
   "metadata": {},
   "outputs": [],
   "source": [
    "paris_restaurant_dist.iplot(kind='bar', color=\"#3F51AB\", filename='paris_distribution_restaurant',\n",
    "                         xTitle='Number of Restaurants', yTitle='Number of Neighborhoods',\n",
    "                         title='Paris : the population range of Restaurants per every range of Neighborhood')"
   ]
  },
  {
   "cell_type": "markdown",
   "metadata": {},
   "source": [
    "#### Distribution of neighborhoods' numbers of services venues in Paris"
   ]
  },
  {
   "cell_type": "code",
   "execution_count": null,
   "metadata": {},
   "outputs": [],
   "source": [
    "# Index is occuring that number of times\n",
    "# number of Services venues (index) is occurring that number of times (values)\n",
    "# number of Services venues / number of neighborhoods\n",
    "paris_service_dist = paris_encoded_venues_grouped_sum['Services'].value_counts(sort=False)"
   ]
  },
  {
   "cell_type": "code",
   "execution_count": null,
   "metadata": {
    "scrolled": false
   },
   "outputs": [],
   "source": [
    "paris_service_dist.iplot(kind='bar', color=\"#3F51AB\", filename='paris_distribution_services',\n",
    "                         xTitle='Number of Services venues', yTitle='Number of Neighborhoods',\n",
    "                         title='Paris : the population range of Services venues per every range of Neighborhood')"
   ]
  },
  {
   "cell_type": "markdown",
   "metadata": {},
   "source": [
    "#### Distribution of neighborhoods' numbers of leisure & sports venues in Paris"
   ]
  },
  {
   "cell_type": "code",
   "execution_count": null,
   "metadata": {},
   "outputs": [],
   "source": [
    "# Index is occuring that number of times\n",
    "# number of Leisure & Sports venues (index) is occurring that number of times (values)\n",
    "# number of Leisure & Sports venues / number of neighborhoods\n",
    "paris_leisure_sport_dist = paris_encoded_venues_grouped_sum['Leisure and Sports'].value_counts(sort=False)"
   ]
  },
  {
   "cell_type": "code",
   "execution_count": 73,
   "metadata": {},
   "outputs": [
    {
     "ename": "NameError",
     "evalue": "name 'paris_leisure_sport_dist' is not defined",
     "output_type": "error",
     "traceback": [
      "\u001b[1;31m---------------------------------------------------------------------------\u001b[0m",
      "\u001b[1;31mNameError\u001b[0m                                 Traceback (most recent call last)",
      "\u001b[1;32m<ipython-input-73-ccc597f130ab>\u001b[0m in \u001b[0;36m<module>\u001b[1;34m()\u001b[0m\n\u001b[1;32m----> 1\u001b[1;33m paris_leisure_sport_dist.iplot(kind='bar', color=\"#3F51AB\", filename='paris_distribution_leisure_sport',\n\u001b[0m\u001b[0;32m      2\u001b[0m                          \u001b[0mxTitle\u001b[0m\u001b[1;33m=\u001b[0m\u001b[1;34m'Number of Leisure & Sports venues'\u001b[0m\u001b[1;33m,\u001b[0m \u001b[0myTitle\u001b[0m\u001b[1;33m=\u001b[0m\u001b[1;34m'Number of Neighborhoods'\u001b[0m\u001b[1;33m,\u001b[0m\u001b[1;33m\u001b[0m\u001b[0m\n\u001b[0;32m      3\u001b[0m                          title='Paris : the population range of Venues for Leisure and Sports per every range of Neighborhood')\n",
      "\u001b[1;31mNameError\u001b[0m: name 'paris_leisure_sport_dist' is not defined"
     ]
    }
   ],
   "source": [
    "paris_leisure_sport_dist.iplot(kind='bar', color=\"#3F51AB\", filename='paris_distribution_leisure_sport',\n",
    "                         xTitle='Number of Leisure & Sports venues', yTitle='Number of Neighborhoods',\n",
    "                         title='Paris : the population range of Venues for Leisure and Sports per every range of Neighborhood')"
   ]
  },
  {
   "cell_type": "markdown",
   "metadata": {},
   "source": [
    "#### Distribution of neighborhoods' numbers of Educational & Cultural venues in Paris"
   ]
  },
  {
   "cell_type": "code",
   "execution_count": null,
   "metadata": {},
   "outputs": [],
   "source": [
    "# Index is occuring that number of times\n",
    "# number of Educational & Cultural venues (index) is occurring that number of times (values)\n",
    "# number of Educational & Cultural venues / number of neighborhoods\n",
    "paris_education_culture_dist = paris_encoded_venues_grouped_sum['Education and Culture'].value_counts(sort=False)"
   ]
  },
  {
   "cell_type": "code",
   "execution_count": null,
   "metadata": {},
   "outputs": [],
   "source": [
    "paris_education_culture_dist.iplot(kind='bar', color=\"#3F51AB\", filename='paris_distribution_education_culture',\n",
    "                         xTitle='Number of Educational & Cultural venues', yTitle='Number of Neighborhoods',\n",
    "                         title='Paris : the population range of Educational and Cultural venues per every range of Neighborhood')"
   ]
  },
  {
   "cell_type": "markdown",
   "metadata": {},
   "source": [
    "#### Distribution of neighborhoods' numbers of natural venues in Paris"
   ]
  },
  {
   "cell_type": "code",
   "execution_count": 74,
   "metadata": {},
   "outputs": [],
   "source": [
    "# Index is occuring that number of times\n",
    "# number of Natural venues (index) is occurring that number of times (values)\n",
    "# number of Natural venues / number of neighborhoods\n",
    "paris_nature_park_dist = paris_encoded_venues_grouped_sum['Nature and Parks'].value_counts(sort=False)"
   ]
  },
  {
   "cell_type": "code",
   "execution_count": 75,
   "metadata": {
    "scrolled": false
   },
   "outputs": [
    {
     "data": {
      "text/html": [
       "<iframe id=\"igraph\" scrolling=\"no\" style=\"border:none;\" seamless=\"seamless\" src=\"https://plot.ly/~mourabitelbachir/4.embed\" height=\"525px\" width=\"100%\"></iframe>"
      ],
      "text/plain": [
       "<plotly.tools.PlotlyDisplay object>"
      ]
     },
     "execution_count": 75,
     "metadata": {},
     "output_type": "execute_result"
    }
   ],
   "source": [
    "paris_nature_park_dist.iplot(kind='bar', color=\"#3F51AB\", filename='paris_distribution_nature_park',\n",
    "                         xTitle='Number of Natural venues', yTitle='Number of Neighborhoods',\n",
    "                         title='Paris : the population range of Natural venues per every range of Neighborhood')"
   ]
  },
  {
   "cell_type": "markdown",
   "metadata": {},
   "source": [
    "#### Distribution of neighborhoods' numbers of transports & infrastructures venues in Paris"
   ]
  },
  {
   "cell_type": "code",
   "execution_count": 76,
   "metadata": {},
   "outputs": [],
   "source": [
    "# Index is occuring that number of times\n",
    "# number of Transports and infrastructures venues (index) is occurring that number of times (values)\n",
    "# number of Transports and infrastructures venues / number of neighborhoods\n",
    "paris_transportation_dist = paris_encoded_venues_grouped_sum['Transportation'].value_counts(sort=False)"
   ]
  },
  {
   "cell_type": "code",
   "execution_count": 77,
   "metadata": {},
   "outputs": [
    {
     "data": {
      "text/html": [
       "<iframe id=\"igraph\" scrolling=\"no\" style=\"border:none;\" seamless=\"seamless\" src=\"https://plot.ly/~mourabitelbachir/6.embed\" height=\"525px\" width=\"100%\"></iframe>"
      ],
      "text/plain": [
       "<plotly.tools.PlotlyDisplay object>"
      ]
     },
     "execution_count": 77,
     "metadata": {},
     "output_type": "execute_result"
    }
   ],
   "source": [
    "paris_transportation_dist.iplot(kind='bar', color=\"#3F51AB\", filename='paris_distribution_transportation',\n",
    "                         xTitle='Number of Transports and infrastructures venues', yTitle='Number of Neighborhoods',\n",
    "                         title='Paris : the population range of Transports and infrastructures venues per every range of Neighborhood')"
   ]
  },
  {
   "cell_type": "markdown",
   "metadata": {},
   "source": [
    "#### Distribution of neighborhoods' numbers of residentials in Paris"
   ]
  },
  {
   "cell_type": "code",
   "execution_count": 78,
   "metadata": {},
   "outputs": [],
   "source": [
    "# Index is occuring that number of times\n",
    "# number of Residentials (index) is occurring that number of times (values)\n",
    "# number of Residentials / number of neighborhoods\n",
    "paris_residential_dist = paris_encoded_venues_grouped_sum['Residential'].value_counts(sort=False)"
   ]
  },
  {
   "cell_type": "code",
   "execution_count": 79,
   "metadata": {},
   "outputs": [
    {
     "data": {
      "text/html": [
       "<iframe id=\"igraph\" scrolling=\"no\" style=\"border:none;\" seamless=\"seamless\" src=\"https://plot.ly/~mourabitelbachir/8.embed\" height=\"525px\" width=\"100%\"></iframe>"
      ],
      "text/plain": [
       "<plotly.tools.PlotlyDisplay object>"
      ]
     },
     "execution_count": 79,
     "metadata": {},
     "output_type": "execute_result"
    }
   ],
   "source": [
    "paris_residential_dist.iplot(kind='bar', color=\"#3F51AB\", filename='paris_distribution_residential',\n",
    "                         xTitle='Number of Residentials', yTitle='Number of Neighborhoods',\n",
    "                         title='Paris : the population range of Residentials per every range of Neighborhood')"
   ]
  },
  {
   "cell_type": "markdown",
   "metadata": {},
   "source": [
    "### Paris neighborhoods Clustering "
   ]
  },
  {
   "cell_type": "code",
   "execution_count": 80,
   "metadata": {},
   "outputs": [
    {
     "data": {
      "text/html": [
       "<div>\n",
       "<style scoped>\n",
       "    .dataframe tbody tr th:only-of-type {\n",
       "        vertical-align: middle;\n",
       "    }\n",
       "\n",
       "    .dataframe tbody tr th {\n",
       "        vertical-align: top;\n",
       "    }\n",
       "\n",
       "    .dataframe thead th {\n",
       "        text-align: right;\n",
       "    }\n",
       "</style>\n",
       "<table border=\"1\" class=\"dataframe\">\n",
       "  <thead>\n",
       "    <tr style=\"text-align: right;\">\n",
       "      <th></th>\n",
       "      <th>Borough</th>\n",
       "      <th>Neighborhood</th>\n",
       "      <th>Bars and Clubs</th>\n",
       "      <th>Restaurants</th>\n",
       "      <th>Services</th>\n",
       "      <th>Leisure and Sports</th>\n",
       "      <th>Education and Culture</th>\n",
       "      <th>Nature and Parks</th>\n",
       "      <th>Transportation</th>\n",
       "      <th>Residential</th>\n",
       "    </tr>\n",
       "  </thead>\n",
       "  <tbody>\n",
       "    <tr>\n",
       "      <th>0</th>\n",
       "      <td>Batignolles-Monceau</td>\n",
       "      <td>BATIGNOLLES - CARDINET</td>\n",
       "      <td>0.220000</td>\n",
       "      <td>0.570000</td>\n",
       "      <td>0.170000</td>\n",
       "      <td>0.020000</td>\n",
       "      <td>0.010000</td>\n",
       "      <td>0.010000</td>\n",
       "      <td>0.000000</td>\n",
       "      <td>0.0</td>\n",
       "    </tr>\n",
       "    <tr>\n",
       "      <th>1</th>\n",
       "      <td>Batignolles-Monceau</td>\n",
       "      <td>CHAMPERRET - BERTHIER</td>\n",
       "      <td>0.154930</td>\n",
       "      <td>0.436620</td>\n",
       "      <td>0.295775</td>\n",
       "      <td>0.042254</td>\n",
       "      <td>0.014085</td>\n",
       "      <td>0.028169</td>\n",
       "      <td>0.028169</td>\n",
       "      <td>0.0</td>\n",
       "    </tr>\n",
       "    <tr>\n",
       "      <th>2</th>\n",
       "      <td>Batignolles-Monceau</td>\n",
       "      <td>COURCELLES - WAGRAM</td>\n",
       "      <td>0.160000</td>\n",
       "      <td>0.560000</td>\n",
       "      <td>0.213333</td>\n",
       "      <td>0.026667</td>\n",
       "      <td>0.000000</td>\n",
       "      <td>0.040000</td>\n",
       "      <td>0.000000</td>\n",
       "      <td>0.0</td>\n",
       "    </tr>\n",
       "    <tr>\n",
       "      <th>3</th>\n",
       "      <td>Batignolles-Monceau</td>\n",
       "      <td>EPINETTES - BESSIERES</td>\n",
       "      <td>0.000000</td>\n",
       "      <td>0.428571</td>\n",
       "      <td>0.238095</td>\n",
       "      <td>0.047619</td>\n",
       "      <td>0.000000</td>\n",
       "      <td>0.047619</td>\n",
       "      <td>0.238095</td>\n",
       "      <td>0.0</td>\n",
       "    </tr>\n",
       "    <tr>\n",
       "      <th>4</th>\n",
       "      <td>Batignolles-Monceau</td>\n",
       "      <td>LA FOURCHE - GUY MOQUET</td>\n",
       "      <td>0.189189</td>\n",
       "      <td>0.405405</td>\n",
       "      <td>0.270270</td>\n",
       "      <td>0.054054</td>\n",
       "      <td>0.000000</td>\n",
       "      <td>0.054054</td>\n",
       "      <td>0.027027</td>\n",
       "      <td>0.0</td>\n",
       "    </tr>\n",
       "  </tbody>\n",
       "</table>\n",
       "</div>"
      ],
      "text/plain": [
       "               Borough             Neighborhood  Bars and Clubs  Restaurants  \\\n",
       "0  Batignolles-Monceau   BATIGNOLLES - CARDINET        0.220000     0.570000   \n",
       "1  Batignolles-Monceau    CHAMPERRET - BERTHIER        0.154930     0.436620   \n",
       "2  Batignolles-Monceau      COURCELLES - WAGRAM        0.160000     0.560000   \n",
       "3  Batignolles-Monceau    EPINETTES - BESSIERES        0.000000     0.428571   \n",
       "4  Batignolles-Monceau  LA FOURCHE - GUY MOQUET        0.189189     0.405405   \n",
       "\n",
       "   Services  Leisure and Sports  Education and Culture  Nature and Parks  \\\n",
       "0  0.170000            0.020000               0.010000          0.010000   \n",
       "1  0.295775            0.042254               0.014085          0.028169   \n",
       "2  0.213333            0.026667               0.000000          0.040000   \n",
       "3  0.238095            0.047619               0.000000          0.047619   \n",
       "4  0.270270            0.054054               0.000000          0.054054   \n",
       "\n",
       "   Transportation  Residential  \n",
       "0        0.000000          0.0  \n",
       "1        0.028169          0.0  \n",
       "2        0.000000          0.0  \n",
       "3        0.238095          0.0  \n",
       "4        0.027027          0.0  "
      ]
     },
     "execution_count": 80,
     "metadata": {},
     "output_type": "execute_result"
    }
   ],
   "source": [
    "paris_encoded_venues_grouped_mean.head()"
   ]
  },
  {
   "cell_type": "code",
   "execution_count": 81,
   "metadata": {},
   "outputs": [
    {
     "data": {
      "text/plain": [
       "(123, 10)"
      ]
     },
     "execution_count": 81,
     "metadata": {},
     "output_type": "execute_result"
    }
   ],
   "source": [
    "paris_encoded_venues_grouped_mean.shape"
   ]
  },
  {
   "cell_type": "code",
   "execution_count": 82,
   "metadata": {},
   "outputs": [],
   "source": [
    "paris_encoded_venues_clustering = paris_encoded_venues_grouped_mean.drop(['Borough', 'Neighborhood'], axis=1)"
   ]
  },
  {
   "cell_type": "code",
   "execution_count": 83,
   "metadata": {},
   "outputs": [
    {
     "data": {
      "text/html": [
       "<div>\n",
       "<style scoped>\n",
       "    .dataframe tbody tr th:only-of-type {\n",
       "        vertical-align: middle;\n",
       "    }\n",
       "\n",
       "    .dataframe tbody tr th {\n",
       "        vertical-align: top;\n",
       "    }\n",
       "\n",
       "    .dataframe thead th {\n",
       "        text-align: right;\n",
       "    }\n",
       "</style>\n",
       "<table border=\"1\" class=\"dataframe\">\n",
       "  <thead>\n",
       "    <tr style=\"text-align: right;\">\n",
       "      <th></th>\n",
       "      <th>Bars and Clubs</th>\n",
       "      <th>Restaurants</th>\n",
       "      <th>Services</th>\n",
       "      <th>Leisure and Sports</th>\n",
       "      <th>Education and Culture</th>\n",
       "      <th>Nature and Parks</th>\n",
       "      <th>Transportation</th>\n",
       "      <th>Residential</th>\n",
       "    </tr>\n",
       "  </thead>\n",
       "  <tbody>\n",
       "    <tr>\n",
       "      <th>0</th>\n",
       "      <td>0.220000</td>\n",
       "      <td>0.570000</td>\n",
       "      <td>0.170000</td>\n",
       "      <td>0.020000</td>\n",
       "      <td>0.010000</td>\n",
       "      <td>0.010000</td>\n",
       "      <td>0.000000</td>\n",
       "      <td>0.0</td>\n",
       "    </tr>\n",
       "    <tr>\n",
       "      <th>1</th>\n",
       "      <td>0.154930</td>\n",
       "      <td>0.436620</td>\n",
       "      <td>0.295775</td>\n",
       "      <td>0.042254</td>\n",
       "      <td>0.014085</td>\n",
       "      <td>0.028169</td>\n",
       "      <td>0.028169</td>\n",
       "      <td>0.0</td>\n",
       "    </tr>\n",
       "    <tr>\n",
       "      <th>2</th>\n",
       "      <td>0.160000</td>\n",
       "      <td>0.560000</td>\n",
       "      <td>0.213333</td>\n",
       "      <td>0.026667</td>\n",
       "      <td>0.000000</td>\n",
       "      <td>0.040000</td>\n",
       "      <td>0.000000</td>\n",
       "      <td>0.0</td>\n",
       "    </tr>\n",
       "    <tr>\n",
       "      <th>3</th>\n",
       "      <td>0.000000</td>\n",
       "      <td>0.428571</td>\n",
       "      <td>0.238095</td>\n",
       "      <td>0.047619</td>\n",
       "      <td>0.000000</td>\n",
       "      <td>0.047619</td>\n",
       "      <td>0.238095</td>\n",
       "      <td>0.0</td>\n",
       "    </tr>\n",
       "    <tr>\n",
       "      <th>4</th>\n",
       "      <td>0.189189</td>\n",
       "      <td>0.405405</td>\n",
       "      <td>0.270270</td>\n",
       "      <td>0.054054</td>\n",
       "      <td>0.000000</td>\n",
       "      <td>0.054054</td>\n",
       "      <td>0.027027</td>\n",
       "      <td>0.0</td>\n",
       "    </tr>\n",
       "  </tbody>\n",
       "</table>\n",
       "</div>"
      ],
      "text/plain": [
       "   Bars and Clubs  Restaurants  Services  Leisure and Sports  \\\n",
       "0        0.220000     0.570000  0.170000            0.020000   \n",
       "1        0.154930     0.436620  0.295775            0.042254   \n",
       "2        0.160000     0.560000  0.213333            0.026667   \n",
       "3        0.000000     0.428571  0.238095            0.047619   \n",
       "4        0.189189     0.405405  0.270270            0.054054   \n",
       "\n",
       "   Education and Culture  Nature and Parks  Transportation  Residential  \n",
       "0               0.010000          0.010000        0.000000          0.0  \n",
       "1               0.014085          0.028169        0.028169          0.0  \n",
       "2               0.000000          0.040000        0.000000          0.0  \n",
       "3               0.000000          0.047619        0.238095          0.0  \n",
       "4               0.000000          0.054054        0.027027          0.0  "
      ]
     },
     "execution_count": 83,
     "metadata": {},
     "output_type": "execute_result"
    }
   ],
   "source": [
    "paris_encoded_venues_clustering.head()"
   ]
  },
  {
   "cell_type": "code",
   "execution_count": 84,
   "metadata": {},
   "outputs": [
    {
     "data": {
      "text/plain": [
       "(123, 8)"
      ]
     },
     "execution_count": 84,
     "metadata": {},
     "output_type": "execute_result"
    }
   ],
   "source": [
    "paris_encoded_venues_clustering.shape"
   ]
  },
  {
   "cell_type": "code",
   "execution_count": 85,
   "metadata": {},
   "outputs": [
    {
     "data": {
      "text/plain": [
       "array([0, 2, 0, 2, 2, 4, 2, 0, 2, 4, 4, 0, 0, 1, 4, 1, 1, 1, 4, 2, 3, 2,\n",
       "       4, 1, 3, 4, 1, 4, 2, 4, 1, 4, 4, 4, 0, 0, 0, 2, 4, 4, 2, 2, 0, 0,\n",
       "       2, 2, 2, 4, 1, 2, 2, 1, 1, 4, 4, 1, 1, 2, 2, 4, 4, 2, 2, 2, 1, 2,\n",
       "       2, 2, 2, 0, 2, 0, 2, 4, 2, 1, 4, 1, 0, 2, 1, 2, 4, 2, 4, 3, 0, 2,\n",
       "       3, 2, 3, 4, 4, 4, 4, 1, 1, 1, 3, 1, 2, 2, 1, 4, 1, 4, 1, 4, 2, 2,\n",
       "       2, 2, 4, 0, 2, 0, 1, 2, 1, 2, 4, 1, 1])"
      ]
     },
     "execution_count": 85,
     "metadata": {},
     "output_type": "execute_result"
    }
   ],
   "source": [
    "# set number of clusters\n",
    "kclusters = 5\n",
    "\n",
    "# run k-means clustering\n",
    "kmeans = KMeans(n_clusters=kclusters, random_state=0).fit(paris_encoded_venues_clustering)\n",
    "\n",
    "# check cluster labels generated for each row in the dataframe\n",
    "kmeans.labels_[0:] "
   ]
  },
  {
   "cell_type": "code",
   "execution_count": 86,
   "metadata": {},
   "outputs": [
    {
     "data": {
      "text/html": [
       "<div>\n",
       "<style scoped>\n",
       "    .dataframe tbody tr th:only-of-type {\n",
       "        vertical-align: middle;\n",
       "    }\n",
       "\n",
       "    .dataframe tbody tr th {\n",
       "        vertical-align: top;\n",
       "    }\n",
       "\n",
       "    .dataframe thead th {\n",
       "        text-align: right;\n",
       "    }\n",
       "</style>\n",
       "<table border=\"1\" class=\"dataframe\">\n",
       "  <thead>\n",
       "    <tr style=\"text-align: right;\">\n",
       "      <th></th>\n",
       "      <th>Borough</th>\n",
       "      <th>Neighborhood</th>\n",
       "      <th>Latitude</th>\n",
       "      <th>Longitude</th>\n",
       "    </tr>\n",
       "  </thead>\n",
       "  <tbody>\n",
       "    <tr>\n",
       "      <th>0</th>\n",
       "      <td>Louvre</td>\n",
       "      <td>PALAIS ROYAL</td>\n",
       "      <td>48.864661</td>\n",
       "      <td>2.336308</td>\n",
       "    </tr>\n",
       "    <tr>\n",
       "      <th>1</th>\n",
       "      <td>Louvre</td>\n",
       "      <td>LES HALLES</td>\n",
       "      <td>48.862289</td>\n",
       "      <td>2.344899</td>\n",
       "    </tr>\n",
       "    <tr>\n",
       "      <th>2</th>\n",
       "      <td>Louvre</td>\n",
       "      <td>SAINT - GERMAIN L'AUXERROIS</td>\n",
       "      <td>48.860650</td>\n",
       "      <td>2.334911</td>\n",
       "    </tr>\n",
       "    <tr>\n",
       "      <th>3</th>\n",
       "      <td>Louvre</td>\n",
       "      <td>PLACE VENDOME</td>\n",
       "      <td>48.867018</td>\n",
       "      <td>2.328579</td>\n",
       "    </tr>\n",
       "    <tr>\n",
       "      <th>4</th>\n",
       "      <td>Bourse</td>\n",
       "      <td>SENTIER - BONNE NOUVELLE</td>\n",
       "      <td>48.868927</td>\n",
       "      <td>2.348039</td>\n",
       "    </tr>\n",
       "  </tbody>\n",
       "</table>\n",
       "</div>"
      ],
      "text/plain": [
       "  Borough                 Neighborhood   Latitude  Longitude\n",
       "0  Louvre                 PALAIS ROYAL  48.864661   2.336308\n",
       "1  Louvre                   LES HALLES  48.862289   2.344899\n",
       "2  Louvre  SAINT - GERMAIN L'AUXERROIS  48.860650   2.334911\n",
       "3  Louvre                PLACE VENDOME  48.867018   2.328579\n",
       "4  Bourse     SENTIER - BONNE NOUVELLE  48.868927   2.348039"
      ]
     },
     "execution_count": 86,
     "metadata": {},
     "output_type": "execute_result"
    }
   ],
   "source": [
    "paris_neighborhoods.head()"
   ]
  },
  {
   "cell_type": "code",
   "execution_count": 87,
   "metadata": {},
   "outputs": [
    {
     "data": {
      "text/html": [
       "<div>\n",
       "<style scoped>\n",
       "    .dataframe tbody tr th:only-of-type {\n",
       "        vertical-align: middle;\n",
       "    }\n",
       "\n",
       "    .dataframe tbody tr th {\n",
       "        vertical-align: top;\n",
       "    }\n",
       "\n",
       "    .dataframe thead th {\n",
       "        text-align: right;\n",
       "    }\n",
       "</style>\n",
       "<table border=\"1\" class=\"dataframe\">\n",
       "  <thead>\n",
       "    <tr style=\"text-align: right;\">\n",
       "      <th></th>\n",
       "      <th>Borough</th>\n",
       "      <th>Neighborhood</th>\n",
       "      <th>Latitude</th>\n",
       "      <th>Longitude</th>\n",
       "      <th>Cluster Labels</th>\n",
       "      <th>Bars and Clubs</th>\n",
       "      <th>Restaurants</th>\n",
       "      <th>Services</th>\n",
       "      <th>Leisure and Sports</th>\n",
       "      <th>Education and Culture</th>\n",
       "      <th>Nature and Parks</th>\n",
       "      <th>Transportation</th>\n",
       "      <th>Residential</th>\n",
       "    </tr>\n",
       "  </thead>\n",
       "  <tbody>\n",
       "    <tr>\n",
       "      <th>0</th>\n",
       "      <td>Batignolles-Monceau</td>\n",
       "      <td>BATIGNOLLES - CARDINET</td>\n",
       "      <td>48.886524</td>\n",
       "      <td>2.320896</td>\n",
       "      <td>0</td>\n",
       "      <td>0.220000</td>\n",
       "      <td>0.570000</td>\n",
       "      <td>0.170000</td>\n",
       "      <td>0.020000</td>\n",
       "      <td>0.010000</td>\n",
       "      <td>0.010000</td>\n",
       "      <td>0.000000</td>\n",
       "      <td>0.0</td>\n",
       "    </tr>\n",
       "    <tr>\n",
       "      <th>1</th>\n",
       "      <td>Batignolles-Monceau</td>\n",
       "      <td>CHAMPERRET - BERTHIER</td>\n",
       "      <td>48.887371</td>\n",
       "      <td>2.294279</td>\n",
       "      <td>2</td>\n",
       "      <td>0.154930</td>\n",
       "      <td>0.436620</td>\n",
       "      <td>0.295775</td>\n",
       "      <td>0.042254</td>\n",
       "      <td>0.014085</td>\n",
       "      <td>0.028169</td>\n",
       "      <td>0.028169</td>\n",
       "      <td>0.0</td>\n",
       "    </tr>\n",
       "    <tr>\n",
       "      <th>2</th>\n",
       "      <td>Batignolles-Monceau</td>\n",
       "      <td>COURCELLES - WAGRAM</td>\n",
       "      <td>48.881477</td>\n",
       "      <td>2.299672</td>\n",
       "      <td>0</td>\n",
       "      <td>0.160000</td>\n",
       "      <td>0.560000</td>\n",
       "      <td>0.213333</td>\n",
       "      <td>0.026667</td>\n",
       "      <td>0.000000</td>\n",
       "      <td>0.040000</td>\n",
       "      <td>0.000000</td>\n",
       "      <td>0.0</td>\n",
       "    </tr>\n",
       "    <tr>\n",
       "      <th>3</th>\n",
       "      <td>Batignolles-Monceau</td>\n",
       "      <td>EPINETTES - BESSIERES</td>\n",
       "      <td>48.896663</td>\n",
       "      <td>2.319455</td>\n",
       "      <td>2</td>\n",
       "      <td>0.000000</td>\n",
       "      <td>0.428571</td>\n",
       "      <td>0.238095</td>\n",
       "      <td>0.047619</td>\n",
       "      <td>0.000000</td>\n",
       "      <td>0.047619</td>\n",
       "      <td>0.238095</td>\n",
       "      <td>0.0</td>\n",
       "    </tr>\n",
       "    <tr>\n",
       "      <th>4</th>\n",
       "      <td>Batignolles-Monceau</td>\n",
       "      <td>LA FOURCHE - GUY MOQUET</td>\n",
       "      <td>48.892471</td>\n",
       "      <td>2.323457</td>\n",
       "      <td>2</td>\n",
       "      <td>0.189189</td>\n",
       "      <td>0.405405</td>\n",
       "      <td>0.270270</td>\n",
       "      <td>0.054054</td>\n",
       "      <td>0.000000</td>\n",
       "      <td>0.054054</td>\n",
       "      <td>0.027027</td>\n",
       "      <td>0.0</td>\n",
       "    </tr>\n",
       "  </tbody>\n",
       "</table>\n",
       "</div>"
      ],
      "text/plain": [
       "               Borough             Neighborhood   Latitude  Longitude  \\\n",
       "0  Batignolles-Monceau   BATIGNOLLES - CARDINET  48.886524   2.320896   \n",
       "1  Batignolles-Monceau    CHAMPERRET - BERTHIER  48.887371   2.294279   \n",
       "2  Batignolles-Monceau      COURCELLES - WAGRAM  48.881477   2.299672   \n",
       "3  Batignolles-Monceau    EPINETTES - BESSIERES  48.896663   2.319455   \n",
       "4  Batignolles-Monceau  LA FOURCHE - GUY MOQUET  48.892471   2.323457   \n",
       "\n",
       "   Cluster Labels  Bars and Clubs  Restaurants  Services  Leisure and Sports  \\\n",
       "0               0        0.220000     0.570000  0.170000            0.020000   \n",
       "1               2        0.154930     0.436620  0.295775            0.042254   \n",
       "2               0        0.160000     0.560000  0.213333            0.026667   \n",
       "3               2        0.000000     0.428571  0.238095            0.047619   \n",
       "4               2        0.189189     0.405405  0.270270            0.054054   \n",
       "\n",
       "   Education and Culture  Nature and Parks  Transportation  Residential  \n",
       "0               0.010000          0.010000        0.000000          0.0  \n",
       "1               0.014085          0.028169        0.028169          0.0  \n",
       "2               0.000000          0.040000        0.000000          0.0  \n",
       "3               0.000000          0.047619        0.238095          0.0  \n",
       "4               0.000000          0.054054        0.027027          0.0  "
      ]
     },
     "execution_count": 87,
     "metadata": {},
     "output_type": "execute_result"
    }
   ],
   "source": [
    "# add clustering labels\n",
    "paris_encoded_venues_merged = paris_encoded_venues_grouped_mean\n",
    "paris_encoded_venues_merged['Cluster Labels'] = kmeans.labels_\n",
    "\n",
    "columns_merged = [\"Borough\", \"Neighborhood\", \"Latitude\", \"Longitude\", \"Cluster Labels\", \n",
    " \"Bars and Clubs\", \"Restaurants\", \"Services\", \"Leisure and Sports\", \"Education and Culture\", \n",
    " \"Nature and Parks\", \"Transportation\", \"Residential\"]\n",
    "\n",
    "# Merge\n",
    "paris_encoded_venues_merged = paris_encoded_venues_merged.join(paris_neighborhoods.set_index([\"Borough\", \"Neighborhood\"]), \n",
    "                                                       on=[\"Borough\", \"Neighborhood\"])\n",
    "\n",
    "paris_encoded_venues_merged = paris_encoded_venues_merged[columns_merged].reset_index(drop=True)\n",
    "paris_encoded_venues_merged.head()"
   ]
  },
  {
   "cell_type": "code",
   "execution_count": 88,
   "metadata": {},
   "outputs": [
    {
     "data": {
      "text/plain": [
       "(123, 13)"
      ]
     },
     "execution_count": 88,
     "metadata": {},
     "output_type": "execute_result"
    }
   ],
   "source": [
    "paris_encoded_venues_merged.shape"
   ]
  },
  {
   "cell_type": "markdown",
   "metadata": {},
   "source": [
    "### Examine Clusters for Paris"
   ]
  },
  {
   "cell_type": "markdown",
   "metadata": {},
   "source": [
    "#### Cluster 1"
   ]
  },
  {
   "cell_type": "code",
   "execution_count": 89,
   "metadata": {},
   "outputs": [
    {
     "data": {
      "text/html": [
       "<div>\n",
       "<style scoped>\n",
       "    .dataframe tbody tr th:only-of-type {\n",
       "        vertical-align: middle;\n",
       "    }\n",
       "\n",
       "    .dataframe tbody tr th {\n",
       "        vertical-align: top;\n",
       "    }\n",
       "\n",
       "    .dataframe thead th {\n",
       "        text-align: right;\n",
       "    }\n",
       "</style>\n",
       "<table border=\"1\" class=\"dataframe\">\n",
       "  <thead>\n",
       "    <tr style=\"text-align: right;\">\n",
       "      <th></th>\n",
       "      <th>Borough</th>\n",
       "      <th>Neighborhood</th>\n",
       "      <th>Latitude</th>\n",
       "      <th>Longitude</th>\n",
       "      <th>Cluster Labels</th>\n",
       "      <th>Bars and Clubs</th>\n",
       "      <th>Restaurants</th>\n",
       "      <th>Services</th>\n",
       "      <th>Leisure and Sports</th>\n",
       "      <th>Education and Culture</th>\n",
       "      <th>Nature and Parks</th>\n",
       "      <th>Transportation</th>\n",
       "      <th>Residential</th>\n",
       "    </tr>\n",
       "  </thead>\n",
       "  <tbody>\n",
       "    <tr>\n",
       "      <th>0</th>\n",
       "      <td>Batignolles-Monceau</td>\n",
       "      <td>BATIGNOLLES - CARDINET</td>\n",
       "      <td>48.886524</td>\n",
       "      <td>2.320896</td>\n",
       "      <td>0</td>\n",
       "      <td>0.220000</td>\n",
       "      <td>0.570000</td>\n",
       "      <td>0.170000</td>\n",
       "      <td>0.020000</td>\n",
       "      <td>0.010000</td>\n",
       "      <td>0.010000</td>\n",
       "      <td>0.000000</td>\n",
       "      <td>0.00</td>\n",
       "    </tr>\n",
       "    <tr>\n",
       "      <th>2</th>\n",
       "      <td>Batignolles-Monceau</td>\n",
       "      <td>COURCELLES - WAGRAM</td>\n",
       "      <td>48.881477</td>\n",
       "      <td>2.299672</td>\n",
       "      <td>0</td>\n",
       "      <td>0.160000</td>\n",
       "      <td>0.560000</td>\n",
       "      <td>0.213333</td>\n",
       "      <td>0.026667</td>\n",
       "      <td>0.000000</td>\n",
       "      <td>0.040000</td>\n",
       "      <td>0.000000</td>\n",
       "      <td>0.00</td>\n",
       "    </tr>\n",
       "    <tr>\n",
       "      <th>7</th>\n",
       "      <td>Batignolles-Monceau</td>\n",
       "      <td>PEREIRE - MALESHERBES</td>\n",
       "      <td>48.887905</td>\n",
       "      <td>2.305692</td>\n",
       "      <td>0</td>\n",
       "      <td>0.148936</td>\n",
       "      <td>0.531915</td>\n",
       "      <td>0.191489</td>\n",
       "      <td>0.021277</td>\n",
       "      <td>0.021277</td>\n",
       "      <td>0.042553</td>\n",
       "      <td>0.042553</td>\n",
       "      <td>0.00</td>\n",
       "    </tr>\n",
       "    <tr>\n",
       "      <th>11</th>\n",
       "      <td>Bourse</td>\n",
       "      <td>VIVIENNE - GAILLON</td>\n",
       "      <td>48.869190</td>\n",
       "      <td>2.336834</td>\n",
       "      <td>0</td>\n",
       "      <td>0.160000</td>\n",
       "      <td>0.540000</td>\n",
       "      <td>0.180000</td>\n",
       "      <td>0.040000</td>\n",
       "      <td>0.040000</td>\n",
       "      <td>0.030000</td>\n",
       "      <td>0.000000</td>\n",
       "      <td>0.01</td>\n",
       "    </tr>\n",
       "    <tr>\n",
       "      <th>12</th>\n",
       "      <td>Buttes-Chaumont</td>\n",
       "      <td>BAS - BELLEVILLE</td>\n",
       "      <td>48.875033</td>\n",
       "      <td>2.377427</td>\n",
       "      <td>0</td>\n",
       "      <td>0.222222</td>\n",
       "      <td>0.555556</td>\n",
       "      <td>0.133333</td>\n",
       "      <td>0.022222</td>\n",
       "      <td>0.022222</td>\n",
       "      <td>0.033333</td>\n",
       "      <td>0.011111</td>\n",
       "      <td>0.00</td>\n",
       "    </tr>\n",
       "  </tbody>\n",
       "</table>\n",
       "</div>"
      ],
      "text/plain": [
       "                Borough            Neighborhood   Latitude  Longitude  \\\n",
       "0   Batignolles-Monceau  BATIGNOLLES - CARDINET  48.886524   2.320896   \n",
       "2   Batignolles-Monceau     COURCELLES - WAGRAM  48.881477   2.299672   \n",
       "7   Batignolles-Monceau   PEREIRE - MALESHERBES  48.887905   2.305692   \n",
       "11               Bourse      VIVIENNE - GAILLON  48.869190   2.336834   \n",
       "12      Buttes-Chaumont        BAS - BELLEVILLE  48.875033   2.377427   \n",
       "\n",
       "    Cluster Labels  Bars and Clubs  Restaurants  Services  Leisure and Sports  \\\n",
       "0                0        0.220000     0.570000  0.170000            0.020000   \n",
       "2                0        0.160000     0.560000  0.213333            0.026667   \n",
       "7                0        0.148936     0.531915  0.191489            0.021277   \n",
       "11               0        0.160000     0.540000  0.180000            0.040000   \n",
       "12               0        0.222222     0.555556  0.133333            0.022222   \n",
       "\n",
       "    Education and Culture  Nature and Parks  Transportation  Residential  \n",
       "0                0.010000          0.010000        0.000000         0.00  \n",
       "2                0.000000          0.040000        0.000000         0.00  \n",
       "7                0.021277          0.042553        0.042553         0.00  \n",
       "11               0.040000          0.030000        0.000000         0.01  \n",
       "12               0.022222          0.033333        0.011111         0.00  "
      ]
     },
     "execution_count": 89,
     "metadata": {},
     "output_type": "execute_result"
    }
   ],
   "source": [
    "paris_cluster_1 = paris_encoded_venues_merged[paris_encoded_venues_merged['Cluster Labels']==0]\n",
    "paris_cluster_1.head()"
   ]
  },
  {
   "cell_type": "code",
   "execution_count": 90,
   "metadata": {},
   "outputs": [
    {
     "name": "stdout",
     "output_type": "stream",
     "text": [
      "Paris Cluster 1 has : 16 Neighborhoods\n"
     ]
    }
   ],
   "source": [
    "print(\"Paris Cluster 1 has : {} Neighborhoods\".format(paris_cluster_1.shape[0]))"
   ]
  },
  {
   "cell_type": "markdown",
   "metadata": {},
   "source": [
    "#### Cluster 2"
   ]
  },
  {
   "cell_type": "code",
   "execution_count": 91,
   "metadata": {},
   "outputs": [
    {
     "data": {
      "text/html": [
       "<div>\n",
       "<style scoped>\n",
       "    .dataframe tbody tr th:only-of-type {\n",
       "        vertical-align: middle;\n",
       "    }\n",
       "\n",
       "    .dataframe tbody tr th {\n",
       "        vertical-align: top;\n",
       "    }\n",
       "\n",
       "    .dataframe thead th {\n",
       "        text-align: right;\n",
       "    }\n",
       "</style>\n",
       "<table border=\"1\" class=\"dataframe\">\n",
       "  <thead>\n",
       "    <tr style=\"text-align: right;\">\n",
       "      <th></th>\n",
       "      <th>Borough</th>\n",
       "      <th>Neighborhood</th>\n",
       "      <th>Latitude</th>\n",
       "      <th>Longitude</th>\n",
       "      <th>Cluster Labels</th>\n",
       "      <th>Bars and Clubs</th>\n",
       "      <th>Restaurants</th>\n",
       "      <th>Services</th>\n",
       "      <th>Leisure and Sports</th>\n",
       "      <th>Education and Culture</th>\n",
       "      <th>Nature and Parks</th>\n",
       "      <th>Transportation</th>\n",
       "      <th>Residential</th>\n",
       "    </tr>\n",
       "  </thead>\n",
       "  <tbody>\n",
       "    <tr>\n",
       "      <th>13</th>\n",
       "      <td>Buttes-Chaumont</td>\n",
       "      <td>BASSIN DE LA VILLETTE</td>\n",
       "      <td>48.887252</td>\n",
       "      <td>2.377426</td>\n",
       "      <td>1</td>\n",
       "      <td>0.298246</td>\n",
       "      <td>0.350877</td>\n",
       "      <td>0.298246</td>\n",
       "      <td>0.000000</td>\n",
       "      <td>0.035088</td>\n",
       "      <td>0.000000</td>\n",
       "      <td>0.017544</td>\n",
       "      <td>0.0</td>\n",
       "    </tr>\n",
       "    <tr>\n",
       "      <th>15</th>\n",
       "      <td>Buttes-Chaumont</td>\n",
       "      <td>FLANDRE - AUBERVILLIERS</td>\n",
       "      <td>48.889636</td>\n",
       "      <td>2.371612</td>\n",
       "      <td>1</td>\n",
       "      <td>0.392857</td>\n",
       "      <td>0.214286</td>\n",
       "      <td>0.250000</td>\n",
       "      <td>0.000000</td>\n",
       "      <td>0.035714</td>\n",
       "      <td>0.035714</td>\n",
       "      <td>0.071429</td>\n",
       "      <td>0.0</td>\n",
       "    </tr>\n",
       "    <tr>\n",
       "      <th>16</th>\n",
       "      <td>Buttes-Chaumont</td>\n",
       "      <td>MANIN - JAURES</td>\n",
       "      <td>48.888976</td>\n",
       "      <td>2.390138</td>\n",
       "      <td>1</td>\n",
       "      <td>0.270270</td>\n",
       "      <td>0.270270</td>\n",
       "      <td>0.162162</td>\n",
       "      <td>0.000000</td>\n",
       "      <td>0.162162</td>\n",
       "      <td>0.081081</td>\n",
       "      <td>0.054054</td>\n",
       "      <td>0.0</td>\n",
       "    </tr>\n",
       "    <tr>\n",
       "      <th>17</th>\n",
       "      <td>Buttes-Chaumont</td>\n",
       "      <td>PLACE DES FETES</td>\n",
       "      <td>48.877789</td>\n",
       "      <td>2.394983</td>\n",
       "      <td>1</td>\n",
       "      <td>0.250000</td>\n",
       "      <td>0.187500</td>\n",
       "      <td>0.312500</td>\n",
       "      <td>0.000000</td>\n",
       "      <td>0.062500</td>\n",
       "      <td>0.062500</td>\n",
       "      <td>0.125000</td>\n",
       "      <td>0.0</td>\n",
       "    </tr>\n",
       "    <tr>\n",
       "      <th>23</th>\n",
       "      <td>Buttes-Montmartre</td>\n",
       "      <td>AMIRAUX - SIMPLON - POISSONNIERS</td>\n",
       "      <td>48.895143</td>\n",
       "      <td>2.351738</td>\n",
       "      <td>1</td>\n",
       "      <td>0.269231</td>\n",
       "      <td>0.230769</td>\n",
       "      <td>0.153846</td>\n",
       "      <td>0.115385</td>\n",
       "      <td>0.038462</td>\n",
       "      <td>0.115385</td>\n",
       "      <td>0.076923</td>\n",
       "      <td>0.0</td>\n",
       "    </tr>\n",
       "  </tbody>\n",
       "</table>\n",
       "</div>"
      ],
      "text/plain": [
       "              Borough                      Neighborhood   Latitude  Longitude  \\\n",
       "13    Buttes-Chaumont             BASSIN DE LA VILLETTE  48.887252   2.377426   \n",
       "15    Buttes-Chaumont           FLANDRE - AUBERVILLIERS  48.889636   2.371612   \n",
       "16    Buttes-Chaumont                    MANIN - JAURES  48.888976   2.390138   \n",
       "17    Buttes-Chaumont                   PLACE DES FETES  48.877789   2.394983   \n",
       "23  Buttes-Montmartre  AMIRAUX - SIMPLON - POISSONNIERS  48.895143   2.351738   \n",
       "\n",
       "    Cluster Labels  Bars and Clubs  Restaurants  Services  Leisure and Sports  \\\n",
       "13               1        0.298246     0.350877  0.298246            0.000000   \n",
       "15               1        0.392857     0.214286  0.250000            0.000000   \n",
       "16               1        0.270270     0.270270  0.162162            0.000000   \n",
       "17               1        0.250000     0.187500  0.312500            0.000000   \n",
       "23               1        0.269231     0.230769  0.153846            0.115385   \n",
       "\n",
       "    Education and Culture  Nature and Parks  Transportation  Residential  \n",
       "13               0.035088          0.000000        0.017544          0.0  \n",
       "15               0.035714          0.035714        0.071429          0.0  \n",
       "16               0.162162          0.081081        0.054054          0.0  \n",
       "17               0.062500          0.062500        0.125000          0.0  \n",
       "23               0.038462          0.115385        0.076923          0.0  "
      ]
     },
     "execution_count": 91,
     "metadata": {},
     "output_type": "execute_result"
    }
   ],
   "source": [
    "paris_cluster_2 = paris_encoded_venues_merged[paris_encoded_venues_merged['Cluster Labels']==1]\n",
    "paris_cluster_2.head()"
   ]
  },
  {
   "cell_type": "code",
   "execution_count": 92,
   "metadata": {},
   "outputs": [
    {
     "name": "stdout",
     "output_type": "stream",
     "text": [
      "Paris Cluster 2 has : 27 Neighborhoods\n"
     ]
    }
   ],
   "source": [
    "print(\"Paris Cluster 2 has : {} Neighborhoods\".format(paris_cluster_2.shape[0]))"
   ]
  },
  {
   "cell_type": "markdown",
   "metadata": {},
   "source": [
    "#### Cluster 3"
   ]
  },
  {
   "cell_type": "code",
   "execution_count": 93,
   "metadata": {},
   "outputs": [
    {
     "data": {
      "text/html": [
       "<div>\n",
       "<style scoped>\n",
       "    .dataframe tbody tr th:only-of-type {\n",
       "        vertical-align: middle;\n",
       "    }\n",
       "\n",
       "    .dataframe tbody tr th {\n",
       "        vertical-align: top;\n",
       "    }\n",
       "\n",
       "    .dataframe thead th {\n",
       "        text-align: right;\n",
       "    }\n",
       "</style>\n",
       "<table border=\"1\" class=\"dataframe\">\n",
       "  <thead>\n",
       "    <tr style=\"text-align: right;\">\n",
       "      <th></th>\n",
       "      <th>Borough</th>\n",
       "      <th>Neighborhood</th>\n",
       "      <th>Latitude</th>\n",
       "      <th>Longitude</th>\n",
       "      <th>Cluster Labels</th>\n",
       "      <th>Bars and Clubs</th>\n",
       "      <th>Restaurants</th>\n",
       "      <th>Services</th>\n",
       "      <th>Leisure and Sports</th>\n",
       "      <th>Education and Culture</th>\n",
       "      <th>Nature and Parks</th>\n",
       "      <th>Transportation</th>\n",
       "      <th>Residential</th>\n",
       "    </tr>\n",
       "  </thead>\n",
       "  <tbody>\n",
       "    <tr>\n",
       "      <th>1</th>\n",
       "      <td>Batignolles-Monceau</td>\n",
       "      <td>CHAMPERRET - BERTHIER</td>\n",
       "      <td>48.887371</td>\n",
       "      <td>2.294279</td>\n",
       "      <td>2</td>\n",
       "      <td>0.154930</td>\n",
       "      <td>0.436620</td>\n",
       "      <td>0.295775</td>\n",
       "      <td>0.042254</td>\n",
       "      <td>0.014085</td>\n",
       "      <td>0.028169</td>\n",
       "      <td>0.028169</td>\n",
       "      <td>0.0</td>\n",
       "    </tr>\n",
       "    <tr>\n",
       "      <th>3</th>\n",
       "      <td>Batignolles-Monceau</td>\n",
       "      <td>EPINETTES - BESSIERES</td>\n",
       "      <td>48.896663</td>\n",
       "      <td>2.319455</td>\n",
       "      <td>2</td>\n",
       "      <td>0.000000</td>\n",
       "      <td>0.428571</td>\n",
       "      <td>0.238095</td>\n",
       "      <td>0.047619</td>\n",
       "      <td>0.000000</td>\n",
       "      <td>0.047619</td>\n",
       "      <td>0.238095</td>\n",
       "      <td>0.0</td>\n",
       "    </tr>\n",
       "    <tr>\n",
       "      <th>4</th>\n",
       "      <td>Batignolles-Monceau</td>\n",
       "      <td>LA FOURCHE - GUY MOQUET</td>\n",
       "      <td>48.892471</td>\n",
       "      <td>2.323457</td>\n",
       "      <td>2</td>\n",
       "      <td>0.189189</td>\n",
       "      <td>0.405405</td>\n",
       "      <td>0.270270</td>\n",
       "      <td>0.054054</td>\n",
       "      <td>0.000000</td>\n",
       "      <td>0.054054</td>\n",
       "      <td>0.027027</td>\n",
       "      <td>0.0</td>\n",
       "    </tr>\n",
       "    <tr>\n",
       "      <th>6</th>\n",
       "      <td>Batignolles-Monceau</td>\n",
       "      <td>Non renseigné</td>\n",
       "      <td>48.892303</td>\n",
       "      <td>2.310675</td>\n",
       "      <td>2</td>\n",
       "      <td>0.142857</td>\n",
       "      <td>0.333333</td>\n",
       "      <td>0.238095</td>\n",
       "      <td>0.047619</td>\n",
       "      <td>0.047619</td>\n",
       "      <td>0.095238</td>\n",
       "      <td>0.095238</td>\n",
       "      <td>0.0</td>\n",
       "    </tr>\n",
       "    <tr>\n",
       "      <th>8</th>\n",
       "      <td>Batignolles-Monceau</td>\n",
       "      <td>TERNES - MAILLOT</td>\n",
       "      <td>48.879650</td>\n",
       "      <td>2.288292</td>\n",
       "      <td>2</td>\n",
       "      <td>0.180000</td>\n",
       "      <td>0.510000</td>\n",
       "      <td>0.270000</td>\n",
       "      <td>0.030000</td>\n",
       "      <td>0.000000</td>\n",
       "      <td>0.010000</td>\n",
       "      <td>0.000000</td>\n",
       "      <td>0.0</td>\n",
       "    </tr>\n",
       "  </tbody>\n",
       "</table>\n",
       "</div>"
      ],
      "text/plain": [
       "               Borough             Neighborhood   Latitude  Longitude  \\\n",
       "1  Batignolles-Monceau    CHAMPERRET - BERTHIER  48.887371   2.294279   \n",
       "3  Batignolles-Monceau    EPINETTES - BESSIERES  48.896663   2.319455   \n",
       "4  Batignolles-Monceau  LA FOURCHE - GUY MOQUET  48.892471   2.323457   \n",
       "6  Batignolles-Monceau            Non renseigné  48.892303   2.310675   \n",
       "8  Batignolles-Monceau         TERNES - MAILLOT  48.879650   2.288292   \n",
       "\n",
       "   Cluster Labels  Bars and Clubs  Restaurants  Services  Leisure and Sports  \\\n",
       "1               2        0.154930     0.436620  0.295775            0.042254   \n",
       "3               2        0.000000     0.428571  0.238095            0.047619   \n",
       "4               2        0.189189     0.405405  0.270270            0.054054   \n",
       "6               2        0.142857     0.333333  0.238095            0.047619   \n",
       "8               2        0.180000     0.510000  0.270000            0.030000   \n",
       "\n",
       "   Education and Culture  Nature and Parks  Transportation  Residential  \n",
       "1               0.014085          0.028169        0.028169          0.0  \n",
       "3               0.000000          0.047619        0.238095          0.0  \n",
       "4               0.000000          0.054054        0.027027          0.0  \n",
       "6               0.047619          0.095238        0.095238          0.0  \n",
       "8               0.000000          0.010000        0.000000          0.0  "
      ]
     },
     "execution_count": 93,
     "metadata": {},
     "output_type": "execute_result"
    }
   ],
   "source": [
    "paris_cluster_3 = paris_encoded_venues_merged[paris_encoded_venues_merged['Cluster Labels']==2]\n",
    "paris_cluster_3.head()"
   ]
  },
  {
   "cell_type": "code",
   "execution_count": 94,
   "metadata": {},
   "outputs": [
    {
     "name": "stdout",
     "output_type": "stream",
     "text": [
      "Paris Cluster 3 has : 42 Neighborhoods\n"
     ]
    }
   ],
   "source": [
    "print(\"Paris Cluster 3 has : {} Neighborhoods\".format(paris_cluster_3.shape[0]))"
   ]
  },
  {
   "cell_type": "markdown",
   "metadata": {},
   "source": [
    "#### Cluster 4"
   ]
  },
  {
   "cell_type": "code",
   "execution_count": 95,
   "metadata": {},
   "outputs": [
    {
     "data": {
      "text/html": [
       "<div>\n",
       "<style scoped>\n",
       "    .dataframe tbody tr th:only-of-type {\n",
       "        vertical-align: middle;\n",
       "    }\n",
       "\n",
       "    .dataframe tbody tr th {\n",
       "        vertical-align: top;\n",
       "    }\n",
       "\n",
       "    .dataframe thead th {\n",
       "        text-align: right;\n",
       "    }\n",
       "</style>\n",
       "<table border=\"1\" class=\"dataframe\">\n",
       "  <thead>\n",
       "    <tr style=\"text-align: right;\">\n",
       "      <th></th>\n",
       "      <th>Borough</th>\n",
       "      <th>Neighborhood</th>\n",
       "      <th>Latitude</th>\n",
       "      <th>Longitude</th>\n",
       "      <th>Cluster Labels</th>\n",
       "      <th>Bars and Clubs</th>\n",
       "      <th>Restaurants</th>\n",
       "      <th>Services</th>\n",
       "      <th>Leisure and Sports</th>\n",
       "      <th>Education and Culture</th>\n",
       "      <th>Nature and Parks</th>\n",
       "      <th>Transportation</th>\n",
       "      <th>Residential</th>\n",
       "    </tr>\n",
       "  </thead>\n",
       "  <tbody>\n",
       "    <tr>\n",
       "      <th>20</th>\n",
       "      <td>Buttes-Chaumont</td>\n",
       "      <td>PORTE DES LILAS</td>\n",
       "      <td>48.878772</td>\n",
       "      <td>2.404301</td>\n",
       "      <td>3</td>\n",
       "      <td>0.166667</td>\n",
       "      <td>0.083333</td>\n",
       "      <td>0.250000</td>\n",
       "      <td>0.083333</td>\n",
       "      <td>0.083333</td>\n",
       "      <td>0.166667</td>\n",
       "      <td>0.166667</td>\n",
       "      <td>0.0</td>\n",
       "    </tr>\n",
       "    <tr>\n",
       "      <th>24</th>\n",
       "      <td>Buttes-Montmartre</td>\n",
       "      <td>CHARLES HERMITE - EVANGILE</td>\n",
       "      <td>48.898185</td>\n",
       "      <td>2.362694</td>\n",
       "      <td>3</td>\n",
       "      <td>0.111111</td>\n",
       "      <td>0.111111</td>\n",
       "      <td>0.166667</td>\n",
       "      <td>0.277778</td>\n",
       "      <td>0.000000</td>\n",
       "      <td>0.111111</td>\n",
       "      <td>0.222222</td>\n",
       "      <td>0.0</td>\n",
       "    </tr>\n",
       "    <tr>\n",
       "      <th>85</th>\n",
       "      <td>Passy</td>\n",
       "      <td>AUTEUIL NORD</td>\n",
       "      <td>48.854328</td>\n",
       "      <td>2.248426</td>\n",
       "      <td>3</td>\n",
       "      <td>0.000000</td>\n",
       "      <td>0.000000</td>\n",
       "      <td>0.500000</td>\n",
       "      <td>0.000000</td>\n",
       "      <td>0.000000</td>\n",
       "      <td>0.500000</td>\n",
       "      <td>0.000000</td>\n",
       "      <td>0.0</td>\n",
       "    </tr>\n",
       "    <tr>\n",
       "      <th>88</th>\n",
       "      <td>Passy</td>\n",
       "      <td>MUETTE NORD</td>\n",
       "      <td>48.864792</td>\n",
       "      <td>2.256352</td>\n",
       "      <td>3</td>\n",
       "      <td>0.000000</td>\n",
       "      <td>0.300000</td>\n",
       "      <td>0.000000</td>\n",
       "      <td>0.200000</td>\n",
       "      <td>0.000000</td>\n",
       "      <td>0.400000</td>\n",
       "      <td>0.100000</td>\n",
       "      <td>0.0</td>\n",
       "    </tr>\n",
       "    <tr>\n",
       "      <th>90</th>\n",
       "      <td>Passy</td>\n",
       "      <td>PORTE DAUPHINE</td>\n",
       "      <td>48.871764</td>\n",
       "      <td>2.271922</td>\n",
       "      <td>3</td>\n",
       "      <td>0.000000</td>\n",
       "      <td>0.200000</td>\n",
       "      <td>0.100000</td>\n",
       "      <td>0.400000</td>\n",
       "      <td>0.000000</td>\n",
       "      <td>0.200000</td>\n",
       "      <td>0.100000</td>\n",
       "      <td>0.0</td>\n",
       "    </tr>\n",
       "  </tbody>\n",
       "</table>\n",
       "</div>"
      ],
      "text/plain": [
       "              Borough                Neighborhood   Latitude  Longitude  \\\n",
       "20    Buttes-Chaumont             PORTE DES LILAS  48.878772   2.404301   \n",
       "24  Buttes-Montmartre  CHARLES HERMITE - EVANGILE  48.898185   2.362694   \n",
       "85              Passy                AUTEUIL NORD  48.854328   2.248426   \n",
       "88              Passy                 MUETTE NORD  48.864792   2.256352   \n",
       "90              Passy              PORTE DAUPHINE  48.871764   2.271922   \n",
       "\n",
       "    Cluster Labels  Bars and Clubs  Restaurants  Services  Leisure and Sports  \\\n",
       "20               3        0.166667     0.083333  0.250000            0.083333   \n",
       "24               3        0.111111     0.111111  0.166667            0.277778   \n",
       "85               3        0.000000     0.000000  0.500000            0.000000   \n",
       "88               3        0.000000     0.300000  0.000000            0.200000   \n",
       "90               3        0.000000     0.200000  0.100000            0.400000   \n",
       "\n",
       "    Education and Culture  Nature and Parks  Transportation  Residential  \n",
       "20               0.083333          0.166667        0.166667          0.0  \n",
       "24               0.000000          0.111111        0.222222          0.0  \n",
       "85               0.000000          0.500000        0.000000          0.0  \n",
       "88               0.000000          0.400000        0.100000          0.0  \n",
       "90               0.000000          0.200000        0.100000          0.0  "
      ]
     },
     "execution_count": 95,
     "metadata": {},
     "output_type": "execute_result"
    }
   ],
   "source": [
    "paris_cluster_4 = paris_encoded_venues_merged[paris_encoded_venues_merged['Cluster Labels']==3]\n",
    "paris_cluster_4.head()"
   ]
  },
  {
   "cell_type": "code",
   "execution_count": 96,
   "metadata": {},
   "outputs": [
    {
     "name": "stdout",
     "output_type": "stream",
     "text": [
      "Paris Cluster 4 has : 6 Neighborhoods\n"
     ]
    }
   ],
   "source": [
    "print(\"Paris Cluster 4 has : {} Neighborhoods\".format(paris_cluster_4.shape[0]))"
   ]
  },
  {
   "cell_type": "markdown",
   "metadata": {},
   "source": [
    "#### Cluster 5"
   ]
  },
  {
   "cell_type": "code",
   "execution_count": 97,
   "metadata": {},
   "outputs": [
    {
     "data": {
      "text/html": [
       "<div>\n",
       "<style scoped>\n",
       "    .dataframe tbody tr th:only-of-type {\n",
       "        vertical-align: middle;\n",
       "    }\n",
       "\n",
       "    .dataframe tbody tr th {\n",
       "        vertical-align: top;\n",
       "    }\n",
       "\n",
       "    .dataframe thead th {\n",
       "        text-align: right;\n",
       "    }\n",
       "</style>\n",
       "<table border=\"1\" class=\"dataframe\">\n",
       "  <thead>\n",
       "    <tr style=\"text-align: right;\">\n",
       "      <th></th>\n",
       "      <th>Borough</th>\n",
       "      <th>Neighborhood</th>\n",
       "      <th>Latitude</th>\n",
       "      <th>Longitude</th>\n",
       "      <th>Cluster Labels</th>\n",
       "      <th>Bars and Clubs</th>\n",
       "      <th>Restaurants</th>\n",
       "      <th>Services</th>\n",
       "      <th>Leisure and Sports</th>\n",
       "      <th>Education and Culture</th>\n",
       "      <th>Nature and Parks</th>\n",
       "      <th>Transportation</th>\n",
       "      <th>Residential</th>\n",
       "    </tr>\n",
       "  </thead>\n",
       "  <tbody>\n",
       "    <tr>\n",
       "      <th>5</th>\n",
       "      <td>Batignolles-Monceau</td>\n",
       "      <td>LEGENDRE - LEVIS</td>\n",
       "      <td>48.883251</td>\n",
       "      <td>2.312985</td>\n",
       "      <td>4</td>\n",
       "      <td>0.224138</td>\n",
       "      <td>0.482759</td>\n",
       "      <td>0.189655</td>\n",
       "      <td>0.000000</td>\n",
       "      <td>0.086207</td>\n",
       "      <td>0.017241</td>\n",
       "      <td>0.000000</td>\n",
       "      <td>0.0</td>\n",
       "    </tr>\n",
       "    <tr>\n",
       "      <th>9</th>\n",
       "      <td>Bourse</td>\n",
       "      <td>MONTORGUEIL - SAINT-DENIS</td>\n",
       "      <td>48.865997</td>\n",
       "      <td>2.346664</td>\n",
       "      <td>4</td>\n",
       "      <td>0.330000</td>\n",
       "      <td>0.370000</td>\n",
       "      <td>0.230000</td>\n",
       "      <td>0.020000</td>\n",
       "      <td>0.030000</td>\n",
       "      <td>0.020000</td>\n",
       "      <td>0.000000</td>\n",
       "      <td>0.0</td>\n",
       "    </tr>\n",
       "    <tr>\n",
       "      <th>10</th>\n",
       "      <td>Bourse</td>\n",
       "      <td>SENTIER - BONNE NOUVELLE</td>\n",
       "      <td>48.868927</td>\n",
       "      <td>2.348039</td>\n",
       "      <td>4</td>\n",
       "      <td>0.350000</td>\n",
       "      <td>0.310000</td>\n",
       "      <td>0.200000</td>\n",
       "      <td>0.030000</td>\n",
       "      <td>0.100000</td>\n",
       "      <td>0.010000</td>\n",
       "      <td>0.000000</td>\n",
       "      <td>0.0</td>\n",
       "    </tr>\n",
       "    <tr>\n",
       "      <th>14</th>\n",
       "      <td>Buttes-Chaumont</td>\n",
       "      <td>DANUBE</td>\n",
       "      <td>48.883485</td>\n",
       "      <td>2.395222</td>\n",
       "      <td>4</td>\n",
       "      <td>0.214286</td>\n",
       "      <td>0.357143</td>\n",
       "      <td>0.071429</td>\n",
       "      <td>0.071429</td>\n",
       "      <td>0.071429</td>\n",
       "      <td>0.214286</td>\n",
       "      <td>0.000000</td>\n",
       "      <td>0.0</td>\n",
       "    </tr>\n",
       "    <tr>\n",
       "      <th>18</th>\n",
       "      <td>Buttes-Chaumont</td>\n",
       "      <td>PLATEAU</td>\n",
       "      <td>48.878371</td>\n",
       "      <td>2.384588</td>\n",
       "      <td>4</td>\n",
       "      <td>0.236842</td>\n",
       "      <td>0.500000</td>\n",
       "      <td>0.052632</td>\n",
       "      <td>0.000000</td>\n",
       "      <td>0.078947</td>\n",
       "      <td>0.105263</td>\n",
       "      <td>0.026316</td>\n",
       "      <td>0.0</td>\n",
       "    </tr>\n",
       "  </tbody>\n",
       "</table>\n",
       "</div>"
      ],
      "text/plain": [
       "                Borough               Neighborhood   Latitude  Longitude  \\\n",
       "5   Batignolles-Monceau           LEGENDRE - LEVIS  48.883251   2.312985   \n",
       "9                Bourse  MONTORGUEIL - SAINT-DENIS  48.865997   2.346664   \n",
       "10               Bourse   SENTIER - BONNE NOUVELLE  48.868927   2.348039   \n",
       "14      Buttes-Chaumont                     DANUBE  48.883485   2.395222   \n",
       "18      Buttes-Chaumont                    PLATEAU  48.878371   2.384588   \n",
       "\n",
       "    Cluster Labels  Bars and Clubs  Restaurants  Services  Leisure and Sports  \\\n",
       "5                4        0.224138     0.482759  0.189655            0.000000   \n",
       "9                4        0.330000     0.370000  0.230000            0.020000   \n",
       "10               4        0.350000     0.310000  0.200000            0.030000   \n",
       "14               4        0.214286     0.357143  0.071429            0.071429   \n",
       "18               4        0.236842     0.500000  0.052632            0.000000   \n",
       "\n",
       "    Education and Culture  Nature and Parks  Transportation  Residential  \n",
       "5                0.086207          0.017241        0.000000          0.0  \n",
       "9                0.030000          0.020000        0.000000          0.0  \n",
       "10               0.100000          0.010000        0.000000          0.0  \n",
       "14               0.071429          0.214286        0.000000          0.0  \n",
       "18               0.078947          0.105263        0.026316          0.0  "
      ]
     },
     "execution_count": 97,
     "metadata": {},
     "output_type": "execute_result"
    }
   ],
   "source": [
    "paris_cluster_5 = paris_encoded_venues_merged[paris_encoded_venues_merged['Cluster Labels']==4]\n",
    "paris_cluster_5.head()"
   ]
  },
  {
   "cell_type": "code",
   "execution_count": 98,
   "metadata": {},
   "outputs": [
    {
     "name": "stdout",
     "output_type": "stream",
     "text": [
      "Paris Cluster 5 has : 32 Neighborhoods\n"
     ]
    }
   ],
   "source": [
    "print(\"Paris Cluster 5 has : {} Neighborhoods\".format(paris_cluster_5.shape[0]))"
   ]
  },
  {
   "cell_type": "markdown",
   "metadata": {},
   "source": [
    "### Describing distribution of Paris's Venus subcategories with Pie Charts"
   ]
  },
  {
   "cell_type": "code",
   "execution_count": 99,
   "metadata": {
    "scrolled": true
   },
   "outputs": [
    {
     "data": {
      "text/html": [
       "<div>\n",
       "<style scoped>\n",
       "    .dataframe tbody tr th:only-of-type {\n",
       "        vertical-align: middle;\n",
       "    }\n",
       "\n",
       "    .dataframe tbody tr th {\n",
       "        vertical-align: top;\n",
       "    }\n",
       "\n",
       "    .dataframe thead th {\n",
       "        text-align: right;\n",
       "    }\n",
       "</style>\n",
       "<table border=\"1\" class=\"dataframe\">\n",
       "  <thead>\n",
       "    <tr style=\"text-align: right;\">\n",
       "      <th></th>\n",
       "      <th>Cluster_1</th>\n",
       "      <th>Cluster_2</th>\n",
       "      <th>Cluster_3</th>\n",
       "      <th>Cluster_4</th>\n",
       "      <th>Cluster_5</th>\n",
       "      <th>labels</th>\n",
       "      <th>colors</th>\n",
       "    </tr>\n",
       "  </thead>\n",
       "  <tbody>\n",
       "    <tr>\n",
       "      <th>0</th>\n",
       "      <td>0.153078</td>\n",
       "      <td>0.256293</td>\n",
       "      <td>0.164072</td>\n",
       "      <td>0.093915</td>\n",
       "      <td>0.298212</td>\n",
       "      <td>Bars and Clubs</td>\n",
       "      <td>#47ACB1</td>\n",
       "    </tr>\n",
       "    <tr>\n",
       "      <th>1</th>\n",
       "      <td>0.591417</td>\n",
       "      <td>0.265445</td>\n",
       "      <td>0.408131</td>\n",
       "      <td>0.139550</td>\n",
       "      <td>0.413792</td>\n",
       "      <td>Restaurants</td>\n",
       "      <td>#4F209C</td>\n",
       "    </tr>\n",
       "    <tr>\n",
       "      <th>2</th>\n",
       "      <td>0.158926</td>\n",
       "      <td>0.307724</td>\n",
       "      <td>0.249767</td>\n",
       "      <td>0.169444</td>\n",
       "      <td>0.161372</td>\n",
       "      <td>Services</td>\n",
       "      <td>#F9AA7B</td>\n",
       "    </tr>\n",
       "    <tr>\n",
       "      <th>3</th>\n",
       "      <td>0.020408</td>\n",
       "      <td>0.022343</td>\n",
       "      <td>0.034342</td>\n",
       "      <td>0.207804</td>\n",
       "      <td>0.018225</td>\n",
       "      <td>Leisure and Sports</td>\n",
       "      <td>#6BE3D5</td>\n",
       "    </tr>\n",
       "    <tr>\n",
       "      <th>4</th>\n",
       "      <td>0.024105</td>\n",
       "      <td>0.068578</td>\n",
       "      <td>0.048343</td>\n",
       "      <td>0.013889</td>\n",
       "      <td>0.060911</td>\n",
       "      <td>Education and Culture</td>\n",
       "      <td>#E56725</td>\n",
       "    </tr>\n",
       "    <tr>\n",
       "      <th>5</th>\n",
       "      <td>0.036619</td>\n",
       "      <td>0.049438</td>\n",
       "      <td>0.058135</td>\n",
       "      <td>0.253439</td>\n",
       "      <td>0.041009</td>\n",
       "      <td>Nature and Parks</td>\n",
       "      <td>#676766</td>\n",
       "    </tr>\n",
       "    <tr>\n",
       "      <th>6</th>\n",
       "      <td>0.014823</td>\n",
       "      <td>0.027735</td>\n",
       "      <td>0.035385</td>\n",
       "      <td>0.121958</td>\n",
       "      <td>0.005396</td>\n",
       "      <td>Transportation</td>\n",
       "      <td>#ADD5D7</td>\n",
       "    </tr>\n",
       "    <tr>\n",
       "      <th>7</th>\n",
       "      <td>0.000625</td>\n",
       "      <td>0.002443</td>\n",
       "      <td>0.001825</td>\n",
       "      <td>0.000000</td>\n",
       "      <td>0.001083</td>\n",
       "      <td>Residential</td>\n",
       "      <td>#FFCD33</td>\n",
       "    </tr>\n",
       "  </tbody>\n",
       "</table>\n",
       "</div>"
      ],
      "text/plain": [
       "   Cluster_1  Cluster_2  Cluster_3  Cluster_4  Cluster_5  \\\n",
       "0   0.153078   0.256293   0.164072   0.093915   0.298212   \n",
       "1   0.591417   0.265445   0.408131   0.139550   0.413792   \n",
       "2   0.158926   0.307724   0.249767   0.169444   0.161372   \n",
       "3   0.020408   0.022343   0.034342   0.207804   0.018225   \n",
       "4   0.024105   0.068578   0.048343   0.013889   0.060911   \n",
       "5   0.036619   0.049438   0.058135   0.253439   0.041009   \n",
       "6   0.014823   0.027735   0.035385   0.121958   0.005396   \n",
       "7   0.000625   0.002443   0.001825   0.000000   0.001083   \n",
       "\n",
       "                  labels   colors  \n",
       "0         Bars and Clubs  #47ACB1  \n",
       "1            Restaurants  #4F209C  \n",
       "2               Services  #F9AA7B  \n",
       "3     Leisure and Sports  #6BE3D5  \n",
       "4  Education and Culture  #E56725  \n",
       "5       Nature and Parks  #676766  \n",
       "6         Transportation  #ADD5D7  \n",
       "7            Residential  #FFCD33  "
      ]
     },
     "execution_count": 99,
     "metadata": {},
     "output_type": "execute_result"
    }
   ],
   "source": [
    "# Columns list\n",
    "columns_clustering = [\"Bars and Clubs\", \"Restaurants\", \"Services\", \"Leisure and Sports\",\n",
    "                      \"Education and Culture\", \"Nature and Parks\", \"Transportation\", \"Residential\", \"Cluster Labels\"]\n",
    "\n",
    "paris_clusters_dist = paris_encoded_venues_merged[columns_clustering].groupby(\"Cluster Labels\").mean().T.reset_index(\n",
    "                                                                                                                    drop=True)\n",
    "paris_clusters_dist.columns = ['Cluster_1', 'Cluster_2', 'Cluster_3', 'Cluster_4', 'Cluster_5']\n",
    "\n",
    "paris_clusters_dist['labels'] = columns_clustering[:-1]\n",
    "\n",
    "paris_clusters_dist['colors'] = ['#47ACB1', '#4F209C', '#F9AA7B', '#6BE3D5', '#E56725', '#676766', '#ADD5D7', '#FFCD33']\n",
    "\n",
    "paris_clusters_dist"
   ]
  },
  {
   "cell_type": "code",
   "execution_count": 100,
   "metadata": {},
   "outputs": [
    {
     "data": {
      "text/html": [
       "<iframe id=\"igraph\" scrolling=\"no\" style=\"border:none;\" seamless=\"seamless\" src=\"https://plot.ly/~mourabitelbachir/36.embed\" height=\"525px\" width=\"100%\"></iframe>"
      ],
      "text/plain": [
       "<plotly.tools.PlotlyDisplay object>"
      ]
     },
     "execution_count": 100,
     "metadata": {},
     "output_type": "execute_result"
    }
   ],
   "source": [
    "paris_pie_cluster1 = go.Pie(labels=paris_clusters_dist['labels'], \n",
    "                            values=paris_clusters_dist['Cluster_1'],\n",
    "                            hoverinfo='label+percent', \n",
    "                            textposition=calculateTextpositions(paris_clusters_dist['Cluster_1']),\n",
    "                            textfont=dict(size=15),\n",
    "                            pull=.05,\n",
    "                            hole=.2,\n",
    "                            marker=dict(colors=paris_clusters_dist['colors'],\n",
    "                                           line=dict(color='#ffffff', width=2)))\n",
    "\n",
    "layout = go.Layout(title='Cluster 1')\n",
    "\n",
    "fig = go.Figure([paris_pie_cluster1], layout=layout)\n",
    "\n",
    "ppy.iplot(fig, filename='paris_pie_chart_cluster1')"
   ]
  },
  {
   "cell_type": "code",
   "execution_count": 101,
   "metadata": {},
   "outputs": [
    {
     "data": {
      "text/html": [
       "<iframe id=\"igraph\" scrolling=\"no\" style=\"border:none;\" seamless=\"seamless\" src=\"https://plot.ly/~mourabitelbachir/38.embed\" height=\"525px\" width=\"100%\"></iframe>"
      ],
      "text/plain": [
       "<plotly.tools.PlotlyDisplay object>"
      ]
     },
     "execution_count": 101,
     "metadata": {},
     "output_type": "execute_result"
    }
   ],
   "source": [
    "paris_pie_cluster2 = go.Pie(labels=paris_clusters_dist['labels'], \n",
    "                            values=paris_clusters_dist['Cluster_2'],\n",
    "                            hoverinfo='label+percent', \n",
    "                            textposition=calculateTextpositions(paris_clusters_dist['Cluster_2']),\n",
    "                            textfont=dict(size=15),\n",
    "                            pull=.05,\n",
    "                            hole=.2,\n",
    "                            marker=dict(colors=paris_clusters_dist['colors'],\n",
    "                                           line=dict(color='#ffffff', width=2)))\n",
    "                               \n",
    "layout = go.Layout(title='Cluster 2')\n",
    "\n",
    "fig = go.Figure([paris_pie_cluster2], layout=layout)\n",
    "\n",
    "ppy.iplot(fig, filename='paris_pie_chart_cluster2')"
   ]
  },
  {
   "cell_type": "code",
   "execution_count": 102,
   "metadata": {},
   "outputs": [
    {
     "data": {
      "text/html": [
       "<iframe id=\"igraph\" scrolling=\"no\" style=\"border:none;\" seamless=\"seamless\" src=\"https://plot.ly/~mourabitelbachir/40.embed\" height=\"525px\" width=\"100%\"></iframe>"
      ],
      "text/plain": [
       "<plotly.tools.PlotlyDisplay object>"
      ]
     },
     "execution_count": 102,
     "metadata": {},
     "output_type": "execute_result"
    }
   ],
   "source": [
    "paris_pie_cluster3 = go.Pie(labels=paris_clusters_dist['labels'], \n",
    "                            values=paris_clusters_dist['Cluster_3'],\n",
    "                            hoverinfo='label+percent', \n",
    "                            textposition=calculateTextpositions(paris_clusters_dist['Cluster_3']),\n",
    "                            textfont=dict(size=15),\n",
    "                            pull=.05,\n",
    "                            hole=.2,\n",
    "                            marker=dict(colors=paris_clusters_dist['colors'],\n",
    "                                           line=dict(color='#ffffff', width=2)))\n",
    "                               \n",
    "layout = go.Layout(title='Cluster 3')\n",
    "\n",
    "fig = go.Figure([paris_pie_cluster3], layout=layout)\n",
    "\n",
    "ppy.iplot(fig, filename='paris_pie_chart_cluster3')"
   ]
  },
  {
   "cell_type": "code",
   "execution_count": 103,
   "metadata": {},
   "outputs": [
    {
     "data": {
      "text/html": [
       "<iframe id=\"igraph\" scrolling=\"no\" style=\"border:none;\" seamless=\"seamless\" src=\"https://plot.ly/~mourabitelbachir/42.embed\" height=\"525px\" width=\"100%\"></iframe>"
      ],
      "text/plain": [
       "<plotly.tools.PlotlyDisplay object>"
      ]
     },
     "execution_count": 103,
     "metadata": {},
     "output_type": "execute_result"
    }
   ],
   "source": [
    "paris_pie_cluster4 = go.Pie(labels=paris_clusters_dist['labels'], \n",
    "                            values=paris_clusters_dist['Cluster_4'],\n",
    "                            hoverinfo='label+percent', \n",
    "                            textposition=calculateTextpositions(paris_clusters_dist['Cluster_4']),\n",
    "                            textfont=dict(size=15),\n",
    "                            pull=.05,\n",
    "                            hole=.2,\n",
    "                            marker=dict(colors=paris_clusters_dist['colors'],\n",
    "                                           line=dict(color='#ffffff', width=2)))\n",
    "                               \n",
    "layout = go.Layout(title='Cluster 4')\n",
    "\n",
    "fig = go.Figure([paris_pie_cluster4], layout=layout)\n",
    "\n",
    "ppy.iplot(fig, filename='paris_pie_chart_cluster4')"
   ]
  },
  {
   "cell_type": "code",
   "execution_count": 104,
   "metadata": {},
   "outputs": [
    {
     "data": {
      "text/html": [
       "<iframe id=\"igraph\" scrolling=\"no\" style=\"border:none;\" seamless=\"seamless\" src=\"https://plot.ly/~mourabitelbachir/44.embed\" height=\"525px\" width=\"100%\"></iframe>"
      ],
      "text/plain": [
       "<plotly.tools.PlotlyDisplay object>"
      ]
     },
     "execution_count": 104,
     "metadata": {},
     "output_type": "execute_result"
    }
   ],
   "source": [
    "paris_pie_cluster5 = go.Pie(labels=paris_clusters_dist['labels'], \n",
    "                            values=paris_clusters_dist['Cluster_5'],\n",
    "                            hoverinfo='label+percent', \n",
    "                            textposition=calculateTextpositions(paris_clusters_dist['Cluster_5']),\n",
    "                            textfont=dict(size=15),\n",
    "                            pull=.05,\n",
    "                            hole=.2,\n",
    "                            marker=dict(colors=paris_clusters_dist['colors'],\n",
    "                                           line=dict(color='#ffffff', width=2)))\n",
    "                               \n",
    "layout = go.Layout(title='Cluster 5')\n",
    "\n",
    "fig = go.Figure([paris_pie_cluster5], layout=layout)\n",
    "\n",
    "ppy.iplot(fig, filename='paris_pie_chart_cluster5')"
   ]
  },
  {
   "cell_type": "markdown",
   "metadata": {},
   "source": [
    "### Paris Clusters Map"
   ]
  },
  {
   "cell_type": "markdown",
   "metadata": {},
   "source": [
    "Finally, let's visualize the resulting clusters for Paris."
   ]
  },
  {
   "cell_type": "code",
   "execution_count": 105,
   "metadata": {},
   "outputs": [
    {
     "data": {
      "text/html": [
       "<div style=\"width:100%;\"><div style=\"position:relative;width:100%;height:0;padding-bottom:60%;\"><iframe src=\"data:text/html;charset=utf-8;base64,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\" style=\"position:absolute;width:100%;height:100%;left:0;top:0;border:none !important;\" allowfullscreen webkitallowfullscreen mozallowfullscreen></iframe></div></div>"
      ],
      "text/plain": [
       "<folium.folium.Map at 0x174cd40e208>"
      ]
     },
     "execution_count": 105,
     "metadata": {},
     "output_type": "execute_result"
    }
   ],
   "source": [
    "# create map\n",
    "map_paris_clusters = folium.Map(location=[paris_latitude, paris_longitude], zoom_start=12)\n",
    "\n",
    "# set color scheme for the clusters\n",
    "x = np.arange(kclusters)\n",
    "ys = [i+x+(i*x)**2 for i in range(kclusters)]\n",
    "colors_array = cm.rainbow(np.linspace(0, 1, len(ys)))\n",
    "rainbow = [colors.rgb2hex(i*0.8) for i in colors_array]\n",
    "\n",
    "map_paris_clusters.choropleth(\n",
    "    geo_data=paris_boroughs_geo,\n",
    "    fill_color='#D6877C',\n",
    "    line_color='White',\n",
    "    fill_opacity=0.4, \n",
    "    line_opacity=0.7,\n",
    "    line_weight=2,\n",
    "    legend_name='Paris City Boroughs Tabulation Areas',\n",
    "    reset=True\n",
    ")\n",
    "\n",
    "# add markers to the map\n",
    "for lat, lon, poi, cluster in zip(paris_encoded_venues_merged['Latitude'], paris_encoded_venues_merged['Longitude'], \n",
    "                                  paris_encoded_venues_merged['Neighborhood'], paris_encoded_venues_merged['Cluster Labels']):\n",
    "    label = folium.Popup(str(poi) + ' Cluster ' + str(cluster+1), parse_html=True)\n",
    "    folium.CircleMarker(\n",
    "        [lat, lon],\n",
    "        radius=5,\n",
    "        popup=label,\n",
    "        color=rainbow[cluster-1],\n",
    "        fill=True,\n",
    "        fill_color=rainbow[cluster-1],\n",
    "        fill_opacity=0.7).add_to(map_paris_clusters)\n",
    "       \n",
    "map_paris_clusters"
   ]
  },
  {
   "cell_type": "markdown",
   "metadata": {},
   "source": [
    "### 3.4- New York City Analytics"
   ]
  },
  {
   "cell_type": "code",
   "execution_count": 106,
   "metadata": {},
   "outputs": [],
   "source": [
    "# Create encoded venues dataframe\n",
    "newyork_encoded_venues = pd.DataFrame(encode_venues_categories(newyork_venues), \n",
    "                                 columns=columns_encoded)"
   ]
  },
  {
   "cell_type": "code",
   "execution_count": 107,
   "metadata": {},
   "outputs": [
    {
     "data": {
      "text/plain": [
       "(10265, 15)"
      ]
     },
     "execution_count": 107,
     "metadata": {},
     "output_type": "execute_result"
    }
   ],
   "source": [
    "newyork_encoded_venues.shape"
   ]
  },
  {
   "cell_type": "code",
   "execution_count": 108,
   "metadata": {},
   "outputs": [
    {
     "data": {
      "text/plain": [
       "(10265, 8)"
      ]
     },
     "execution_count": 108,
     "metadata": {},
     "output_type": "execute_result"
    }
   ],
   "source": [
    "newyork_venues.shape"
   ]
  },
  {
   "cell_type": "code",
   "execution_count": 109,
   "metadata": {},
   "outputs": [
    {
     "data": {
      "text/html": [
       "<div>\n",
       "<style scoped>\n",
       "    .dataframe tbody tr th:only-of-type {\n",
       "        vertical-align: middle;\n",
       "    }\n",
       "\n",
       "    .dataframe tbody tr th {\n",
       "        vertical-align: top;\n",
       "    }\n",
       "\n",
       "    .dataframe thead th {\n",
       "        text-align: right;\n",
       "    }\n",
       "</style>\n",
       "<table border=\"1\" class=\"dataframe\">\n",
       "  <thead>\n",
       "    <tr style=\"text-align: right;\">\n",
       "      <th></th>\n",
       "      <th>Borough</th>\n",
       "      <th>Neighborhood</th>\n",
       "      <th>Neighborhood Latitude</th>\n",
       "      <th>Neighborhood Longitude</th>\n",
       "      <th>Venue Latitude</th>\n",
       "      <th>Venue Longitude</th>\n",
       "      <th>Bars and Clubs</th>\n",
       "      <th>Restaurants</th>\n",
       "      <th>Services</th>\n",
       "      <th>Leisure and Sports</th>\n",
       "      <th>Education and Culture</th>\n",
       "      <th>Nature and Parks</th>\n",
       "      <th>Transportation</th>\n",
       "      <th>Residential</th>\n",
       "      <th>Total Venues</th>\n",
       "    </tr>\n",
       "  </thead>\n",
       "  <tbody>\n",
       "    <tr>\n",
       "      <th>0</th>\n",
       "      <td>Bronx</td>\n",
       "      <td>Wakefield</td>\n",
       "      <td>40.894705</td>\n",
       "      <td>-73.847201</td>\n",
       "      <td>40.894123</td>\n",
       "      <td>-73.845892</td>\n",
       "      <td>1</td>\n",
       "      <td>0</td>\n",
       "      <td>0</td>\n",
       "      <td>0</td>\n",
       "      <td>0</td>\n",
       "      <td>0</td>\n",
       "      <td>0</td>\n",
       "      <td>0</td>\n",
       "      <td>1</td>\n",
       "    </tr>\n",
       "    <tr>\n",
       "      <th>1</th>\n",
       "      <td>Bronx</td>\n",
       "      <td>Wakefield</td>\n",
       "      <td>40.894705</td>\n",
       "      <td>-73.847201</td>\n",
       "      <td>40.896521</td>\n",
       "      <td>-73.844680</td>\n",
       "      <td>0</td>\n",
       "      <td>0</td>\n",
       "      <td>1</td>\n",
       "      <td>0</td>\n",
       "      <td>0</td>\n",
       "      <td>0</td>\n",
       "      <td>0</td>\n",
       "      <td>0</td>\n",
       "      <td>1</td>\n",
       "    </tr>\n",
       "    <tr>\n",
       "      <th>2</th>\n",
       "      <td>Bronx</td>\n",
       "      <td>Wakefield</td>\n",
       "      <td>40.894705</td>\n",
       "      <td>-73.847201</td>\n",
       "      <td>40.898276</td>\n",
       "      <td>-73.850381</td>\n",
       "      <td>0</td>\n",
       "      <td>1</td>\n",
       "      <td>0</td>\n",
       "      <td>0</td>\n",
       "      <td>0</td>\n",
       "      <td>0</td>\n",
       "      <td>0</td>\n",
       "      <td>0</td>\n",
       "      <td>1</td>\n",
       "    </tr>\n",
       "    <tr>\n",
       "      <th>3</th>\n",
       "      <td>Bronx</td>\n",
       "      <td>Wakefield</td>\n",
       "      <td>40.894705</td>\n",
       "      <td>-73.847201</td>\n",
       "      <td>40.890487</td>\n",
       "      <td>-73.848568</td>\n",
       "      <td>1</td>\n",
       "      <td>0</td>\n",
       "      <td>0</td>\n",
       "      <td>0</td>\n",
       "      <td>0</td>\n",
       "      <td>0</td>\n",
       "      <td>0</td>\n",
       "      <td>0</td>\n",
       "      <td>1</td>\n",
       "    </tr>\n",
       "    <tr>\n",
       "      <th>4</th>\n",
       "      <td>Bronx</td>\n",
       "      <td>Wakefield</td>\n",
       "      <td>40.894705</td>\n",
       "      <td>-73.847201</td>\n",
       "      <td>40.890631</td>\n",
       "      <td>-73.849027</td>\n",
       "      <td>1</td>\n",
       "      <td>0</td>\n",
       "      <td>0</td>\n",
       "      <td>0</td>\n",
       "      <td>0</td>\n",
       "      <td>0</td>\n",
       "      <td>0</td>\n",
       "      <td>0</td>\n",
       "      <td>1</td>\n",
       "    </tr>\n",
       "  </tbody>\n",
       "</table>\n",
       "</div>"
      ],
      "text/plain": [
       "  Borough Neighborhood  Neighborhood Latitude  Neighborhood Longitude  \\\n",
       "0   Bronx    Wakefield              40.894705              -73.847201   \n",
       "1   Bronx    Wakefield              40.894705              -73.847201   \n",
       "2   Bronx    Wakefield              40.894705              -73.847201   \n",
       "3   Bronx    Wakefield              40.894705              -73.847201   \n",
       "4   Bronx    Wakefield              40.894705              -73.847201   \n",
       "\n",
       "   Venue Latitude  Venue Longitude  Bars and Clubs  Restaurants  Services  \\\n",
       "0       40.894123       -73.845892               1            0         0   \n",
       "1       40.896521       -73.844680               0            0         1   \n",
       "2       40.898276       -73.850381               0            1         0   \n",
       "3       40.890487       -73.848568               1            0         0   \n",
       "4       40.890631       -73.849027               1            0         0   \n",
       "\n",
       "   Leisure and Sports  Education and Culture  Nature and Parks  \\\n",
       "0                   0                      0                 0   \n",
       "1                   0                      0                 0   \n",
       "2                   0                      0                 0   \n",
       "3                   0                      0                 0   \n",
       "4                   0                      0                 0   \n",
       "\n",
       "   Transportation  Residential  Total Venues  \n",
       "0               0            0             1  \n",
       "1               0            0             1  \n",
       "2               0            0             1  \n",
       "3               0            0             1  \n",
       "4               0            0             1  "
      ]
     },
     "execution_count": 109,
     "metadata": {},
     "output_type": "execute_result"
    }
   ],
   "source": [
    "newyork_encoded_venues.head()"
   ]
  },
  {
   "cell_type": "code",
   "execution_count": 110,
   "metadata": {},
   "outputs": [],
   "source": [
    "columns_to_drop_sum = ['Neighborhood Latitude', 'Neighborhood Longitude',\n",
    "                        'Venue Latitude', 'Venue Longitude']\n",
    "\n",
    "columns_to_drop_mean = columns_to_drop_sum + ['Total Venues']\n",
    "\n",
    "\n",
    "newyork_encoded_venues_droped_sum = newyork_encoded_venues.drop(columns=columns_to_drop_sum)\n",
    "newyork_encoded_venues_droped_mean = newyork_encoded_venues.drop(columns=columns_to_drop_mean)\n",
    "\n",
    "# Create encoded grouped venues dataframe for Bar graphical Analysis\n",
    "newyork_encoded_venues_grouped_sum = newyork_encoded_venues_droped_sum.groupby(['Borough', \n",
    "                                                                                'Neighborhood']).sum().reset_index()\n",
    "\n",
    "# Create encoded grouped venues dataframe for K-means Clustering\n",
    "newyork_encoded_venues_grouped_mean = newyork_encoded_venues_droped_mean.groupby(['Borough', \n",
    "                                                                                  'Neighborhood']).mean().reset_index()"
   ]
  },
  {
   "cell_type": "code",
   "execution_count": 111,
   "metadata": {},
   "outputs": [
    {
     "data": {
      "text/html": [
       "<div>\n",
       "<style scoped>\n",
       "    .dataframe tbody tr th:only-of-type {\n",
       "        vertical-align: middle;\n",
       "    }\n",
       "\n",
       "    .dataframe tbody tr th {\n",
       "        vertical-align: top;\n",
       "    }\n",
       "\n",
       "    .dataframe thead th {\n",
       "        text-align: right;\n",
       "    }\n",
       "</style>\n",
       "<table border=\"1\" class=\"dataframe\">\n",
       "  <thead>\n",
       "    <tr style=\"text-align: right;\">\n",
       "      <th></th>\n",
       "      <th>Borough</th>\n",
       "      <th>Neighborhood</th>\n",
       "      <th>Bars and Clubs</th>\n",
       "      <th>Restaurants</th>\n",
       "      <th>Services</th>\n",
       "      <th>Leisure and Sports</th>\n",
       "      <th>Education and Culture</th>\n",
       "      <th>Nature and Parks</th>\n",
       "      <th>Transportation</th>\n",
       "      <th>Residential</th>\n",
       "      <th>Total Venues</th>\n",
       "    </tr>\n",
       "  </thead>\n",
       "  <tbody>\n",
       "    <tr>\n",
       "      <th>0</th>\n",
       "      <td>Bronx</td>\n",
       "      <td>Allerton</td>\n",
       "      <td>7</td>\n",
       "      <td>10</td>\n",
       "      <td>10</td>\n",
       "      <td>2</td>\n",
       "      <td>0</td>\n",
       "      <td>0</td>\n",
       "      <td>2</td>\n",
       "      <td>1</td>\n",
       "      <td>32</td>\n",
       "    </tr>\n",
       "    <tr>\n",
       "      <th>1</th>\n",
       "      <td>Bronx</td>\n",
       "      <td>Baychester</td>\n",
       "      <td>2</td>\n",
       "      <td>7</td>\n",
       "      <td>9</td>\n",
       "      <td>2</td>\n",
       "      <td>0</td>\n",
       "      <td>0</td>\n",
       "      <td>0</td>\n",
       "      <td>0</td>\n",
       "      <td>20</td>\n",
       "    </tr>\n",
       "    <tr>\n",
       "      <th>2</th>\n",
       "      <td>Bronx</td>\n",
       "      <td>Bedford Park</td>\n",
       "      <td>9</td>\n",
       "      <td>17</td>\n",
       "      <td>9</td>\n",
       "      <td>0</td>\n",
       "      <td>0</td>\n",
       "      <td>1</td>\n",
       "      <td>3</td>\n",
       "      <td>0</td>\n",
       "      <td>39</td>\n",
       "    </tr>\n",
       "    <tr>\n",
       "      <th>3</th>\n",
       "      <td>Bronx</td>\n",
       "      <td>Belmont</td>\n",
       "      <td>25</td>\n",
       "      <td>44</td>\n",
       "      <td>27</td>\n",
       "      <td>0</td>\n",
       "      <td>1</td>\n",
       "      <td>2</td>\n",
       "      <td>1</td>\n",
       "      <td>0</td>\n",
       "      <td>100</td>\n",
       "    </tr>\n",
       "    <tr>\n",
       "      <th>4</th>\n",
       "      <td>Bronx</td>\n",
       "      <td>Bronxdale</td>\n",
       "      <td>3</td>\n",
       "      <td>7</td>\n",
       "      <td>3</td>\n",
       "      <td>1</td>\n",
       "      <td>2</td>\n",
       "      <td>0</td>\n",
       "      <td>0</td>\n",
       "      <td>0</td>\n",
       "      <td>16</td>\n",
       "    </tr>\n",
       "  </tbody>\n",
       "</table>\n",
       "</div>"
      ],
      "text/plain": [
       "  Borough  Neighborhood  Bars and Clubs  Restaurants  Services  \\\n",
       "0   Bronx      Allerton               7           10        10   \n",
       "1   Bronx    Baychester               2            7         9   \n",
       "2   Bronx  Bedford Park               9           17         9   \n",
       "3   Bronx       Belmont              25           44        27   \n",
       "4   Bronx     Bronxdale               3            7         3   \n",
       "\n",
       "   Leisure and Sports  Education and Culture  Nature and Parks  \\\n",
       "0                   2                      0                 0   \n",
       "1                   2                      0                 0   \n",
       "2                   0                      0                 1   \n",
       "3                   0                      1                 2   \n",
       "4                   1                      2                 0   \n",
       "\n",
       "   Transportation  Residential  Total Venues  \n",
       "0               2            1            32  \n",
       "1               0            0            20  \n",
       "2               3            0            39  \n",
       "3               1            0           100  \n",
       "4               0            0            16  "
      ]
     },
     "execution_count": 111,
     "metadata": {},
     "output_type": "execute_result"
    }
   ],
   "source": [
    "newyork_encoded_venues_grouped_sum.head()"
   ]
  },
  {
   "cell_type": "code",
   "execution_count": 112,
   "metadata": {},
   "outputs": [
    {
     "data": {
      "text/plain": [
       "(306, 11)"
      ]
     },
     "execution_count": 112,
     "metadata": {},
     "output_type": "execute_result"
    }
   ],
   "source": [
    "newyork_encoded_venues_grouped_sum.shape"
   ]
  },
  {
   "cell_type": "markdown",
   "metadata": {},
   "source": [
    "### General analysis for New york neighborhoods & venues"
   ]
  },
  {
   "cell_type": "code",
   "execution_count": 113,
   "metadata": {
    "scrolled": false
   },
   "outputs": [
    {
     "data": {
      "image/png": "[encoded data removed]",
      "text/plain": [
       "<matplotlib.figure.Figure at 0x174cc6e0c18>"
      ]
     },
     "metadata": {
      "needs_background": "light"
     },
     "output_type": "display_data"
    }
   ],
   "source": [
    "count, bin_edges = np.histogram(newyork_encoded_venues_grouped_sum['Total Venues'])\n",
    "bin_edges_rounded = np.round(bin_edges)\n",
    "\n",
    "newyork_encoded_venues_grouped_sum['Total Venues'].plot(kind='hist', \n",
    "             figsize=(12, 6), # pass a tuple (x, y) size\n",
    "             xticks=bin_edges_rounded\n",
    "             )\n",
    "\n",
    "plt.title('New York : the population range of Venues per every range of Neighborhood')\n",
    "plt.xlabel('Number of Venues')\n",
    "plt.ylabel('Range of Neighborhoods')\n",
    "\n",
    "plt.show()"
   ]
  },
  {
   "cell_type": "markdown",
   "metadata": {},
   "source": [
    "#### Distribution of neighborhoods' numbers of bars & clubs in New York"
   ]
  },
  {
   "cell_type": "code",
   "execution_count": 114,
   "metadata": {},
   "outputs": [],
   "source": [
    "newyork_bar_club_dist = newyork_encoded_venues_grouped_sum['Bars and Clubs'].value_counts(sort=False)"
   ]
  },
  {
   "cell_type": "code",
   "execution_count": 115,
   "metadata": {},
   "outputs": [
    {
     "data": {
      "text/html": [
       "<iframe id=\"igraph\" scrolling=\"no\" style=\"border:none;\" seamless=\"seamless\" src=\"https://plot.ly/~mourabitelbachir/10.embed\" height=\"525px\" width=\"100%\"></iframe>"
      ],
      "text/plain": [
       "<plotly.tools.PlotlyDisplay object>"
      ]
     },
     "execution_count": 115,
     "metadata": {},
     "output_type": "execute_result"
    }
   ],
   "source": [
    "newyork_bar_club_dist.iplot(kind='bar', color=\"#3F51AB\", filename='newyork_distribution_bar_club',\n",
    "                         xTitle='Number of Bars and Clubs', yTitle='Number of Neighborhoods',\n",
    "                         title='New York : the population range of Bars and Clubs per every range of Neighborhood')"
   ]
  },
  {
   "cell_type": "markdown",
   "metadata": {},
   "source": [
    "#### Distribution of neighborhoods' numbers of restaurants in New York"
   ]
  },
  {
   "cell_type": "code",
   "execution_count": 116,
   "metadata": {},
   "outputs": [],
   "source": [
    "newyork_restaurant_dist = newyork_encoded_venues_grouped_sum['Restaurants'].value_counts(sort=False)"
   ]
  },
  {
   "cell_type": "code",
   "execution_count": 117,
   "metadata": {},
   "outputs": [
    {
     "data": {
      "text/html": [
       "<iframe id=\"igraph\" scrolling=\"no\" style=\"border:none;\" seamless=\"seamless\" src=\"https://plot.ly/~mourabitelbachir/12.embed\" height=\"525px\" width=\"100%\"></iframe>"
      ],
      "text/plain": [
       "<plotly.tools.PlotlyDisplay object>"
      ]
     },
     "execution_count": 117,
     "metadata": {},
     "output_type": "execute_result"
    }
   ],
   "source": [
    "newyork_restaurant_dist.iplot(kind='bar', color=\"#3F51AB\", filename='newyork_distribution_restaurant',\n",
    "                         xTitle='Number of Restaurants', yTitle='Number of Neighborhoods',\n",
    "                         title='New York : the population range of Restaurants per every range of Neighborhood')"
   ]
  },
  {
   "cell_type": "markdown",
   "metadata": {},
   "source": [
    "#### Distribution of neighborhoods' numbers of services venues in New York"
   ]
  },
  {
   "cell_type": "code",
   "execution_count": 118,
   "metadata": {},
   "outputs": [],
   "source": [
    "newyork_service_dist = newyork_encoded_venues_grouped_sum['Services'].value_counts(sort=False)"
   ]
  },
  {
   "cell_type": "code",
   "execution_count": 119,
   "metadata": {},
   "outputs": [
    {
     "data": {
      "text/html": [
       "<iframe id=\"igraph\" scrolling=\"no\" style=\"border:none;\" seamless=\"seamless\" src=\"https://plot.ly/~mourabitelbachir/14.embed\" height=\"525px\" width=\"100%\"></iframe>"
      ],
      "text/plain": [
       "<plotly.tools.PlotlyDisplay object>"
      ]
     },
     "execution_count": 119,
     "metadata": {},
     "output_type": "execute_result"
    }
   ],
   "source": [
    "newyork_service_dist.iplot(kind='bar', color=\"#3F51AB\", filename='newyork_distribution_services',\n",
    "                         xTitle='Number of Services venues', yTitle='Number of Neighborhoods',\n",
    "                         title='New York : the population range of Services venues per every range of Neighborhood')"
   ]
  },
  {
   "cell_type": "markdown",
   "metadata": {},
   "source": [
    "#### Distribution of neighborhoods' numbers of leisure & sports venues in New York"
   ]
  },
  {
   "cell_type": "code",
   "execution_count": 120,
   "metadata": {},
   "outputs": [],
   "source": [
    "newyork_leisure_sport_dist = newyork_encoded_venues_grouped_sum['Leisure and Sports'].value_counts(sort=False)"
   ]
  },
  {
   "cell_type": "code",
   "execution_count": 121,
   "metadata": {},
   "outputs": [
    {
     "data": {
      "text/html": [
       "<iframe id=\"igraph\" scrolling=\"no\" style=\"border:none;\" seamless=\"seamless\" src=\"https://plot.ly/~mourabitelbachir/16.embed\" height=\"525px\" width=\"100%\"></iframe>"
      ],
      "text/plain": [
       "<plotly.tools.PlotlyDisplay object>"
      ]
     },
     "execution_count": 121,
     "metadata": {},
     "output_type": "execute_result"
    }
   ],
   "source": [
    "newyork_leisure_sport_dist.iplot(kind='bar', color=\"#3F51AB\", filename='newyork_distribution_leisure_sport',\n",
    "                         xTitle='Number of Leisure & Sports venues', yTitle='Number of Neighborhoods',\n",
    "                         title='New York : the population range of Venues for Leisure and Sports per every range of Neighborhood')"
   ]
  },
  {
   "cell_type": "markdown",
   "metadata": {},
   "source": [
    "#### Distribution of neighborhoods' numbers of Educational & Cultural venues in New York"
   ]
  },
  {
   "cell_type": "code",
   "execution_count": 122,
   "metadata": {},
   "outputs": [],
   "source": [
    "newyork_education_culture_dist = newyork_encoded_venues_grouped_sum['Education and Culture'].value_counts(sort=False)"
   ]
  },
  {
   "cell_type": "code",
   "execution_count": 123,
   "metadata": {},
   "outputs": [
    {
     "data": {
      "text/html": [
       "<iframe id=\"igraph\" scrolling=\"no\" style=\"border:none;\" seamless=\"seamless\" src=\"https://plot.ly/~mourabitelbachir/18.embed\" height=\"525px\" width=\"100%\"></iframe>"
      ],
      "text/plain": [
       "<plotly.tools.PlotlyDisplay object>"
      ]
     },
     "execution_count": 123,
     "metadata": {},
     "output_type": "execute_result"
    }
   ],
   "source": [
    "newyork_education_culture_dist.iplot(kind='bar', color=\"#3F51AB\", filename='newyork_distribution_education_culture',\n",
    "                         xTitle='Number of Educational & Cultural venues', yTitle='Number of Neighborhoods',\n",
    "                         title='New York : the population range of Educational and Cultural venues per every range of Neighborhood')"
   ]
  },
  {
   "cell_type": "markdown",
   "metadata": {},
   "source": [
    "#### Distribution of neighborhoods' numbers of nature & parks venues in New York"
   ]
  },
  {
   "cell_type": "code",
   "execution_count": 124,
   "metadata": {},
   "outputs": [],
   "source": [
    "newyork_nature_park_dist = newyork_encoded_venues_grouped_sum['Nature and Parks'].value_counts(sort=False)"
   ]
  },
  {
   "cell_type": "code",
   "execution_count": 125,
   "metadata": {},
   "outputs": [
    {
     "data": {
      "text/html": [
       "<iframe id=\"igraph\" scrolling=\"no\" style=\"border:none;\" seamless=\"seamless\" src=\"https://plot.ly/~mourabitelbachir/20.embed\" height=\"525px\" width=\"100%\"></iframe>"
      ],
      "text/plain": [
       "<plotly.tools.PlotlyDisplay object>"
      ]
     },
     "execution_count": 125,
     "metadata": {},
     "output_type": "execute_result"
    }
   ],
   "source": [
    "newyork_nature_park_dist.iplot(kind='bar', color=\"#3F51AB\", filename='newyork_distribution_nature_park',\n",
    "                         xTitle='Number of Natural venues', yTitle='Number of Neighborhoods',\n",
    "                         title='New York : the population range of Natural venues per every range of Neighborhood')"
   ]
  },
  {
   "cell_type": "markdown",
   "metadata": {},
   "source": [
    "#### Distribution of neighborhoods' numbers of transports & infrastructures venues in New York"
   ]
  },
  {
   "cell_type": "code",
   "execution_count": 126,
   "metadata": {},
   "outputs": [],
   "source": [
    "newyork_transportation_dist = newyork_encoded_venues_grouped_sum['Transportation'].value_counts(sort=False)"
   ]
  },
  {
   "cell_type": "code",
   "execution_count": 127,
   "metadata": {},
   "outputs": [
    {
     "data": {
      "text/html": [
       "<iframe id=\"igraph\" scrolling=\"no\" style=\"border:none;\" seamless=\"seamless\" src=\"https://plot.ly/~mourabitelbachir/22.embed\" height=\"525px\" width=\"100%\"></iframe>"
      ],
      "text/plain": [
       "<plotly.tools.PlotlyDisplay object>"
      ]
     },
     "execution_count": 127,
     "metadata": {},
     "output_type": "execute_result"
    }
   ],
   "source": [
    "newyork_transportation_dist.iplot(kind='bar', color=\"#3F51AB\", filename='newyork_distribution_transportation',\n",
    "                         xTitle='Number of Transports and infrastructures venues', yTitle='Number of Neighborhoods',\n",
    "                         title='New York : the population range of Transports and infrastructures venues per every range of Neighborhood')"
   ]
  },
  {
   "cell_type": "markdown",
   "metadata": {},
   "source": [
    "#### Distribution of neighborhoods' numbers of residentials in New York"
   ]
  },
  {
   "cell_type": "code",
   "execution_count": 128,
   "metadata": {},
   "outputs": [],
   "source": [
    "newyork_residential_dist = newyork_encoded_venues_grouped_sum['Residential'].value_counts(sort=False)"
   ]
  },
  {
   "cell_type": "code",
   "execution_count": 129,
   "metadata": {},
   "outputs": [
    {
     "data": {
      "text/html": [
       "<iframe id=\"igraph\" scrolling=\"no\" style=\"border:none;\" seamless=\"seamless\" src=\"https://plot.ly/~mourabitelbachir/24.embed\" height=\"525px\" width=\"100%\"></iframe>"
      ],
      "text/plain": [
       "<plotly.tools.PlotlyDisplay object>"
      ]
     },
     "execution_count": 129,
     "metadata": {},
     "output_type": "execute_result"
    }
   ],
   "source": [
    "newyork_residential_dist.iplot(kind='bar', color=\"#3F51AB\", filename='newyork_distribution_residential',\n",
    "                         xTitle='Number of Residentials', yTitle='Number of Neighborhoods',\n",
    "                         title='New York : the population range of Residentials per every range of Neighborhood')"
   ]
  },
  {
   "cell_type": "markdown",
   "metadata": {},
   "source": [
    "### New york neighborhoods Clustering "
   ]
  },
  {
   "cell_type": "code",
   "execution_count": 130,
   "metadata": {},
   "outputs": [
    {
     "data": {
      "text/html": [
       "<div>\n",
       "<style scoped>\n",
       "    .dataframe tbody tr th:only-of-type {\n",
       "        vertical-align: middle;\n",
       "    }\n",
       "\n",
       "    .dataframe tbody tr th {\n",
       "        vertical-align: top;\n",
       "    }\n",
       "\n",
       "    .dataframe thead th {\n",
       "        text-align: right;\n",
       "    }\n",
       "</style>\n",
       "<table border=\"1\" class=\"dataframe\">\n",
       "  <thead>\n",
       "    <tr style=\"text-align: right;\">\n",
       "      <th></th>\n",
       "      <th>Borough</th>\n",
       "      <th>Neighborhood</th>\n",
       "      <th>Bars and Clubs</th>\n",
       "      <th>Restaurants</th>\n",
       "      <th>Services</th>\n",
       "      <th>Leisure and Sports</th>\n",
       "      <th>Education and Culture</th>\n",
       "      <th>Nature and Parks</th>\n",
       "      <th>Transportation</th>\n",
       "      <th>Residential</th>\n",
       "    </tr>\n",
       "  </thead>\n",
       "  <tbody>\n",
       "    <tr>\n",
       "      <th>0</th>\n",
       "      <td>Bronx</td>\n",
       "      <td>Allerton</td>\n",
       "      <td>0.218750</td>\n",
       "      <td>0.312500</td>\n",
       "      <td>0.312500</td>\n",
       "      <td>0.0625</td>\n",
       "      <td>0.000</td>\n",
       "      <td>0.000000</td>\n",
       "      <td>0.062500</td>\n",
       "      <td>0.03125</td>\n",
       "    </tr>\n",
       "    <tr>\n",
       "      <th>1</th>\n",
       "      <td>Bronx</td>\n",
       "      <td>Baychester</td>\n",
       "      <td>0.100000</td>\n",
       "      <td>0.350000</td>\n",
       "      <td>0.450000</td>\n",
       "      <td>0.1000</td>\n",
       "      <td>0.000</td>\n",
       "      <td>0.000000</td>\n",
       "      <td>0.000000</td>\n",
       "      <td>0.00000</td>\n",
       "    </tr>\n",
       "    <tr>\n",
       "      <th>2</th>\n",
       "      <td>Bronx</td>\n",
       "      <td>Bedford Park</td>\n",
       "      <td>0.230769</td>\n",
       "      <td>0.435897</td>\n",
       "      <td>0.230769</td>\n",
       "      <td>0.0000</td>\n",
       "      <td>0.000</td>\n",
       "      <td>0.025641</td>\n",
       "      <td>0.076923</td>\n",
       "      <td>0.00000</td>\n",
       "    </tr>\n",
       "    <tr>\n",
       "      <th>3</th>\n",
       "      <td>Bronx</td>\n",
       "      <td>Belmont</td>\n",
       "      <td>0.250000</td>\n",
       "      <td>0.440000</td>\n",
       "      <td>0.270000</td>\n",
       "      <td>0.0000</td>\n",
       "      <td>0.010</td>\n",
       "      <td>0.020000</td>\n",
       "      <td>0.010000</td>\n",
       "      <td>0.00000</td>\n",
       "    </tr>\n",
       "    <tr>\n",
       "      <th>4</th>\n",
       "      <td>Bronx</td>\n",
       "      <td>Bronxdale</td>\n",
       "      <td>0.187500</td>\n",
       "      <td>0.437500</td>\n",
       "      <td>0.187500</td>\n",
       "      <td>0.0625</td>\n",
       "      <td>0.125</td>\n",
       "      <td>0.000000</td>\n",
       "      <td>0.000000</td>\n",
       "      <td>0.00000</td>\n",
       "    </tr>\n",
       "  </tbody>\n",
       "</table>\n",
       "</div>"
      ],
      "text/plain": [
       "  Borough  Neighborhood  Bars and Clubs  Restaurants  Services  \\\n",
       "0   Bronx      Allerton        0.218750     0.312500  0.312500   \n",
       "1   Bronx    Baychester        0.100000     0.350000  0.450000   \n",
       "2   Bronx  Bedford Park        0.230769     0.435897  0.230769   \n",
       "3   Bronx       Belmont        0.250000     0.440000  0.270000   \n",
       "4   Bronx     Bronxdale        0.187500     0.437500  0.187500   \n",
       "\n",
       "   Leisure and Sports  Education and Culture  Nature and Parks  \\\n",
       "0              0.0625                  0.000          0.000000   \n",
       "1              0.1000                  0.000          0.000000   \n",
       "2              0.0000                  0.000          0.025641   \n",
       "3              0.0000                  0.010          0.020000   \n",
       "4              0.0625                  0.125          0.000000   \n",
       "\n",
       "   Transportation  Residential  \n",
       "0        0.062500      0.03125  \n",
       "1        0.000000      0.00000  \n",
       "2        0.076923      0.00000  \n",
       "3        0.010000      0.00000  \n",
       "4        0.000000      0.00000  "
      ]
     },
     "execution_count": 130,
     "metadata": {},
     "output_type": "execute_result"
    }
   ],
   "source": [
    "newyork_encoded_venues_grouped_mean.head()"
   ]
  },
  {
   "cell_type": "code",
   "execution_count": 132,
   "metadata": {},
   "outputs": [
    {
     "data": {
      "text/plain": [
       "(306, 10)"
      ]
     },
     "execution_count": 132,
     "metadata": {},
     "output_type": "execute_result"
    }
   ],
   "source": [
    "newyork_encoded_venues_grouped_mean.shape"
   ]
  },
  {
   "cell_type": "code",
   "execution_count": 133,
   "metadata": {},
   "outputs": [],
   "source": [
    "newyork_encoded_venues_clustering = newyork_encoded_venues_grouped_mean.drop(['Borough', 'Neighborhood'], axis=1)"
   ]
  },
  {
   "cell_type": "code",
   "execution_count": 134,
   "metadata": {},
   "outputs": [
    {
     "data": {
      "text/plain": [
       "(306, 8)"
      ]
     },
     "execution_count": 134,
     "metadata": {},
     "output_type": "execute_result"
    }
   ],
   "source": [
    "newyork_encoded_venues_clustering.shape"
   ]
  },
  {
   "cell_type": "code",
   "execution_count": 135,
   "metadata": {},
   "outputs": [
    {
     "data": {
      "text/html": [
       "<div>\n",
       "<style scoped>\n",
       "    .dataframe tbody tr th:only-of-type {\n",
       "        vertical-align: middle;\n",
       "    }\n",
       "\n",
       "    .dataframe tbody tr th {\n",
       "        vertical-align: top;\n",
       "    }\n",
       "\n",
       "    .dataframe thead th {\n",
       "        text-align: right;\n",
       "    }\n",
       "</style>\n",
       "<table border=\"1\" class=\"dataframe\">\n",
       "  <thead>\n",
       "    <tr style=\"text-align: right;\">\n",
       "      <th></th>\n",
       "      <th>Bars and Clubs</th>\n",
       "      <th>Restaurants</th>\n",
       "      <th>Services</th>\n",
       "      <th>Leisure and Sports</th>\n",
       "      <th>Education and Culture</th>\n",
       "      <th>Nature and Parks</th>\n",
       "      <th>Transportation</th>\n",
       "      <th>Residential</th>\n",
       "    </tr>\n",
       "  </thead>\n",
       "  <tbody>\n",
       "    <tr>\n",
       "      <th>0</th>\n",
       "      <td>0.218750</td>\n",
       "      <td>0.312500</td>\n",
       "      <td>0.312500</td>\n",
       "      <td>0.0625</td>\n",
       "      <td>0.000</td>\n",
       "      <td>0.000000</td>\n",
       "      <td>0.062500</td>\n",
       "      <td>0.03125</td>\n",
       "    </tr>\n",
       "    <tr>\n",
       "      <th>1</th>\n",
       "      <td>0.100000</td>\n",
       "      <td>0.350000</td>\n",
       "      <td>0.450000</td>\n",
       "      <td>0.1000</td>\n",
       "      <td>0.000</td>\n",
       "      <td>0.000000</td>\n",
       "      <td>0.000000</td>\n",
       "      <td>0.00000</td>\n",
       "    </tr>\n",
       "    <tr>\n",
       "      <th>2</th>\n",
       "      <td>0.230769</td>\n",
       "      <td>0.435897</td>\n",
       "      <td>0.230769</td>\n",
       "      <td>0.0000</td>\n",
       "      <td>0.000</td>\n",
       "      <td>0.025641</td>\n",
       "      <td>0.076923</td>\n",
       "      <td>0.00000</td>\n",
       "    </tr>\n",
       "    <tr>\n",
       "      <th>3</th>\n",
       "      <td>0.250000</td>\n",
       "      <td>0.440000</td>\n",
       "      <td>0.270000</td>\n",
       "      <td>0.0000</td>\n",
       "      <td>0.010</td>\n",
       "      <td>0.020000</td>\n",
       "      <td>0.010000</td>\n",
       "      <td>0.00000</td>\n",
       "    </tr>\n",
       "    <tr>\n",
       "      <th>4</th>\n",
       "      <td>0.187500</td>\n",
       "      <td>0.437500</td>\n",
       "      <td>0.187500</td>\n",
       "      <td>0.0625</td>\n",
       "      <td>0.125</td>\n",
       "      <td>0.000000</td>\n",
       "      <td>0.000000</td>\n",
       "      <td>0.00000</td>\n",
       "    </tr>\n",
       "  </tbody>\n",
       "</table>\n",
       "</div>"
      ],
      "text/plain": [
       "   Bars and Clubs  Restaurants  Services  Leisure and Sports  \\\n",
       "0        0.218750     0.312500  0.312500              0.0625   \n",
       "1        0.100000     0.350000  0.450000              0.1000   \n",
       "2        0.230769     0.435897  0.230769              0.0000   \n",
       "3        0.250000     0.440000  0.270000              0.0000   \n",
       "4        0.187500     0.437500  0.187500              0.0625   \n",
       "\n",
       "   Education and Culture  Nature and Parks  Transportation  Residential  \n",
       "0                  0.000          0.000000        0.062500      0.03125  \n",
       "1                  0.000          0.000000        0.000000      0.00000  \n",
       "2                  0.000          0.025641        0.076923      0.00000  \n",
       "3                  0.010          0.020000        0.010000      0.00000  \n",
       "4                  0.125          0.000000        0.000000      0.00000  "
      ]
     },
     "execution_count": 135,
     "metadata": {},
     "output_type": "execute_result"
    }
   ],
   "source": [
    "newyork_encoded_venues_clustering.head()"
   ]
  },
  {
   "cell_type": "code",
   "execution_count": 136,
   "metadata": {},
   "outputs": [
    {
     "data": {
      "text/plain": [
       "array([0, 0, 3, 3, 3, 0, 3, 0, 1, 0, 0, 0, 2, 0, 3, 0, 2, 4, 0, 0, 3, 0,\n",
       "       3, 2, 0, 0, 3, 0, 3, 0, 2, 3, 0, 3, 0, 0, 0, 3, 0, 1, 3, 0, 1, 2,\n",
       "       3, 3, 2, 2, 4, 0, 2, 2, 3, 3, 2, 3, 4, 0, 0, 3, 2, 3, 3, 3, 3, 3,\n",
       "       0, 3, 3, 3, 0, 3, 0, 0, 0, 2, 0, 3, 2, 0, 2, 0, 3, 3, 3, 0, 2, 0,\n",
       "       3, 2, 0, 0, 0, 2, 2, 3, 4, 3, 3, 1, 3, 3, 2, 3, 3, 3, 3, 0, 0, 0,\n",
       "       2, 3, 0, 3, 3, 0, 0, 0, 2, 2, 2, 0, 0, 3, 3, 0, 3, 0, 3, 3, 3, 3,\n",
       "       3, 2, 3, 3, 2, 3, 3, 0, 0, 2, 3, 3, 0, 0, 3, 2, 3, 3, 4, 0, 4, 3,\n",
       "       3, 3, 3, 3, 3, 0, 3, 3, 4, 3, 0, 0, 0, 3, 1, 2, 0, 2, 3, 0, 1, 2,\n",
       "       2, 2, 0, 2, 3, 3, 2, 3, 3, 3, 3, 3, 0, 3, 0, 0, 0, 1, 0, 0, 0, 0,\n",
       "       3, 3, 0, 4, 3, 0, 3, 3, 0, 0, 3, 2, 1, 0, 3, 3, 1, 3, 3, 0, 0, 0,\n",
       "       3, 0, 3, 0, 3, 3, 0, 3, 3, 0, 2, 1, 4, 2, 0, 3, 0, 3, 3, 0, 2, 2,\n",
       "       3, 3, 0, 4, 3, 0, 4, 3, 4, 3, 0, 4, 3, 4, 0, 0, 2, 3, 1, 4, 4, 3,\n",
       "       0, 3, 2, 4, 0, 4, 2, 2, 3, 2, 0, 4, 3, 3, 0, 4, 0, 4, 0, 2, 0, 3,\n",
       "       4, 2, 2, 3, 0, 0, 2, 3, 4, 3, 3, 0, 1, 3, 0, 2, 2, 0, 4, 0])"
      ]
     },
     "execution_count": 136,
     "metadata": {},
     "output_type": "execute_result"
    }
   ],
   "source": [
    "# set number of clusters\n",
    "kclusters = 5\n",
    "\n",
    "# run k-means clustering\n",
    "kmeans = KMeans(n_clusters=kclusters, random_state=0).fit(newyork_encoded_venues_clustering)\n",
    "\n",
    "# check cluster labels generated for each row in the dataframe\n",
    "kmeans.labels_[0:] "
   ]
  },
  {
   "cell_type": "code",
   "execution_count": 137,
   "metadata": {},
   "outputs": [
    {
     "data": {
      "text/html": [
       "<div>\n",
       "<style scoped>\n",
       "    .dataframe tbody tr th:only-of-type {\n",
       "        vertical-align: middle;\n",
       "    }\n",
       "\n",
       "    .dataframe tbody tr th {\n",
       "        vertical-align: top;\n",
       "    }\n",
       "\n",
       "    .dataframe thead th {\n",
       "        text-align: right;\n",
       "    }\n",
       "</style>\n",
       "<table border=\"1\" class=\"dataframe\">\n",
       "  <thead>\n",
       "    <tr style=\"text-align: right;\">\n",
       "      <th></th>\n",
       "      <th>Borough</th>\n",
       "      <th>Neighborhood</th>\n",
       "      <th>Bars and Clubs</th>\n",
       "      <th>Restaurants</th>\n",
       "      <th>Services</th>\n",
       "      <th>Leisure and Sports</th>\n",
       "      <th>Education and Culture</th>\n",
       "      <th>Nature and Parks</th>\n",
       "      <th>Transportation</th>\n",
       "      <th>Residential</th>\n",
       "      <th>Cluster Labels</th>\n",
       "      <th>Latitude</th>\n",
       "      <th>Longitude</th>\n",
       "    </tr>\n",
       "  </thead>\n",
       "  <tbody>\n",
       "    <tr>\n",
       "      <th>0</th>\n",
       "      <td>Bronx</td>\n",
       "      <td>Allerton</td>\n",
       "      <td>0.218750</td>\n",
       "      <td>0.312500</td>\n",
       "      <td>0.312500</td>\n",
       "      <td>0.0625</td>\n",
       "      <td>0.000</td>\n",
       "      <td>0.000000</td>\n",
       "      <td>0.062500</td>\n",
       "      <td>0.03125</td>\n",
       "      <td>0</td>\n",
       "      <td>40.865788</td>\n",
       "      <td>-73.859319</td>\n",
       "    </tr>\n",
       "    <tr>\n",
       "      <th>1</th>\n",
       "      <td>Bronx</td>\n",
       "      <td>Baychester</td>\n",
       "      <td>0.100000</td>\n",
       "      <td>0.350000</td>\n",
       "      <td>0.450000</td>\n",
       "      <td>0.1000</td>\n",
       "      <td>0.000</td>\n",
       "      <td>0.000000</td>\n",
       "      <td>0.000000</td>\n",
       "      <td>0.00000</td>\n",
       "      <td>0</td>\n",
       "      <td>40.866858</td>\n",
       "      <td>-73.835798</td>\n",
       "    </tr>\n",
       "    <tr>\n",
       "      <th>2</th>\n",
       "      <td>Bronx</td>\n",
       "      <td>Bedford Park</td>\n",
       "      <td>0.230769</td>\n",
       "      <td>0.435897</td>\n",
       "      <td>0.230769</td>\n",
       "      <td>0.0000</td>\n",
       "      <td>0.000</td>\n",
       "      <td>0.025641</td>\n",
       "      <td>0.076923</td>\n",
       "      <td>0.00000</td>\n",
       "      <td>3</td>\n",
       "      <td>40.870185</td>\n",
       "      <td>-73.885512</td>\n",
       "    </tr>\n",
       "    <tr>\n",
       "      <th>3</th>\n",
       "      <td>Bronx</td>\n",
       "      <td>Belmont</td>\n",
       "      <td>0.250000</td>\n",
       "      <td>0.440000</td>\n",
       "      <td>0.270000</td>\n",
       "      <td>0.0000</td>\n",
       "      <td>0.010</td>\n",
       "      <td>0.020000</td>\n",
       "      <td>0.010000</td>\n",
       "      <td>0.00000</td>\n",
       "      <td>3</td>\n",
       "      <td>40.857277</td>\n",
       "      <td>-73.888452</td>\n",
       "    </tr>\n",
       "    <tr>\n",
       "      <th>4</th>\n",
       "      <td>Bronx</td>\n",
       "      <td>Bronxdale</td>\n",
       "      <td>0.187500</td>\n",
       "      <td>0.437500</td>\n",
       "      <td>0.187500</td>\n",
       "      <td>0.0625</td>\n",
       "      <td>0.125</td>\n",
       "      <td>0.000000</td>\n",
       "      <td>0.000000</td>\n",
       "      <td>0.00000</td>\n",
       "      <td>3</td>\n",
       "      <td>40.852723</td>\n",
       "      <td>-73.861726</td>\n",
       "    </tr>\n",
       "  </tbody>\n",
       "</table>\n",
       "</div>"
      ],
      "text/plain": [
       "  Borough  Neighborhood  Bars and Clubs  Restaurants  Services  \\\n",
       "0   Bronx      Allerton        0.218750     0.312500  0.312500   \n",
       "1   Bronx    Baychester        0.100000     0.350000  0.450000   \n",
       "2   Bronx  Bedford Park        0.230769     0.435897  0.230769   \n",
       "3   Bronx       Belmont        0.250000     0.440000  0.270000   \n",
       "4   Bronx     Bronxdale        0.187500     0.437500  0.187500   \n",
       "\n",
       "   Leisure and Sports  Education and Culture  Nature and Parks  \\\n",
       "0              0.0625                  0.000          0.000000   \n",
       "1              0.1000                  0.000          0.000000   \n",
       "2              0.0000                  0.000          0.025641   \n",
       "3              0.0000                  0.010          0.020000   \n",
       "4              0.0625                  0.125          0.000000   \n",
       "\n",
       "   Transportation  Residential  Cluster Labels   Latitude  Longitude  \n",
       "0        0.062500      0.03125               0  40.865788 -73.859319  \n",
       "1        0.000000      0.00000               0  40.866858 -73.835798  \n",
       "2        0.076923      0.00000               3  40.870185 -73.885512  \n",
       "3        0.010000      0.00000               3  40.857277 -73.888452  \n",
       "4        0.000000      0.00000               3  40.852723 -73.861726  "
      ]
     },
     "execution_count": 137,
     "metadata": {},
     "output_type": "execute_result"
    }
   ],
   "source": [
    "# add clustering labels\n",
    "newyork_encoded_venues_merged = newyork_encoded_venues_grouped_mean\n",
    "newyork_encoded_venues_merged['Cluster Labels'] = kmeans.labels_\n",
    "\n",
    "columns_merged = [\"Borough\", \"Neighborhood\", \"Latitude\", \"Longitude\", \"Cluster Labels\", \n",
    " \"Bars and Clubs\", \"Restaurants\", \"Services\", \"Leisure and Sports\", \"Education and Culture\", \n",
    " \"Nature and Parks\", \"Transportation\", \"Residential\"]\n",
    "\n",
    "# Merge\n",
    "newyork_encoded_venues_merged = newyork_encoded_venues_merged.join(newyork_neighborhoods.set_index(\n",
    "                                                          [\"Borough\", \"Neighborhood\"]), \n",
    "                                                       on=[\"Borough\", \"Neighborhood\"])\n",
    "\n",
    "newyork_encoded_venues_merged.sort_values(['Borough', 'Neighborhood']).reset_index(drop=True).head()"
   ]
  },
  {
   "cell_type": "code",
   "execution_count": 138,
   "metadata": {},
   "outputs": [
    {
     "data": {
      "text/plain": [
       "(306, 13)"
      ]
     },
     "execution_count": 138,
     "metadata": {},
     "output_type": "execute_result"
    }
   ],
   "source": [
    "newyork_encoded_venues_merged.shape"
   ]
  },
  {
   "cell_type": "markdown",
   "metadata": {},
   "source": [
    "### Examine Clusters for New York City"
   ]
  },
  {
   "cell_type": "markdown",
   "metadata": {},
   "source": [
    "#### Cluster 1"
   ]
  },
  {
   "cell_type": "code",
   "execution_count": 139,
   "metadata": {},
   "outputs": [
    {
     "data": {
      "text/html": [
       "<div>\n",
       "<style scoped>\n",
       "    .dataframe tbody tr th:only-of-type {\n",
       "        vertical-align: middle;\n",
       "    }\n",
       "\n",
       "    .dataframe tbody tr th {\n",
       "        vertical-align: top;\n",
       "    }\n",
       "\n",
       "    .dataframe thead th {\n",
       "        text-align: right;\n",
       "    }\n",
       "</style>\n",
       "<table border=\"1\" class=\"dataframe\">\n",
       "  <thead>\n",
       "    <tr style=\"text-align: right;\">\n",
       "      <th></th>\n",
       "      <th>Borough</th>\n",
       "      <th>Neighborhood</th>\n",
       "      <th>Bars and Clubs</th>\n",
       "      <th>Restaurants</th>\n",
       "      <th>Services</th>\n",
       "      <th>Leisure and Sports</th>\n",
       "      <th>Education and Culture</th>\n",
       "      <th>Nature and Parks</th>\n",
       "      <th>Transportation</th>\n",
       "      <th>Residential</th>\n",
       "      <th>Cluster Labels</th>\n",
       "      <th>Latitude</th>\n",
       "      <th>Longitude</th>\n",
       "    </tr>\n",
       "  </thead>\n",
       "  <tbody>\n",
       "    <tr>\n",
       "      <th>0</th>\n",
       "      <td>Bronx</td>\n",
       "      <td>Allerton</td>\n",
       "      <td>0.218750</td>\n",
       "      <td>0.312500</td>\n",
       "      <td>0.312500</td>\n",
       "      <td>0.062500</td>\n",
       "      <td>0.0</td>\n",
       "      <td>0.000000</td>\n",
       "      <td>0.062500</td>\n",
       "      <td>0.03125</td>\n",
       "      <td>0</td>\n",
       "      <td>40.865788</td>\n",
       "      <td>-73.859319</td>\n",
       "    </tr>\n",
       "    <tr>\n",
       "      <th>1</th>\n",
       "      <td>Bronx</td>\n",
       "      <td>Baychester</td>\n",
       "      <td>0.100000</td>\n",
       "      <td>0.350000</td>\n",
       "      <td>0.450000</td>\n",
       "      <td>0.100000</td>\n",
       "      <td>0.0</td>\n",
       "      <td>0.000000</td>\n",
       "      <td>0.000000</td>\n",
       "      <td>0.00000</td>\n",
       "      <td>0</td>\n",
       "      <td>40.866858</td>\n",
       "      <td>-73.835798</td>\n",
       "    </tr>\n",
       "    <tr>\n",
       "      <th>5</th>\n",
       "      <td>Bronx</td>\n",
       "      <td>Castle Hill</td>\n",
       "      <td>0.142857</td>\n",
       "      <td>0.285714</td>\n",
       "      <td>0.428571</td>\n",
       "      <td>0.000000</td>\n",
       "      <td>0.0</td>\n",
       "      <td>0.142857</td>\n",
       "      <td>0.000000</td>\n",
       "      <td>0.00000</td>\n",
       "      <td>0</td>\n",
       "      <td>40.819014</td>\n",
       "      <td>-73.848027</td>\n",
       "    </tr>\n",
       "    <tr>\n",
       "      <th>7</th>\n",
       "      <td>Bronx</td>\n",
       "      <td>Claremont Village</td>\n",
       "      <td>0.058824</td>\n",
       "      <td>0.352941</td>\n",
       "      <td>0.411765</td>\n",
       "      <td>0.058824</td>\n",
       "      <td>0.0</td>\n",
       "      <td>0.000000</td>\n",
       "      <td>0.117647</td>\n",
       "      <td>0.00000</td>\n",
       "      <td>0</td>\n",
       "      <td>40.831428</td>\n",
       "      <td>-73.901199</td>\n",
       "    </tr>\n",
       "    <tr>\n",
       "      <th>9</th>\n",
       "      <td>Bronx</td>\n",
       "      <td>Co-op City</td>\n",
       "      <td>0.058824</td>\n",
       "      <td>0.235294</td>\n",
       "      <td>0.529412</td>\n",
       "      <td>0.058824</td>\n",
       "      <td>0.0</td>\n",
       "      <td>0.000000</td>\n",
       "      <td>0.117647</td>\n",
       "      <td>0.00000</td>\n",
       "      <td>0</td>\n",
       "      <td>40.874294</td>\n",
       "      <td>-73.829939</td>\n",
       "    </tr>\n",
       "  </tbody>\n",
       "</table>\n",
       "</div>"
      ],
      "text/plain": [
       "  Borough       Neighborhood  Bars and Clubs  Restaurants  Services  \\\n",
       "0   Bronx           Allerton        0.218750     0.312500  0.312500   \n",
       "1   Bronx         Baychester        0.100000     0.350000  0.450000   \n",
       "5   Bronx        Castle Hill        0.142857     0.285714  0.428571   \n",
       "7   Bronx  Claremont Village        0.058824     0.352941  0.411765   \n",
       "9   Bronx         Co-op City        0.058824     0.235294  0.529412   \n",
       "\n",
       "   Leisure and Sports  Education and Culture  Nature and Parks  \\\n",
       "0            0.062500                    0.0          0.000000   \n",
       "1            0.100000                    0.0          0.000000   \n",
       "5            0.000000                    0.0          0.142857   \n",
       "7            0.058824                    0.0          0.000000   \n",
       "9            0.058824                    0.0          0.000000   \n",
       "\n",
       "   Transportation  Residential  Cluster Labels   Latitude  Longitude  \n",
       "0        0.062500      0.03125               0  40.865788 -73.859319  \n",
       "1        0.000000      0.00000               0  40.866858 -73.835798  \n",
       "5        0.000000      0.00000               0  40.819014 -73.848027  \n",
       "7        0.117647      0.00000               0  40.831428 -73.901199  \n",
       "9        0.117647      0.00000               0  40.874294 -73.829939  "
      ]
     },
     "execution_count": 139,
     "metadata": {},
     "output_type": "execute_result"
    }
   ],
   "source": [
    "newyork_cluster_1 = newyork_encoded_venues_merged[newyork_encoded_venues_merged['Cluster Labels']==0]\n",
    "newyork_cluster_1.head()"
   ]
  },
  {
   "cell_type": "code",
   "execution_count": 140,
   "metadata": {},
   "outputs": [
    {
     "name": "stdout",
     "output_type": "stream",
     "text": [
      "New York Cluster 1 has : 102 Neighborhoods\n"
     ]
    }
   ],
   "source": [
    "print(\"New York Cluster 1 has : {} Neighborhoods\".format(newyork_cluster_1.shape[0]))"
   ]
  },
  {
   "cell_type": "markdown",
   "metadata": {},
   "source": [
    "#### Cluster 2"
   ]
  },
  {
   "cell_type": "code",
   "execution_count": 141,
   "metadata": {
    "scrolled": false
   },
   "outputs": [
    {
     "data": {
      "text/html": [
       "<div>\n",
       "<style scoped>\n",
       "    .dataframe tbody tr th:only-of-type {\n",
       "        vertical-align: middle;\n",
       "    }\n",
       "\n",
       "    .dataframe tbody tr th {\n",
       "        vertical-align: top;\n",
       "    }\n",
       "\n",
       "    .dataframe thead th {\n",
       "        text-align: right;\n",
       "    }\n",
       "</style>\n",
       "<table border=\"1\" class=\"dataframe\">\n",
       "  <thead>\n",
       "    <tr style=\"text-align: right;\">\n",
       "      <th></th>\n",
       "      <th>Borough</th>\n",
       "      <th>Neighborhood</th>\n",
       "      <th>Bars and Clubs</th>\n",
       "      <th>Restaurants</th>\n",
       "      <th>Services</th>\n",
       "      <th>Leisure and Sports</th>\n",
       "      <th>Education and Culture</th>\n",
       "      <th>Nature and Parks</th>\n",
       "      <th>Transportation</th>\n",
       "      <th>Residential</th>\n",
       "      <th>Cluster Labels</th>\n",
       "      <th>Latitude</th>\n",
       "      <th>Longitude</th>\n",
       "    </tr>\n",
       "  </thead>\n",
       "  <tbody>\n",
       "    <tr>\n",
       "      <th>8</th>\n",
       "      <td>Bronx</td>\n",
       "      <td>Clason Point</td>\n",
       "      <td>0.0</td>\n",
       "      <td>0.100000</td>\n",
       "      <td>0.100000</td>\n",
       "      <td>0.100000</td>\n",
       "      <td>0.0</td>\n",
       "      <td>0.500000</td>\n",
       "      <td>0.2</td>\n",
       "      <td>0.000000</td>\n",
       "      <td>1</td>\n",
       "      <td>40.806551</td>\n",
       "      <td>-73.854144</td>\n",
       "    </tr>\n",
       "    <tr>\n",
       "      <th>39</th>\n",
       "      <td>Bronx</td>\n",
       "      <td>Riverdale</td>\n",
       "      <td>0.1</td>\n",
       "      <td>0.000000</td>\n",
       "      <td>0.200000</td>\n",
       "      <td>0.100000</td>\n",
       "      <td>0.0</td>\n",
       "      <td>0.300000</td>\n",
       "      <td>0.2</td>\n",
       "      <td>0.100000</td>\n",
       "      <td>1</td>\n",
       "      <td>40.890834</td>\n",
       "      <td>-73.912585</td>\n",
       "    </tr>\n",
       "    <tr>\n",
       "      <th>42</th>\n",
       "      <td>Bronx</td>\n",
       "      <td>Spuyten Duyvil</td>\n",
       "      <td>0.0</td>\n",
       "      <td>0.222222</td>\n",
       "      <td>0.333333</td>\n",
       "      <td>0.111111</td>\n",
       "      <td>0.0</td>\n",
       "      <td>0.333333</td>\n",
       "      <td>0.0</td>\n",
       "      <td>0.000000</td>\n",
       "      <td>1</td>\n",
       "      <td>40.881395</td>\n",
       "      <td>-73.917190</td>\n",
       "    </tr>\n",
       "    <tr>\n",
       "      <th>99</th>\n",
       "      <td>Brooklyn</td>\n",
       "      <td>Mill Island</td>\n",
       "      <td>0.0</td>\n",
       "      <td>0.333333</td>\n",
       "      <td>0.000000</td>\n",
       "      <td>0.333333</td>\n",
       "      <td>0.0</td>\n",
       "      <td>0.333333</td>\n",
       "      <td>0.0</td>\n",
       "      <td>0.000000</td>\n",
       "      <td>1</td>\n",
       "      <td>40.606336</td>\n",
       "      <td>-73.908186</td>\n",
       "    </tr>\n",
       "    <tr>\n",
       "      <th>168</th>\n",
       "      <td>Queens</td>\n",
       "      <td>Bayswater</td>\n",
       "      <td>0.0</td>\n",
       "      <td>0.000000</td>\n",
       "      <td>0.000000</td>\n",
       "      <td>0.333333</td>\n",
       "      <td>0.0</td>\n",
       "      <td>0.333333</td>\n",
       "      <td>0.0</td>\n",
       "      <td>0.333333</td>\n",
       "      <td>1</td>\n",
       "      <td>40.611322</td>\n",
       "      <td>-73.765968</td>\n",
       "    </tr>\n",
       "  </tbody>\n",
       "</table>\n",
       "</div>"
      ],
      "text/plain": [
       "      Borough    Neighborhood  Bars and Clubs  Restaurants  Services  \\\n",
       "8       Bronx    Clason Point             0.0     0.100000  0.100000   \n",
       "39      Bronx       Riverdale             0.1     0.000000  0.200000   \n",
       "42      Bronx  Spuyten Duyvil             0.0     0.222222  0.333333   \n",
       "99   Brooklyn     Mill Island             0.0     0.333333  0.000000   \n",
       "168    Queens       Bayswater             0.0     0.000000  0.000000   \n",
       "\n",
       "     Leisure and Sports  Education and Culture  Nature and Parks  \\\n",
       "8              0.100000                    0.0          0.500000   \n",
       "39             0.100000                    0.0          0.300000   \n",
       "42             0.111111                    0.0          0.333333   \n",
       "99             0.333333                    0.0          0.333333   \n",
       "168            0.333333                    0.0          0.333333   \n",
       "\n",
       "     Transportation  Residential  Cluster Labels   Latitude  Longitude  \n",
       "8               0.2     0.000000               1  40.806551 -73.854144  \n",
       "39              0.2     0.100000               1  40.890834 -73.912585  \n",
       "42              0.0     0.000000               1  40.881395 -73.917190  \n",
       "99              0.0     0.000000               1  40.606336 -73.908186  \n",
       "168             0.0     0.333333               1  40.611322 -73.765968  "
      ]
     },
     "execution_count": 141,
     "metadata": {},
     "output_type": "execute_result"
    }
   ],
   "source": [
    "newyork_cluster_2 = newyork_encoded_venues_merged[newyork_encoded_venues_merged['Cluster Labels']==1]\n",
    "newyork_cluster_2.head()"
   ]
  },
  {
   "cell_type": "code",
   "execution_count": 142,
   "metadata": {},
   "outputs": [
    {
     "name": "stdout",
     "output_type": "stream",
     "text": [
      "New York Cluster 2 has : 12 Neighborhoods\n"
     ]
    }
   ],
   "source": [
    "print(\"New York Cluster 2 has : {} Neighborhoods\".format(newyork_cluster_2.shape[0]))"
   ]
  },
  {
   "cell_type": "markdown",
   "metadata": {},
   "source": [
    "#### Cluster 3"
   ]
  },
  {
   "cell_type": "code",
   "execution_count": 143,
   "metadata": {},
   "outputs": [
    {
     "data": {
      "text/html": [
       "<div>\n",
       "<style scoped>\n",
       "    .dataframe tbody tr th:only-of-type {\n",
       "        vertical-align: middle;\n",
       "    }\n",
       "\n",
       "    .dataframe tbody tr th {\n",
       "        vertical-align: top;\n",
       "    }\n",
       "\n",
       "    .dataframe thead th {\n",
       "        text-align: right;\n",
       "    }\n",
       "</style>\n",
       "<table border=\"1\" class=\"dataframe\">\n",
       "  <thead>\n",
       "    <tr style=\"text-align: right;\">\n",
       "      <th></th>\n",
       "      <th>Borough</th>\n",
       "      <th>Neighborhood</th>\n",
       "      <th>Bars and Clubs</th>\n",
       "      <th>Restaurants</th>\n",
       "      <th>Services</th>\n",
       "      <th>Leisure and Sports</th>\n",
       "      <th>Education and Culture</th>\n",
       "      <th>Nature and Parks</th>\n",
       "      <th>Transportation</th>\n",
       "      <th>Residential</th>\n",
       "      <th>Cluster Labels</th>\n",
       "      <th>Latitude</th>\n",
       "      <th>Longitude</th>\n",
       "    </tr>\n",
       "  </thead>\n",
       "  <tbody>\n",
       "    <tr>\n",
       "      <th>12</th>\n",
       "      <td>Bronx</td>\n",
       "      <td>Country Club</td>\n",
       "      <td>0.333333</td>\n",
       "      <td>0.166667</td>\n",
       "      <td>0.166667</td>\n",
       "      <td>0.166667</td>\n",
       "      <td>0.0</td>\n",
       "      <td>0.000000</td>\n",
       "      <td>0.0</td>\n",
       "      <td>0.166667</td>\n",
       "      <td>2</td>\n",
       "      <td>40.844246</td>\n",
       "      <td>-73.824099</td>\n",
       "    </tr>\n",
       "    <tr>\n",
       "      <th>16</th>\n",
       "      <td>Bronx</td>\n",
       "      <td>Edgewater Park</td>\n",
       "      <td>0.454545</td>\n",
       "      <td>0.409091</td>\n",
       "      <td>0.045455</td>\n",
       "      <td>0.045455</td>\n",
       "      <td>0.0</td>\n",
       "      <td>0.045455</td>\n",
       "      <td>0.0</td>\n",
       "      <td>0.000000</td>\n",
       "      <td>2</td>\n",
       "      <td>40.821986</td>\n",
       "      <td>-73.813885</td>\n",
       "    </tr>\n",
       "    <tr>\n",
       "      <th>23</th>\n",
       "      <td>Bronx</td>\n",
       "      <td>Longwood</td>\n",
       "      <td>0.428571</td>\n",
       "      <td>0.428571</td>\n",
       "      <td>0.142857</td>\n",
       "      <td>0.000000</td>\n",
       "      <td>0.0</td>\n",
       "      <td>0.000000</td>\n",
       "      <td>0.0</td>\n",
       "      <td>0.000000</td>\n",
       "      <td>2</td>\n",
       "      <td>40.815099</td>\n",
       "      <td>-73.895788</td>\n",
       "    </tr>\n",
       "    <tr>\n",
       "      <th>30</th>\n",
       "      <td>Bronx</td>\n",
       "      <td>Mount Hope</td>\n",
       "      <td>0.400000</td>\n",
       "      <td>0.200000</td>\n",
       "      <td>0.300000</td>\n",
       "      <td>0.000000</td>\n",
       "      <td>0.0</td>\n",
       "      <td>0.000000</td>\n",
       "      <td>0.1</td>\n",
       "      <td>0.000000</td>\n",
       "      <td>2</td>\n",
       "      <td>40.848842</td>\n",
       "      <td>-73.908299</td>\n",
       "    </tr>\n",
       "    <tr>\n",
       "      <th>43</th>\n",
       "      <td>Bronx</td>\n",
       "      <td>Throgs Neck</td>\n",
       "      <td>0.583333</td>\n",
       "      <td>0.333333</td>\n",
       "      <td>0.000000</td>\n",
       "      <td>0.083333</td>\n",
       "      <td>0.0</td>\n",
       "      <td>0.000000</td>\n",
       "      <td>0.0</td>\n",
       "      <td>0.000000</td>\n",
       "      <td>2</td>\n",
       "      <td>40.815109</td>\n",
       "      <td>-73.816350</td>\n",
       "    </tr>\n",
       "  </tbody>\n",
       "</table>\n",
       "</div>"
      ],
      "text/plain": [
       "   Borough    Neighborhood  Bars and Clubs  Restaurants  Services  \\\n",
       "12   Bronx    Country Club        0.333333     0.166667  0.166667   \n",
       "16   Bronx  Edgewater Park        0.454545     0.409091  0.045455   \n",
       "23   Bronx        Longwood        0.428571     0.428571  0.142857   \n",
       "30   Bronx      Mount Hope        0.400000     0.200000  0.300000   \n",
       "43   Bronx     Throgs Neck        0.583333     0.333333  0.000000   \n",
       "\n",
       "    Leisure and Sports  Education and Culture  Nature and Parks  \\\n",
       "12            0.166667                    0.0          0.000000   \n",
       "16            0.045455                    0.0          0.045455   \n",
       "23            0.000000                    0.0          0.000000   \n",
       "30            0.000000                    0.0          0.000000   \n",
       "43            0.083333                    0.0          0.000000   \n",
       "\n",
       "    Transportation  Residential  Cluster Labels   Latitude  Longitude  \n",
       "12             0.0     0.166667               2  40.844246 -73.824099  \n",
       "16             0.0     0.000000               2  40.821986 -73.813885  \n",
       "23             0.0     0.000000               2  40.815099 -73.895788  \n",
       "30             0.1     0.000000               2  40.848842 -73.908299  \n",
       "43             0.0     0.000000               2  40.815109 -73.816350  "
      ]
     },
     "execution_count": 143,
     "metadata": {},
     "output_type": "execute_result"
    }
   ],
   "source": [
    "newyork_cluster_3 = newyork_encoded_venues_merged[newyork_encoded_venues_merged['Cluster Labels']==2]\n",
    "newyork_cluster_3.head()"
   ]
  },
  {
   "cell_type": "code",
   "execution_count": 144,
   "metadata": {},
   "outputs": [
    {
     "name": "stdout",
     "output_type": "stream",
     "text": [
      "New York Cluster 3 has : 50 Neighborhoods\n"
     ]
    }
   ],
   "source": [
    "print(\"New York Cluster 3 has : {} Neighborhoods\".format(newyork_cluster_3.shape[0]))"
   ]
  },
  {
   "cell_type": "markdown",
   "metadata": {},
   "source": [
    "#### Cluster 4"
   ]
  },
  {
   "cell_type": "code",
   "execution_count": 145,
   "metadata": {},
   "outputs": [
    {
     "data": {
      "text/html": [
       "<div>\n",
       "<style scoped>\n",
       "    .dataframe tbody tr th:only-of-type {\n",
       "        vertical-align: middle;\n",
       "    }\n",
       "\n",
       "    .dataframe tbody tr th {\n",
       "        vertical-align: top;\n",
       "    }\n",
       "\n",
       "    .dataframe thead th {\n",
       "        text-align: right;\n",
       "    }\n",
       "</style>\n",
       "<table border=\"1\" class=\"dataframe\">\n",
       "  <thead>\n",
       "    <tr style=\"text-align: right;\">\n",
       "      <th></th>\n",
       "      <th>Borough</th>\n",
       "      <th>Neighborhood</th>\n",
       "      <th>Bars and Clubs</th>\n",
       "      <th>Restaurants</th>\n",
       "      <th>Services</th>\n",
       "      <th>Leisure and Sports</th>\n",
       "      <th>Education and Culture</th>\n",
       "      <th>Nature and Parks</th>\n",
       "      <th>Transportation</th>\n",
       "      <th>Residential</th>\n",
       "      <th>Cluster Labels</th>\n",
       "      <th>Latitude</th>\n",
       "      <th>Longitude</th>\n",
       "    </tr>\n",
       "  </thead>\n",
       "  <tbody>\n",
       "    <tr>\n",
       "      <th>2</th>\n",
       "      <td>Bronx</td>\n",
       "      <td>Bedford Park</td>\n",
       "      <td>0.230769</td>\n",
       "      <td>0.435897</td>\n",
       "      <td>0.230769</td>\n",
       "      <td>0.000000</td>\n",
       "      <td>0.000000</td>\n",
       "      <td>0.025641</td>\n",
       "      <td>0.076923</td>\n",
       "      <td>0.0</td>\n",
       "      <td>3</td>\n",
       "      <td>40.870185</td>\n",
       "      <td>-73.885512</td>\n",
       "    </tr>\n",
       "    <tr>\n",
       "      <th>3</th>\n",
       "      <td>Bronx</td>\n",
       "      <td>Belmont</td>\n",
       "      <td>0.250000</td>\n",
       "      <td>0.440000</td>\n",
       "      <td>0.270000</td>\n",
       "      <td>0.000000</td>\n",
       "      <td>0.010000</td>\n",
       "      <td>0.020000</td>\n",
       "      <td>0.010000</td>\n",
       "      <td>0.0</td>\n",
       "      <td>3</td>\n",
       "      <td>40.857277</td>\n",
       "      <td>-73.888452</td>\n",
       "    </tr>\n",
       "    <tr>\n",
       "      <th>4</th>\n",
       "      <td>Bronx</td>\n",
       "      <td>Bronxdale</td>\n",
       "      <td>0.187500</td>\n",
       "      <td>0.437500</td>\n",
       "      <td>0.187500</td>\n",
       "      <td>0.062500</td>\n",
       "      <td>0.125000</td>\n",
       "      <td>0.000000</td>\n",
       "      <td>0.000000</td>\n",
       "      <td>0.0</td>\n",
       "      <td>3</td>\n",
       "      <td>40.852723</td>\n",
       "      <td>-73.861726</td>\n",
       "    </tr>\n",
       "    <tr>\n",
       "      <th>6</th>\n",
       "      <td>Bronx</td>\n",
       "      <td>City Island</td>\n",
       "      <td>0.095238</td>\n",
       "      <td>0.380952</td>\n",
       "      <td>0.238095</td>\n",
       "      <td>0.000000</td>\n",
       "      <td>0.095238</td>\n",
       "      <td>0.047619</td>\n",
       "      <td>0.142857</td>\n",
       "      <td>0.0</td>\n",
       "      <td>3</td>\n",
       "      <td>40.847247</td>\n",
       "      <td>-73.786488</td>\n",
       "    </tr>\n",
       "    <tr>\n",
       "      <th>14</th>\n",
       "      <td>Bronx</td>\n",
       "      <td>Eastchester</td>\n",
       "      <td>0.181818</td>\n",
       "      <td>0.409091</td>\n",
       "      <td>0.090909</td>\n",
       "      <td>0.045455</td>\n",
       "      <td>0.000000</td>\n",
       "      <td>0.000000</td>\n",
       "      <td>0.272727</td>\n",
       "      <td>0.0</td>\n",
       "      <td>3</td>\n",
       "      <td>40.887556</td>\n",
       "      <td>-73.827806</td>\n",
       "    </tr>\n",
       "  </tbody>\n",
       "</table>\n",
       "</div>"
      ],
      "text/plain": [
       "   Borough  Neighborhood  Bars and Clubs  Restaurants  Services  \\\n",
       "2    Bronx  Bedford Park        0.230769     0.435897  0.230769   \n",
       "3    Bronx       Belmont        0.250000     0.440000  0.270000   \n",
       "4    Bronx     Bronxdale        0.187500     0.437500  0.187500   \n",
       "6    Bronx   City Island        0.095238     0.380952  0.238095   \n",
       "14   Bronx   Eastchester        0.181818     0.409091  0.090909   \n",
       "\n",
       "    Leisure and Sports  Education and Culture  Nature and Parks  \\\n",
       "2             0.000000               0.000000          0.025641   \n",
       "3             0.000000               0.010000          0.020000   \n",
       "4             0.062500               0.125000          0.000000   \n",
       "6             0.000000               0.095238          0.047619   \n",
       "14            0.045455               0.000000          0.000000   \n",
       "\n",
       "    Transportation  Residential  Cluster Labels   Latitude  Longitude  \n",
       "2         0.076923          0.0               3  40.870185 -73.885512  \n",
       "3         0.010000          0.0               3  40.857277 -73.888452  \n",
       "4         0.000000          0.0               3  40.852723 -73.861726  \n",
       "6         0.142857          0.0               3  40.847247 -73.786488  \n",
       "14        0.272727          0.0               3  40.887556 -73.827806  "
      ]
     },
     "execution_count": 145,
     "metadata": {},
     "output_type": "execute_result"
    }
   ],
   "source": [
    "newyork_cluster_4 = newyork_encoded_venues_merged[newyork_encoded_venues_merged['Cluster Labels']==3]\n",
    "newyork_cluster_4.head()"
   ]
  },
  {
   "cell_type": "code",
   "execution_count": 146,
   "metadata": {},
   "outputs": [
    {
     "name": "stdout",
     "output_type": "stream",
     "text": [
      "New York Cluster 4 has : 118 Neighborhoods\n"
     ]
    }
   ],
   "source": [
    "print(\"New York Cluster 4 has : {} Neighborhoods\".format(newyork_cluster_4.shape[0]))"
   ]
  },
  {
   "cell_type": "markdown",
   "metadata": {},
   "source": [
    "#### Cluster 5"
   ]
  },
  {
   "cell_type": "code",
   "execution_count": 147,
   "metadata": {},
   "outputs": [
    {
     "data": {
      "text/html": [
       "<div>\n",
       "<style scoped>\n",
       "    .dataframe tbody tr th:only-of-type {\n",
       "        vertical-align: middle;\n",
       "    }\n",
       "\n",
       "    .dataframe tbody tr th {\n",
       "        vertical-align: top;\n",
       "    }\n",
       "\n",
       "    .dataframe thead th {\n",
       "        text-align: right;\n",
       "    }\n",
       "</style>\n",
       "<table border=\"1\" class=\"dataframe\">\n",
       "  <thead>\n",
       "    <tr style=\"text-align: right;\">\n",
       "      <th></th>\n",
       "      <th>Borough</th>\n",
       "      <th>Neighborhood</th>\n",
       "      <th>Bars and Clubs</th>\n",
       "      <th>Restaurants</th>\n",
       "      <th>Services</th>\n",
       "      <th>Leisure and Sports</th>\n",
       "      <th>Education and Culture</th>\n",
       "      <th>Nature and Parks</th>\n",
       "      <th>Transportation</th>\n",
       "      <th>Residential</th>\n",
       "      <th>Cluster Labels</th>\n",
       "      <th>Latitude</th>\n",
       "      <th>Longitude</th>\n",
       "    </tr>\n",
       "  </thead>\n",
       "  <tbody>\n",
       "    <tr>\n",
       "      <th>17</th>\n",
       "      <td>Bronx</td>\n",
       "      <td>Fieldston</td>\n",
       "      <td>0.000000</td>\n",
       "      <td>0.000000</td>\n",
       "      <td>0.000000</td>\n",
       "      <td>0.000000</td>\n",
       "      <td>0.000000</td>\n",
       "      <td>0.000000</td>\n",
       "      <td>0.500000</td>\n",
       "      <td>0.500000</td>\n",
       "      <td>4</td>\n",
       "      <td>40.895437</td>\n",
       "      <td>-73.905643</td>\n",
       "    </tr>\n",
       "    <tr>\n",
       "      <th>48</th>\n",
       "      <td>Bronx</td>\n",
       "      <td>West Farms</td>\n",
       "      <td>0.318182</td>\n",
       "      <td>0.090909</td>\n",
       "      <td>0.136364</td>\n",
       "      <td>0.045455</td>\n",
       "      <td>0.000000</td>\n",
       "      <td>0.045455</td>\n",
       "      <td>0.318182</td>\n",
       "      <td>0.045455</td>\n",
       "      <td>4</td>\n",
       "      <td>40.839475</td>\n",
       "      <td>-73.877745</td>\n",
       "    </tr>\n",
       "    <tr>\n",
       "      <th>56</th>\n",
       "      <td>Brooklyn</td>\n",
       "      <td>Bergen Beach</td>\n",
       "      <td>0.166667</td>\n",
       "      <td>0.000000</td>\n",
       "      <td>0.000000</td>\n",
       "      <td>0.333333</td>\n",
       "      <td>0.000000</td>\n",
       "      <td>0.000000</td>\n",
       "      <td>0.333333</td>\n",
       "      <td>0.166667</td>\n",
       "      <td>4</td>\n",
       "      <td>40.615150</td>\n",
       "      <td>-73.898556</td>\n",
       "    </tr>\n",
       "    <tr>\n",
       "      <th>96</th>\n",
       "      <td>Brooklyn</td>\n",
       "      <td>Marine Park</td>\n",
       "      <td>0.250000</td>\n",
       "      <td>0.125000</td>\n",
       "      <td>0.000000</td>\n",
       "      <td>0.625000</td>\n",
       "      <td>0.000000</td>\n",
       "      <td>0.000000</td>\n",
       "      <td>0.000000</td>\n",
       "      <td>0.000000</td>\n",
       "      <td>4</td>\n",
       "      <td>40.609748</td>\n",
       "      <td>-73.931344</td>\n",
       "    </tr>\n",
       "    <tr>\n",
       "      <th>150</th>\n",
       "      <td>Manhattan</td>\n",
       "      <td>Roosevelt Island</td>\n",
       "      <td>0.259259</td>\n",
       "      <td>0.111111</td>\n",
       "      <td>0.148148</td>\n",
       "      <td>0.111111</td>\n",
       "      <td>0.037037</td>\n",
       "      <td>0.111111</td>\n",
       "      <td>0.148148</td>\n",
       "      <td>0.074074</td>\n",
       "      <td>4</td>\n",
       "      <td>40.762160</td>\n",
       "      <td>-73.949168</td>\n",
       "    </tr>\n",
       "  </tbody>\n",
       "</table>\n",
       "</div>"
      ],
      "text/plain": [
       "       Borough      Neighborhood  Bars and Clubs  Restaurants  Services  \\\n",
       "17       Bronx         Fieldston        0.000000     0.000000  0.000000   \n",
       "48       Bronx        West Farms        0.318182     0.090909  0.136364   \n",
       "56    Brooklyn      Bergen Beach        0.166667     0.000000  0.000000   \n",
       "96    Brooklyn       Marine Park        0.250000     0.125000  0.000000   \n",
       "150  Manhattan  Roosevelt Island        0.259259     0.111111  0.148148   \n",
       "\n",
       "     Leisure and Sports  Education and Culture  Nature and Parks  \\\n",
       "17             0.000000               0.000000          0.000000   \n",
       "48             0.045455               0.000000          0.045455   \n",
       "56             0.333333               0.000000          0.000000   \n",
       "96             0.625000               0.000000          0.000000   \n",
       "150            0.111111               0.037037          0.111111   \n",
       "\n",
       "     Transportation  Residential  Cluster Labels   Latitude  Longitude  \n",
       "17         0.500000     0.500000               4  40.895437 -73.905643  \n",
       "48         0.318182     0.045455               4  40.839475 -73.877745  \n",
       "56         0.333333     0.166667               4  40.615150 -73.898556  \n",
       "96         0.000000     0.000000               4  40.609748 -73.931344  \n",
       "150        0.148148     0.074074               4  40.762160 -73.949168  "
      ]
     },
     "execution_count": 147,
     "metadata": {},
     "output_type": "execute_result"
    }
   ],
   "source": [
    "newyork_cluster_5 = newyork_encoded_venues_merged[newyork_encoded_venues_merged['Cluster Labels']==4]\n",
    "newyork_cluster_5.head()"
   ]
  },
  {
   "cell_type": "code",
   "execution_count": 148,
   "metadata": {},
   "outputs": [
    {
     "name": "stdout",
     "output_type": "stream",
     "text": [
      "New York Cluster 5 has : 24 Neighborhoods\n"
     ]
    }
   ],
   "source": [
    "print(\"New York Cluster 5 has : {} Neighborhoods\".format(newyork_cluster_5.shape[0]))"
   ]
  },
  {
   "cell_type": "markdown",
   "metadata": {},
   "source": [
    "### Describing distribution of New York's Venus subcategories with Pie Charts"
   ]
  },
  {
   "cell_type": "code",
   "execution_count": 149,
   "metadata": {},
   "outputs": [
    {
     "data": {
      "text/html": [
       "<div>\n",
       "<style scoped>\n",
       "    .dataframe tbody tr th:only-of-type {\n",
       "        vertical-align: middle;\n",
       "    }\n",
       "\n",
       "    .dataframe tbody tr th {\n",
       "        vertical-align: top;\n",
       "    }\n",
       "\n",
       "    .dataframe thead th {\n",
       "        text-align: right;\n",
       "    }\n",
       "</style>\n",
       "<table border=\"1\" class=\"dataframe\">\n",
       "  <thead>\n",
       "    <tr style=\"text-align: right;\">\n",
       "      <th></th>\n",
       "      <th>Cluster_1</th>\n",
       "      <th>Cluster_2</th>\n",
       "      <th>Cluster_3</th>\n",
       "      <th>Cluster_4</th>\n",
       "      <th>Cluster_5</th>\n",
       "      <th>labels</th>\n",
       "      <th>colors</th>\n",
       "    </tr>\n",
       "  </thead>\n",
       "  <tbody>\n",
       "    <tr>\n",
       "      <th>0</th>\n",
       "      <td>0.185136</td>\n",
       "      <td>0.040915</td>\n",
       "      <td>0.428240</td>\n",
       "      <td>0.212218</td>\n",
       "      <td>0.175138</td>\n",
       "      <td>Bars and Clubs</td>\n",
       "      <td>#FEBFB3</td>\n",
       "    </tr>\n",
       "    <tr>\n",
       "      <th>1</th>\n",
       "      <td>0.246567</td>\n",
       "      <td>0.067788</td>\n",
       "      <td>0.249891</td>\n",
       "      <td>0.418888</td>\n",
       "      <td>0.077074</td>\n",
       "      <td>Restaurants</td>\n",
       "      <td>#E1396C</td>\n",
       "    </tr>\n",
       "    <tr>\n",
       "      <th>2</th>\n",
       "      <td>0.393285</td>\n",
       "      <td>0.112719</td>\n",
       "      <td>0.135580</td>\n",
       "      <td>0.214904</td>\n",
       "      <td>0.110676</td>\n",
       "      <td>Services</td>\n",
       "      <td>#96D38C</td>\n",
       "    </tr>\n",
       "    <tr>\n",
       "      <th>3</th>\n",
       "      <td>0.058045</td>\n",
       "      <td>0.131920</td>\n",
       "      <td>0.054766</td>\n",
       "      <td>0.054073</td>\n",
       "      <td>0.189391</td>\n",
       "      <td>Leisure and Sports</td>\n",
       "      <td>#D0F9B1</td>\n",
       "    </tr>\n",
       "    <tr>\n",
       "      <th>4</th>\n",
       "      <td>0.029001</td>\n",
       "      <td>0.013889</td>\n",
       "      <td>0.030277</td>\n",
       "      <td>0.027315</td>\n",
       "      <td>0.009877</td>\n",
       "      <td>Education and Culture</td>\n",
       "      <td>#81B4B3</td>\n",
       "    </tr>\n",
       "    <tr>\n",
       "      <th>5</th>\n",
       "      <td>0.028193</td>\n",
       "      <td>0.531892</td>\n",
       "      <td>0.035882</td>\n",
       "      <td>0.032757</td>\n",
       "      <td>0.050781</td>\n",
       "      <td>Nature and Parks</td>\n",
       "      <td>#87CEFA</td>\n",
       "    </tr>\n",
       "    <tr>\n",
       "      <th>6</th>\n",
       "      <td>0.049523</td>\n",
       "      <td>0.055994</td>\n",
       "      <td>0.051336</td>\n",
       "      <td>0.031351</td>\n",
       "      <td>0.337385</td>\n",
       "      <td>Transportation</td>\n",
       "      <td>#FFD700</td>\n",
       "    </tr>\n",
       "    <tr>\n",
       "      <th>7</th>\n",
       "      <td>0.010250</td>\n",
       "      <td>0.044883</td>\n",
       "      <td>0.014027</td>\n",
       "      <td>0.008494</td>\n",
       "      <td>0.049679</td>\n",
       "      <td>Residential</td>\n",
       "      <td>#CECE28</td>\n",
       "    </tr>\n",
       "  </tbody>\n",
       "</table>\n",
       "</div>"
      ],
      "text/plain": [
       "   Cluster_1  Cluster_2  Cluster_3  Cluster_4  Cluster_5  \\\n",
       "0   0.185136   0.040915   0.428240   0.212218   0.175138   \n",
       "1   0.246567   0.067788   0.249891   0.418888   0.077074   \n",
       "2   0.393285   0.112719   0.135580   0.214904   0.110676   \n",
       "3   0.058045   0.131920   0.054766   0.054073   0.189391   \n",
       "4   0.029001   0.013889   0.030277   0.027315   0.009877   \n",
       "5   0.028193   0.531892   0.035882   0.032757   0.050781   \n",
       "6   0.049523   0.055994   0.051336   0.031351   0.337385   \n",
       "7   0.010250   0.044883   0.014027   0.008494   0.049679   \n",
       "\n",
       "                  labels   colors  \n",
       "0         Bars and Clubs  #FEBFB3  \n",
       "1            Restaurants  #E1396C  \n",
       "2               Services  #96D38C  \n",
       "3     Leisure and Sports  #D0F9B1  \n",
       "4  Education and Culture  #81B4B3  \n",
       "5       Nature and Parks  #87CEFA  \n",
       "6         Transportation  #FFD700  \n",
       "7            Residential  #CECE28  "
      ]
     },
     "execution_count": 149,
     "metadata": {},
     "output_type": "execute_result"
    }
   ],
   "source": [
    "# Columns list\n",
    "columns_clustering = [\"Bars and Clubs\", \"Restaurants\", \"Services\", \"Leisure and Sports\",\n",
    "                      \"Education and Culture\", \"Nature and Parks\", \"Transportation\", \"Residential\", \"Cluster Labels\"]\n",
    "\n",
    "newyork_clusters_dist = newyork_encoded_venues_merged[columns_clustering].groupby(\"Cluster Labels\").mean().T.reset_index(\n",
    "                                                                                                                    drop=True)\n",
    "newyork_clusters_dist.columns = ['Cluster_1', 'Cluster_2', 'Cluster_3', 'Cluster_4', 'Cluster_5']\n",
    "\n",
    "newyork_clusters_dist['labels'] = columns_clustering[:-1]\n",
    "\n",
    "newyork_clusters_dist['colors'] = ['#FEBFB3', '#E1396C', '#96D38C', '#D0F9B1', '#81B4B3', '#87CEFA', '#FFD700', '#CECE28']\n",
    "\n",
    "newyork_clusters_dist"
   ]
  },
  {
   "cell_type": "code",
   "execution_count": 150,
   "metadata": {},
   "outputs": [
    {
     "data": {
      "text/html": [
       "<iframe id=\"igraph\" scrolling=\"no\" style=\"border:none;\" seamless=\"seamless\" src=\"https://plot.ly/~mourabitelbachir/26.embed\" height=\"525px\" width=\"100%\"></iframe>"
      ],
      "text/plain": [
       "<plotly.tools.PlotlyDisplay object>"
      ]
     },
     "execution_count": 150,
     "metadata": {},
     "output_type": "execute_result"
    }
   ],
   "source": [
    "newyork_pie_cluster1  = go.Pie(labels=newyork_clusters_dist['labels'], \n",
    "                               values=newyork_clusters_dist['Cluster_1'],\n",
    "                               hoverinfo='label+percent', \n",
    "                               textposition=calculateTextpositions(newyork_clusters_dist['Cluster_1']),\n",
    "                               textfont=dict(size=15),\n",
    "                               pull=.05,\n",
    "                               hole=.2,\n",
    "                               marker=dict(colors=newyork_clusters_dist['colors'],\n",
    "                                           line=dict(color='#ffffff', width=2)))\n",
    "                               \n",
    "layout = go.Layout(title='Cluster 1')\n",
    "\n",
    "fig = go.Figure([newyork_pie_cluster1], layout=layout)\n",
    "\n",
    "ppy.iplot(fig, filename='newyork_pie_chart_cluster1')"
   ]
  },
  {
   "cell_type": "code",
   "execution_count": 151,
   "metadata": {
    "scrolled": false
   },
   "outputs": [
    {
     "data": {
      "text/html": [
       "<iframe id=\"igraph\" scrolling=\"no\" style=\"border:none;\" seamless=\"seamless\" src=\"https://plot.ly/~mourabitelbachir/28.embed\" height=\"525px\" width=\"100%\"></iframe>"
      ],
      "text/plain": [
       "<plotly.tools.PlotlyDisplay object>"
      ]
     },
     "execution_count": 151,
     "metadata": {},
     "output_type": "execute_result"
    }
   ],
   "source": [
    "newyork_pie_cluster2 = go.Pie(labels=newyork_clusters_dist['labels'], \n",
    "                               values=newyork_clusters_dist['Cluster_2'],\n",
    "                               hoverinfo='label+percent',\n",
    "                               textposition=calculateTextpositions(newyork_clusters_dist['Cluster_2']),\n",
    "                               textfont=dict(size=15),\n",
    "                               pull=.05,\n",
    "                               hole=.2,\n",
    "                               marker=dict(colors=newyork_clusters_dist['colors'],\n",
    "                                           line=dict(color='#ffffff', width=2)))\n",
    "\n",
    "layout = go.Layout(title='Cluster 2')\n",
    "\n",
    "fig = go.Figure([newyork_pie_cluster2], layout=layout)\n",
    "\n",
    "ppy.iplot(fig, filename='newyork_pie_chart_cluster2')"
   ]
  },
  {
   "cell_type": "code",
   "execution_count": 152,
   "metadata": {},
   "outputs": [
    {
     "data": {
      "text/html": [
       "<iframe id=\"igraph\" scrolling=\"no\" style=\"border:none;\" seamless=\"seamless\" src=\"https://plot.ly/~mourabitelbachir/30.embed\" height=\"525px\" width=\"100%\"></iframe>"
      ],
      "text/plain": [
       "<plotly.tools.PlotlyDisplay object>"
      ]
     },
     "execution_count": 152,
     "metadata": {},
     "output_type": "execute_result"
    }
   ],
   "source": [
    "newyork_pie_cluster3 = go.Pie(labels=newyork_clusters_dist['labels'], \n",
    "                               values=newyork_clusters_dist['Cluster_3'],\n",
    "                               hoverinfo='label+percent', \n",
    "                               textposition=calculateTextpositions(newyork_clusters_dist['Cluster_3']),\n",
    "                               textfont=dict(size=15),\n",
    "                               pull=.05,\n",
    "                               hole=.2,\n",
    "                               marker=dict(colors=newyork_clusters_dist['colors'],\n",
    "                                           line=dict(color='#ffffff', width=2)))\n",
    "\n",
    "layout = go.Layout(title='Cluster 3')\n",
    "\n",
    "fig = go.Figure([newyork_pie_cluster3], layout=layout)\n",
    "\n",
    "ppy.iplot(fig, filename='newyork_pie_chart_cluster3')"
   ]
  },
  {
   "cell_type": "code",
   "execution_count": 153,
   "metadata": {},
   "outputs": [
    {
     "data": {
      "text/html": [
       "<iframe id=\"igraph\" scrolling=\"no\" style=\"border:none;\" seamless=\"seamless\" src=\"https://plot.ly/~mourabitelbachir/32.embed\" height=\"525px\" width=\"100%\"></iframe>"
      ],
      "text/plain": [
       "<plotly.tools.PlotlyDisplay object>"
      ]
     },
     "execution_count": 153,
     "metadata": {},
     "output_type": "execute_result"
    }
   ],
   "source": [
    "newyork_pie_cluster4 = go.Pie(labels=newyork_clusters_dist['labels'], \n",
    "                               values=newyork_clusters_dist['Cluster_4'],\n",
    "                               hoverinfo='label+percent', \n",
    "                               textposition=calculateTextpositions(newyork_clusters_dist['Cluster_4']),\n",
    "                               textfont=dict(size=15),\n",
    "                               pull=.05,\n",
    "                               hole=.2,\n",
    "                               marker=dict(colors=newyork_clusters_dist['colors'],\n",
    "                                           line=dict(color='#ffffff', width=2)))\n",
    "\n",
    "layout = go.Layout(title='Cluster 4')\n",
    "\n",
    "fig = go.Figure([newyork_pie_cluster4], layout=layout)\n",
    "\n",
    "ppy.iplot(fig, filename='newyork_pie_chart_cluster4')"
   ]
  },
  {
   "cell_type": "code",
   "execution_count": 154,
   "metadata": {},
   "outputs": [
    {
     "data": {
      "text/html": [
       "<iframe id=\"igraph\" scrolling=\"no\" style=\"border:none;\" seamless=\"seamless\" src=\"https://plot.ly/~mourabitelbachir/34.embed\" height=\"525px\" width=\"100%\"></iframe>"
      ],
      "text/plain": [
       "<plotly.tools.PlotlyDisplay object>"
      ]
     },
     "execution_count": 154,
     "metadata": {},
     "output_type": "execute_result"
    }
   ],
   "source": [
    "newyork_pie_cluster5 = go.Pie(labels=newyork_clusters_dist['labels'], \n",
    "                               values=newyork_clusters_dist['Cluster_5'],\n",
    "                               hoverinfo='label+percent', \n",
    "                               textposition=calculateTextpositions(newyork_clusters_dist['Cluster_5']),\n",
    "                               textfont=dict(size=15),\n",
    "                               pull=.05,\n",
    "                               hole=.2,\n",
    "                               marker=dict(colors=newyork_clusters_dist['colors'],\n",
    "                                           line=dict(color='#ffffff', width=2)))\n",
    "\n",
    "layout = go.Layout(title='Cluster 5')\n",
    "\n",
    "fig = go.Figure([newyork_pie_cluster5], layout=layout)\n",
    "\n",
    "ppy.iplot(fig, filename='newyork_pie_chart_cluster5')"
   ]
  },
  {
   "cell_type": "markdown",
   "metadata": {},
   "source": [
    "### New york City Clusters Map"
   ]
  },
  {
   "cell_type": "markdown",
   "metadata": {},
   "source": [
    "Finally, let's visualize the resulting clusters for New york City."
   ]
  },
  {
   "cell_type": "code",
   "execution_count": 155,
   "metadata": {},
   "outputs": [
    {
     "data": {
      "text/html": [
       "\n",
       "        <iframe\n",
       "            width=\"100%\"\n",
       "            height=\"825px\"\n",
       "            src=\"index.html\"\n",
       "            frameborder=\"0\"\n",
       "            allowfullscreen\n",
       "        ></iframe>\n",
       "        "
      ],
      "text/plain": [
       "<IPython.lib.display.IFrame at 0x174d0d9f240>"
      ]
     },
     "execution_count": 155,
     "metadata": {},
     "output_type": "execute_result"
    }
   ],
   "source": [
    "# create map\n",
    "map_newyork_clusters = folium.Map(location=[newyork_latitude-0.028, newyork_longitude], zoom_start=11)\n",
    "\n",
    "# set color scheme for the clusters\n",
    "x = np.arange(kclusters)\n",
    "ys = [i+x+(i*x)**2 for i in range(kclusters)]\n",
    "colors_array = cm.rainbow(np.linspace(0, 1, len(ys)))\n",
    "rainbow = [colors.rgb2hex(i*0.8) for i in colors_array]\n",
    "\n",
    "\n",
    "map_newyork_clusters.choropleth(\n",
    "    geo_data=newyork_boroughs_geo,\n",
    "    fill_color='#8CABD4',\n",
    "    line_color='White',\n",
    "    fill_opacity=0.5, \n",
    "    line_opacity=0.7,\n",
    "    line_weight=2,\n",
    "    legend_name='New York City Boroughs Tabulation Areas',\n",
    "    reset=True\n",
    ")\n",
    "\n",
    "# add markers to the map\n",
    "for lat, lon, poi, cluster in zip(newyork_encoded_venues_merged['Latitude'], \n",
    "                                  newyork_encoded_venues_merged['Longitude'], \n",
    "                                  newyork_encoded_venues_merged['Neighborhood'], \n",
    "                                  newyork_encoded_venues_merged['Cluster Labels']):\n",
    "    \n",
    "    label = folium.Popup(str(poi) + ' Cluster ' + str(cluster+1), parse_html=True)\n",
    "    folium.CircleMarker(\n",
    "        [lat, lon],\n",
    "        radius=5,\n",
    "        popup=label,\n",
    "        color=rainbow[cluster-1],\n",
    "        fill=True,\n",
    "        fill_color=rainbow[cluster-1],\n",
    "        fill_opacity=0.7).add_to(map_newyork_clusters)\n",
    "\n",
    "       \n",
    "embed_map(map_newyork_clusters, heightVal='825px')"
   ]
  },
  {
   "cell_type": "code",
   "execution_count": null,
   "metadata": {},
   "outputs": [],
   "source": []
  }
 ],
 "metadata": {
  "kernelspec": {
   "display_name": "Python 3",
   "language": "python",
   "name": "python3"
  },
  "language_info": {
   "codemirror_mode": {
    "name": "ipython",
    "version": 3
   },
   "file_extension": ".py",
   "mimetype": "text/x-python",
   "name": "python",
   "nbconvert_exporter": "python",
   "pygments_lexer": "ipython3",
   "version": "3.6.4"
  }
 },
 "nbformat": 4,
 "nbformat_minor": 2
}
